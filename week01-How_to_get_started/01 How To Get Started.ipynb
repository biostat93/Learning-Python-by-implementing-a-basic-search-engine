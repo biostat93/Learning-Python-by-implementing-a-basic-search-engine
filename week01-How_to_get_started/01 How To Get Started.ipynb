{
 "cells": [
  {
   "cell_type": "markdown",
   "metadata": {
    "nbpresent": {
     "id": "661ffa30-f166-462a-a491-a9c184277c6f"
    },
    "slideshow": {
     "slide_type": "slide"
    }
   },
   "source": [
    "# Search Engine\n",
    "<img src='imgs/search_engines.jpg' width=500>"
   ]
  },
  {
   "cell_type": "markdown",
   "metadata": {
    "nbpresent": {
     "id": "af3a8905-c12c-47cf-81a3-a4f25f5b560a"
    },
    "slideshow": {
     "slide_type": "slide"
    }
   },
   "source": [
    "## Get the first Link from Web\n",
    "<img src='imgs/se1.jpg' width=500>"
   ]
  },
  {
   "cell_type": "markdown",
   "metadata": {
    "nbpresent": {
     "id": "c65a9bb6-a01e-4af4-8931-16ff76a365c2"
    },
    "slideshow": {
     "slide_type": "slide"
    }
   },
   "source": [
    "# Three Basic Functions:\n",
    "**Crawling** (week 1, 2, 3)\n",
    "--\n",
    "<img src='imgs/crawler.png'>"
   ]
  },
  {
   "cell_type": "markdown",
   "metadata": {
    "slideshow": {
     "slide_type": "slide"
    }
   },
   "source": [
    "**Indexing** (week 4, 5)\n",
    "--\n",
    "<img src='imgs/indexer.png'>"
   ]
  },
  {
   "cell_type": "markdown",
   "metadata": {
    "slideshow": {
     "slide_type": "slide"
    }
   },
   "source": [
    "**Ranking**  (week 6)\n",
    "--\n",
    "<img src='imgs/ranker.jpg'>"
   ]
  },
  {
   "cell_type": "markdown",
   "metadata": {
    "nbpresent": {
     "id": "8213fc7c-ed51-4189-a63f-33914b22ca65"
    },
    "slideshow": {
     "slide_type": "slide"
    }
   },
   "source": [
    "### QUIZ! \n",
    "Write a program to print number of minues in seven weeks"
   ]
  },
  {
   "cell_type": "code",
   "execution_count": 1,
   "metadata": {
    "nbpresent": {
     "id": "e1d2d182-5e88-46d6-b4dd-56224572810f"
    },
    "slideshow": {
     "slide_type": "slide"
    }
   },
   "outputs": [
    {
     "name": "stdout",
     "output_type": "stream",
     "text": [
      "70560\n"
     ]
    }
   ],
   "source": [
    "print 7 * 7 * 24 * 60"
   ]
  },
  {
   "cell_type": "markdown",
   "metadata": {
    "nbpresent": {
     "id": "c87c8fce-ca69-4b92-8f51-5ca5726dc588"
    }
   },
   "source": [
    "### Syntax Errors"
   ]
  },
  {
   "cell_type": "code",
   "execution_count": 2,
   "metadata": {
    "collapsed": true,
    "nbpresent": {
     "id": "b3e4a732-15d4-4533-8484-fda6d4917c8e"
    }
   },
   "outputs": [],
   "source": [
    "# print 2 + 3 *"
   ]
  },
  {
   "cell_type": "markdown",
   "metadata": {
    "nbpresent": {
     "id": "92eaab02-79ed-4cbf-807a-eb6402d36ab7"
    }
   },
   "source": [
    "### QUIZ!\n",
    "How far light travels in centimeters in 1 nano seconds?\n",
    "- Speed of lights = 299792458 meters/seconds\n",
    "- 1 meter = 100 centimeters\n",
    "- 1 nano seconds = $10^{-9}$ seconds"
   ]
  },
  {
   "cell_type": "code",
   "execution_count": 3,
   "metadata": {
    "nbpresent": {
     "id": "c19593d0-3e17-4a75-a441-2ecfba0056a1"
    }
   },
   "outputs": [
    {
     "name": "stdout",
     "output_type": "stream",
     "text": [
      "29.9792458\n"
     ]
    }
   ],
   "source": [
    "print 299792458 * 100 * 10 ** (-9)"
   ]
  },
  {
   "cell_type": "markdown",
   "metadata": {
    "nbpresent": {
     "id": "edca49c4-eafc-4ede-81e3-8008e9486c56"
    }
   },
   "source": [
    "### Variables"
   ]
  },
  {
   "cell_type": "code",
   "execution_count": 4,
   "metadata": {
    "nbpresent": {
     "id": "2b73c2b5-843c-4efe-8900-47ed30621743"
    }
   },
   "outputs": [
    {
     "name": "stdout",
     "output_type": "stream",
     "text": [
      "299792458\n"
     ]
    }
   ],
   "source": [
    "speed_of_lights = 299792458\n",
    "\n",
    "print speed_of_lights"
   ]
  },
  {
   "cell_type": "code",
   "execution_count": 5,
   "metadata": {
    "nbpresent": {
     "id": "80706a09-8b5b-4129-bc63-84c1d0130183"
    }
   },
   "outputs": [
    {
     "name": "stdout",
     "output_type": "stream",
     "text": [
      "29.9792458\n"
     ]
    }
   ],
   "source": [
    "nanostick = speed_of_lights * 10 ** (-9) * 100\n",
    "print nanostick"
   ]
  },
  {
   "cell_type": "markdown",
   "metadata": {
    "nbpresent": {
     "id": "c3161d79-7623-48f1-8ae1-68e0f26ac5c6"
    }
   },
   "source": [
    "### Strings\n",
    "A **sequence** of characters between single quotes ' ' or double quotes \" \"."
   ]
  },
  {
   "cell_type": "code",
   "execution_count": 6,
   "metadata": {
    "nbpresent": {
     "id": "34e5e8c9-3a82-4355-ad33-9b2fade4175e"
    }
   },
   "outputs": [
    {
     "name": "stdout",
     "output_type": "stream",
     "text": [
      "Hello, World!\n"
     ]
    }
   ],
   "source": [
    "first_string = 'Hello, World!'\n",
    "\n",
    "print first_string"
   ]
  },
  {
   "cell_type": "code",
   "execution_count": 7,
   "metadata": {
    "nbpresent": {
     "id": "db7e627d-601b-4227-85e3-f52cd299cf42"
    }
   },
   "outputs": [
    {
     "name": "stdout",
     "output_type": "stream",
     "text": [
      "Hello, World!\n"
     ]
    }
   ],
   "source": [
    "second_string = \"Hello, World!\"\n",
    "\n",
    "print second_string"
   ]
  },
  {
   "cell_type": "code",
   "execution_count": 8,
   "metadata": {
    "nbpresent": {
     "id": "954f88b6-872c-4a74-8867-0a8692f66297"
    }
   },
   "outputs": [
    {
     "name": "stdout",
     "output_type": "stream",
     "text": [
      "To be or not to be, that's the question.\n"
     ]
    }
   ],
   "source": [
    "third_string = \"To be or not to be, that's the question.\"\n",
    "\n",
    "print third_string"
   ]
  },
  {
   "cell_type": "markdown",
   "metadata": {},
   "source": [
    "### String Concatination"
   ]
  },
  {
   "cell_type": "code",
   "execution_count": 9,
   "metadata": {
    "nbpresent": {
     "id": "62b0bafd-38a4-4c62-832c-e1a5e5632c1b"
    }
   },
   "outputs": [
    {
     "name": "stdout",
     "output_type": "stream",
     "text": [
      "HelloJohn\n"
     ]
    }
   ],
   "source": [
    "name = \"John\"\n",
    "print \"Hello\" + name"
   ]
  },
  {
   "cell_type": "code",
   "execution_count": 10,
   "metadata": {
    "nbpresent": {
     "id": "019f3f69-0039-457c-bbcf-599b762897dc"
    }
   },
   "outputs": [
    {
     "name": "stdout",
     "output_type": "stream",
     "text": [
      "Hello John\n"
     ]
    }
   ],
   "source": [
    "print \"Hello \" + name"
   ]
  },
  {
   "cell_type": "code",
   "execution_count": 11,
   "metadata": {
    "nbpresent": {
     "id": "a437cbed-6d6a-4aee-9409-6c6a8382b7aa"
    }
   },
   "outputs": [
    {
     "name": "stdout",
     "output_type": "stream",
     "text": [
      "Hello John!\n"
     ]
    }
   ],
   "source": [
    "print \"Hello \" + name + \"!\""
   ]
  },
  {
   "cell_type": "code",
   "execution_count": 12,
   "metadata": {
    "collapsed": true,
    "nbpresent": {
     "id": "a7c691d8-718b-4b01-9bd2-cd0bff871717"
    }
   },
   "outputs": [],
   "source": [
    "age = 30\n",
    "\n",
    "# print \"I have \" + age + \" years old.\""
   ]
  },
  {
   "cell_type": "code",
   "execution_count": 13,
   "metadata": {
    "nbpresent": {
     "id": "614d896e-a972-4898-a748-40b4b086fc3b"
    }
   },
   "outputs": [
    {
     "name": "stdout",
     "output_type": "stream",
     "text": [
      "I have 30 years old.\n"
     ]
    }
   ],
   "source": [
    "print \"I have \" + str(age) + \" years old.\""
   ]
  },
  {
   "cell_type": "markdown",
   "metadata": {},
   "source": [
    "### Data Types"
   ]
  },
  {
   "cell_type": "code",
   "execution_count": 14,
   "metadata": {
    "nbpresent": {
     "id": "8396d068-62d1-4037-abc4-9314dc357f71"
    }
   },
   "outputs": [
    {
     "name": "stdout",
     "output_type": "stream",
     "text": [
      "<type 'str'>\n"
     ]
    }
   ],
   "source": [
    "print type(\"Hello\")"
   ]
  },
  {
   "cell_type": "code",
   "execution_count": 15,
   "metadata": {
    "nbpresent": {
     "id": "da48095c-4b45-4781-b661-ff9500951aa2"
    }
   },
   "outputs": [
    {
     "name": "stdout",
     "output_type": "stream",
     "text": [
      "<type 'int'>\n"
     ]
    }
   ],
   "source": [
    "print type(30)"
   ]
  },
  {
   "cell_type": "code",
   "execution_count": 16,
   "metadata": {
    "nbpresent": {
     "id": "ddf8fb4f-bd09-46ed-90e6-85f2cf3d044a"
    }
   },
   "outputs": [
    {
     "name": "stdout",
     "output_type": "stream",
     "text": [
      "<type 'float'>\n"
     ]
    }
   ],
   "source": [
    "print type(3.14)"
   ]
  },
  {
   "cell_type": "code",
   "execution_count": 17,
   "metadata": {
    "nbpresent": {
     "id": "85d879f9-9667-41f4-9962-9049ad7b055e"
    }
   },
   "outputs": [
    {
     "name": "stdout",
     "output_type": "stream",
     "text": [
      "HiHiHi\n"
     ]
    }
   ],
   "source": [
    "print \"Hi\" * 3"
   ]
  },
  {
   "cell_type": "markdown",
   "metadata": {
    "nbpresent": {
     "id": "de6a98ba-f676-4b7b-bf4c-cfafb055fc12"
    }
   },
   "source": [
    "### Indexing Strings"
   ]
  },
  {
   "cell_type": "code",
   "execution_count": 18,
   "metadata": {
    "collapsed": true,
    "nbpresent": {
     "id": "16d8171f-ec0e-4ffe-8401-cbc01ffc68ef"
    }
   },
   "outputs": [],
   "source": [
    "university_name = \"University of Tabriz\""
   ]
  },
  {
   "cell_type": "code",
   "execution_count": 19,
   "metadata": {
    "nbpresent": {
     "id": "7b45342f-179f-48aa-8811-9f949df574b7"
    }
   },
   "outputs": [
    {
     "name": "stdout",
     "output_type": "stream",
     "text": [
      "University of Tabriz\n"
     ]
    }
   ],
   "source": [
    "print university_name"
   ]
  },
  {
   "cell_type": "markdown",
   "metadata": {},
   "source": [
    "<img src='imgs/string1.jpg' width=750>"
   ]
  },
  {
   "cell_type": "code",
   "execution_count": 20,
   "metadata": {
    "nbpresent": {
     "id": "2ec8f011-f298-4c1e-9db1-3513ee8e622e"
    }
   },
   "outputs": [
    {
     "name": "stdout",
     "output_type": "stream",
     "text": [
      "U\n"
     ]
    }
   ],
   "source": [
    "print university_name[0]"
   ]
  },
  {
   "cell_type": "code",
   "execution_count": 21,
   "metadata": {
    "nbpresent": {
     "id": "d88160ef-368e-4cfc-aa3e-6f76ad77b5ad"
    }
   },
   "outputs": [
    {
     "name": "stdout",
     "output_type": "stream",
     "text": [
      "n\n"
     ]
    }
   ],
   "source": [
    "print university_name[1]"
   ]
  },
  {
   "cell_type": "code",
   "execution_count": 22,
   "metadata": {
    "nbpresent": {
     "id": "2bd0edae-177a-422c-b923-ae9378f173d5"
    }
   },
   "outputs": [
    {
     "name": "stdout",
     "output_type": "stream",
     "text": [
      "v\n"
     ]
    }
   ],
   "source": [
    "print university_name[1 + 2]"
   ]
  },
  {
   "cell_type": "code",
   "execution_count": 23,
   "metadata": {
    "nbpresent": {
     "id": "741b4c82-909c-4fa8-9aa8-305d44bc5aed"
    }
   },
   "outputs": [
    {
     "name": "stdout",
     "output_type": "stream",
     "text": [
      "20\n"
     ]
    }
   ],
   "source": [
    "print len(university_name)  # len() returns the length of any string"
   ]
  },
  {
   "cell_type": "code",
   "execution_count": 24,
   "metadata": {
    "nbpresent": {
     "id": "369ceb34-cbd0-4d05-8913-4320ca13eb4f"
    }
   },
   "outputs": [
    {
     "name": "stdout",
     "output_type": "stream",
     "text": [
      "z\n"
     ]
    }
   ],
   "source": [
    "print university_name[len(university_name) - 1]"
   ]
  },
  {
   "cell_type": "code",
   "execution_count": 25,
   "metadata": {
    "nbpresent": {
     "id": "c49cbece-f142-43b5-8d8b-de9197a491e8"
    },
    "scrolled": true
   },
   "outputs": [
    {
     "name": "stdout",
     "output_type": "stream",
     "text": [
      "z\n"
     ]
    }
   ],
   "source": [
    "n = len(university_name)\n",
    "\n",
    "print university_name[n - 1]"
   ]
  },
  {
   "cell_type": "markdown",
   "metadata": {},
   "source": [
    "### Reverse Indexing"
   ]
  },
  {
   "cell_type": "markdown",
   "metadata": {},
   "source": [
    "<img src='imgs/string2.jpg' width=750>"
   ]
  },
  {
   "cell_type": "code",
   "execution_count": 26,
   "metadata": {
    "nbpresent": {
     "id": "54222e84-b7d7-42f2-b839-a244f096932b"
    }
   },
   "outputs": [
    {
     "name": "stdout",
     "output_type": "stream",
     "text": [
      "z\n"
     ]
    }
   ],
   "source": [
    "print university_name[-1]"
   ]
  },
  {
   "cell_type": "code",
   "execution_count": 27,
   "metadata": {
    "nbpresent": {
     "id": "3f0477b2-54ca-4a13-a3e8-7442096436b8"
    }
   },
   "outputs": [
    {
     "name": "stdout",
     "output_type": "stream",
     "text": [
      "i\n"
     ]
    }
   ],
   "source": [
    "print university_name[-2]"
   ]
  },
  {
   "cell_type": "code",
   "execution_count": 28,
   "metadata": {
    "collapsed": true,
    "nbpresent": {
     "id": "cbbf7198-d887-4514-9a55-28462421fc27"
    }
   },
   "outputs": [],
   "source": [
    "# print university_name[20]  # Index Error"
   ]
  },
  {
   "cell_type": "code",
   "execution_count": 29,
   "metadata": {
    "nbpresent": {
     "id": "33cb0602-ee83-4c9b-9f3f-1206968ea92f"
    }
   },
   "outputs": [
    {
     "name": "stdout",
     "output_type": "stream",
     "text": [
      "University\n"
     ]
    }
   ],
   "source": [
    "print university_name[0:10]"
   ]
  },
  {
   "cell_type": "code",
   "execution_count": 30,
   "metadata": {
    "nbpresent": {
     "id": "28d16f97-650e-4d0f-ab15-7307c999d97e"
    }
   },
   "outputs": [
    {
     "name": "stdout",
     "output_type": "stream",
     "text": [
      "University\n"
     ]
    }
   ],
   "source": [
    "print university_name[:10]"
   ]
  },
  {
   "cell_type": "code",
   "execution_count": 31,
   "metadata": {
    "nbpresent": {
     "id": "1240ad92-4c26-484d-b493-06c378838ff5"
    }
   },
   "outputs": [
    {
     "name": "stdout",
     "output_type": "stream",
     "text": [
      "of\n"
     ]
    }
   ],
   "source": [
    "print university_name[11:13]"
   ]
  },
  {
   "cell_type": "code",
   "execution_count": 32,
   "metadata": {
    "nbpresent": {
     "id": "9a9a2566-abc3-4598-a3f5-48f857f8ee65"
    }
   },
   "outputs": [
    {
     "name": "stdout",
     "output_type": "stream",
     "text": [
      "Tabriz\n"
     ]
    }
   ],
   "source": [
    "print university_name[14:20]"
   ]
  },
  {
   "cell_type": "code",
   "execution_count": 33,
   "metadata": {
    "nbpresent": {
     "id": "7175e031-6035-404d-a5cd-3918aa909f60"
    }
   },
   "outputs": [
    {
     "name": "stdout",
     "output_type": "stream",
     "text": [
      "Tabriz\n"
     ]
    }
   ],
   "source": [
    "print university_name[14:]"
   ]
  },
  {
   "cell_type": "code",
   "execution_count": 34,
   "metadata": {
    "nbpresent": {
     "id": "be1b0660-0cde-4c11-81cd-57e64ea1fcc4"
    }
   },
   "outputs": [
    {
     "name": "stdout",
     "output_type": "stream",
     "text": [
      "University of Tabriz\n"
     ]
    }
   ],
   "source": [
    "print university_name[:]"
   ]
  },
  {
   "cell_type": "code",
   "execution_count": 35,
   "metadata": {
    "nbpresent": {
     "id": "c69c425a-72b2-4a73-9853-b62d7c1d9117"
    }
   },
   "outputs": [
    {
     "name": "stdout",
     "output_type": "stream",
     "text": [
      "11\n"
     ]
    }
   ],
   "source": [
    "print university_name.find('of')  # return the index of first occurance of the input string "
   ]
  },
  {
   "cell_type": "code",
   "execution_count": 36,
   "metadata": {
    "nbpresent": {
     "id": "10e719f2-8f96-4f43-beab-4c263bfd0965"
    }
   },
   "outputs": [
    {
     "name": "stdout",
     "output_type": "stream",
     "text": [
      "14\n"
     ]
    }
   ],
   "source": [
    "print university_name.find('Tabriz')"
   ]
  },
  {
   "cell_type": "code",
   "execution_count": 37,
   "metadata": {
    "nbpresent": {
     "id": "1426daa0-0569-4328-9209-e477ca12e9d8"
    }
   },
   "outputs": [
    {
     "name": "stdout",
     "output_type": "stream",
     "text": [
      "-1\n"
     ]
    }
   ],
   "source": [
    "print university_name.find('tabriz')"
   ]
  },
  {
   "cell_type": "code",
   "execution_count": 38,
   "metadata": {
    "nbpresent": {
     "id": "2a963a78-0419-4f66-bfeb-13eaf9a006c8"
    }
   },
   "outputs": [
    {
     "name": "stdout",
     "output_type": "stream",
     "text": [
      "2\n"
     ]
    }
   ],
   "source": [
    "print university_name.find('i')"
   ]
  },
  {
   "cell_type": "code",
   "execution_count": 39,
   "metadata": {
    "collapsed": true,
    "nbpresent": {
     "id": "029dd76f-0422-46d3-b645-548b1812680b"
    }
   },
   "outputs": [],
   "source": [
    "s = \"To be or not to be, that's the question\""
   ]
  },
  {
   "cell_type": "markdown",
   "metadata": {},
   "source": [
    "<img src='imgs/string3.jpg' width=750>"
   ]
  },
  {
   "cell_type": "code",
   "execution_count": 40,
   "metadata": {
    "nbpresent": {
     "id": "e9196682-a4fc-464f-a341-cfe5f15114cf"
    }
   },
   "outputs": [
    {
     "name": "stdout",
     "output_type": "stream",
     "text": [
      "3\n"
     ]
    }
   ],
   "source": [
    "print s.find('be')"
   ]
  },
  {
   "cell_type": "code",
   "execution_count": 41,
   "metadata": {
    "nbpresent": {
     "id": "7433520d-e1ca-4793-a909-86fbd7660bb9"
    }
   },
   "outputs": [
    {
     "name": "stdout",
     "output_type": "stream",
     "text": [
      "3\n"
     ]
    }
   ],
   "source": [
    "print s.find('be', 3)"
   ]
  },
  {
   "cell_type": "code",
   "execution_count": 42,
   "metadata": {
    "nbpresent": {
     "id": "9e440165-c678-4e32-9ed5-cefb19c900fc"
    }
   },
   "outputs": [
    {
     "name": "stdout",
     "output_type": "stream",
     "text": [
      "16\n"
     ]
    }
   ],
   "source": [
    "print s.find('be', 4)"
   ]
  },
  {
   "cell_type": "markdown",
   "metadata": {
    "nbpresent": {
     "id": "93bd2ee2-4857-4903-8ce0-959446a0fcf8"
    }
   },
   "source": [
    "### Getting Help"
   ]
  },
  {
   "cell_type": "code",
   "execution_count": 43,
   "metadata": {
    "collapsed": true,
    "nbpresent": {
     "id": "a6a4439d-61ec-494a-9d64-9f89439dc25f"
    }
   },
   "outputs": [],
   "source": [
    "# s.find?"
   ]
  },
  {
   "cell_type": "code",
   "execution_count": 44,
   "metadata": {
    "nbpresent": {
     "id": "7a431b66-251d-42a0-a9a7-6fb6847e09fa"
    }
   },
   "outputs": [
    {
     "name": "stdout",
     "output_type": "stream",
     "text": [
      "Help on built-in function find:\n",
      "\n",
      "find(...)\n",
      "    S.find(sub [,start [,end]]) -> int\n",
      "    \n",
      "    Return the lowest index in S where substring sub is found,\n",
      "    such that sub is contained within S[start:end].  Optional\n",
      "    arguments start and end are interpreted as in slice notation.\n",
      "    \n",
      "    Return -1 on failure.\n",
      "\n"
     ]
    }
   ],
   "source": [
    "help(s.find)"
   ]
  },
  {
   "cell_type": "code",
   "execution_count": 45,
   "metadata": {
    "nbpresent": {
     "id": "99e0c81b-5cc5-46cb-a356-01f1280f2cee"
    }
   },
   "outputs": [
    {
     "data": {
      "text/plain": [
       "['__add__',\n",
       " '__class__',\n",
       " '__contains__',\n",
       " '__delattr__',\n",
       " '__doc__',\n",
       " '__eq__',\n",
       " '__format__',\n",
       " '__ge__',\n",
       " '__getattribute__',\n",
       " '__getitem__',\n",
       " '__getnewargs__',\n",
       " '__getslice__',\n",
       " '__gt__',\n",
       " '__hash__',\n",
       " '__init__',\n",
       " '__le__',\n",
       " '__len__',\n",
       " '__lt__',\n",
       " '__mod__',\n",
       " '__mul__',\n",
       " '__ne__',\n",
       " '__new__',\n",
       " '__reduce__',\n",
       " '__reduce_ex__',\n",
       " '__repr__',\n",
       " '__rmod__',\n",
       " '__rmul__',\n",
       " '__setattr__',\n",
       " '__sizeof__',\n",
       " '__str__',\n",
       " '__subclasshook__',\n",
       " '_formatter_field_name_split',\n",
       " '_formatter_parser',\n",
       " 'capitalize',\n",
       " 'center',\n",
       " 'count',\n",
       " 'decode',\n",
       " 'encode',\n",
       " 'endswith',\n",
       " 'expandtabs',\n",
       " 'find',\n",
       " 'format',\n",
       " 'index',\n",
       " 'isalnum',\n",
       " 'isalpha',\n",
       " 'isdigit',\n",
       " 'islower',\n",
       " 'isspace',\n",
       " 'istitle',\n",
       " 'isupper',\n",
       " 'join',\n",
       " 'ljust',\n",
       " 'lower',\n",
       " 'lstrip',\n",
       " 'partition',\n",
       " 'replace',\n",
       " 'rfind',\n",
       " 'rindex',\n",
       " 'rjust',\n",
       " 'rpartition',\n",
       " 'rsplit',\n",
       " 'rstrip',\n",
       " 'split',\n",
       " 'splitlines',\n",
       " 'startswith',\n",
       " 'strip',\n",
       " 'swapcase',\n",
       " 'title',\n",
       " 'translate',\n",
       " 'upper',\n",
       " 'zfill']"
      ]
     },
     "execution_count": 45,
     "metadata": {},
     "output_type": "execute_result"
    }
   ],
   "source": [
    "dir(s)"
   ]
  },
  {
   "cell_type": "markdown",
   "metadata": {
    "nbpresent": {
     "id": "9cca194d-e406-44ae-af19-2b6ad5947b80"
    }
   },
   "source": [
    "### Multi-line Strings"
   ]
  },
  {
   "cell_type": "code",
   "execution_count": 46,
   "metadata": {
    "collapsed": true,
    "nbpresent": {
     "id": "7882009b-8226-4032-92e3-0f36b5812c94"
    }
   },
   "outputs": [],
   "source": [
    "s = \"\"\"Sometimes a string may be very long.\n",
    "In this case we can use triple quotes for\n",
    "strings which are multi-line strings.\"\"\""
   ]
  },
  {
   "cell_type": "code",
   "execution_count": 47,
   "metadata": {
    "nbpresent": {
     "id": "6e0b640d-7fd1-4df9-afaf-7a2cedb94f8a"
    }
   },
   "outputs": [
    {
     "name": "stdout",
     "output_type": "stream",
     "text": [
      "Sometimes a string may be very long.\n",
      "In this case we can use triple quotes for\n",
      "strings which are multi-line strings.\n"
     ]
    }
   ],
   "source": [
    "print s"
   ]
  },
  {
   "cell_type": "markdown",
   "metadata": {
    "nbpresent": {
     "id": "e0a07bbe-7ea1-4703-9588-d074bac0d126"
    }
   },
   "source": [
    "## Extracting links from a web page"
   ]
  },
  {
   "cell_type": "code",
   "execution_count": 48,
   "metadata": {
    "nbpresent": {
     "id": "38984b24-d19a-4e75-8ada-e405fc3ed8c2"
    }
   },
   "outputs": [
    {
     "name": "stdout",
     "output_type": "stream",
     "text": [
      "<!DOCTYPE html>\r\n",
      "<html dir=\"rtl\" lang=\"fa-IR\" prefix=\"og: http://ogp.me/ns#\">\r\n",
      "<head>\r\n",
      "    <meta charset=\"UTF-8\">\r\n",
      "    <meta name=\"viewport\" content=\"width=device-width, initial-scale=1\">\r\n",
      "    <link rel=\"profile\" href=\"http://gmpg.org/xfn/11\">\r\n",
      "    <link rel=\"pingback\" href=\"http://www.snrazavi.ir/xmlrpc.php\">\r\n",
      "    <title>وب سایت شخصی دکتر سید ناصر رضوی | آزمایشگاه هوش محاسباتی و یادگیری ماشین (همیاد)</title>\n",
      "\n",
      "<!-- This site is optimized with the Yoast SEO plugin v5.9.3 - https://yoast.com/wordpress/plugins/seo/ -->\n",
      "<meta name=\"description\" content=\"آزمایشگاه هوش محاسباتی و یادگیری ماشین (همیاد)\"/>\n",
      "<link rel=\"canonical\" href=\"http://www.snrazavi.ir/\" />\n",
      "<meta property=\"og:locale\" content=\"fa_IR\" />\n",
      "<meta property=\"og:type\" content=\"website\" />\n",
      "<meta property=\"og:title\" content=\"وب سایت شخصی دکتر سید ناصر رضوی | آزمایشگاه هوش محاسباتی و یادگیری ماشین (همیاد)\" />\n",
      "<meta property=\"og:description\" content=\"آزمایشگاه هوش محاسباتی و یادگیری ماشین (همیاد)\" />\n",
      "<meta property=\"og:url\" content=\"http://www.snrazavi.ir/\" />\n",
      "<meta property=\"og:site_name\" content=\"وب سایت شخصی دکتر سید ناصر رضوی\" />\n",
      "<meta name=\"twitter:card\" content=\"summary_large_image\" />\n",
      "<meta name=\"twitter:description\" content=\"آزمایشگاه هوش محاسباتی و یادگیری ماشین (همیاد)\" />\n",
      "<meta name=\"twitter:title\" content=\"وب سایت شخصی دکتر سید ناصر رضوی | آزمایشگاه هوش محاسباتی و یادگیری ماشین (همیاد)\" />\n",
      "<script type='application/ld+json'>{\"@context\":\"http:\\/\\/schema.org\",\"@type\":\"WebSite\",\"@id\":\"#website\",\"url\":\"http:\\/\\/www.snrazavi.ir\\/\",\"name\":\"\\u0648\\u0628 \\u0633\\u0627\\u06cc\\u062a \\u0634\\u062e\\u0635\\u06cc \\u062f\\u06a9\\u062a\\u0631 \\u0633\\u06cc\\u062f \\u0646\\u0627\\u0635\\u0631 \\u0631\\u0636\\u0648\\u06cc|\\u06cc\\u0627\\u062f\\u06af\\u06cc\\u0631\\u06cc \\u0639\\u0645\\u06cc\\u0642|\\u0634\\u0628\\u06a9\\u0647 \\u0639\\u0635\\u0628\\u06cc|\\u06cc\\u0627\\u062f\\u06af\\u06cc\\u0631\\u06cc \\u0698\\u0631\\u0641|\\u06cc\\u0627\\u062f\\u06af\\u06cc\\u0631\\u06cc \\u0645\\u0627\\u0634\\u06cc\\u0646\",\"potentialAction\":{\"@type\":\"SearchAction\",\"target\":\"http:\\/\\/www.snrazavi.ir\\/?s={search_term_string}\",\"query-input\":\"required name=search_term_string\"}}</script>\n",
      "<script type='application/ld+json'>{\"@context\":\"http:\\/\\/schema.org\",\"@type\":\"Person\",\"url\":\"http:\\/\\/www.snrazavi.ir\\/\",\"sameAs\":[\"https:\\/\\/www.facebook.com\\/seyed.naser.razavi\",\"https:\\/\\/www.youtube.com\\/c\\/SeyedNaserRazavi\"],\"@id\":\"#person\",\"name\":\"\\u062f\\u06a9\\u062a\\u0631 \\u0633\\u06cc\\u062f \\u0646\\u0627\\u0635\\u0631 \\u0631\\u0636\\u0648\\u06cc\"}</script>\n",
      "<!-- / Yoast SEO plugin. -->\n",
      "\n",
      "<link rel='dns-prefetch' href='//fonts.googleapis.com' />\n",
      "<link rel='dns-prefetch' href='//s.w.org' />\n",
      "<link rel=\"alternate\" type=\"application/rss+xml\" title=\"وب سایت شخصی دکتر سید ناصر رضوی &raquo; خوراک\" href=\"http://www.snrazavi.ir/feed/\" />\n",
      "<link rel=\"alternate\" type=\"application/rss+xml\" title=\"وب سایت شخصی دکتر سید ناصر رضوی &raquo; خوراک دیدگاه‌ها\" href=\"http://www.snrazavi.ir/comments/feed/\" />\n",
      "\t\t<script type=\"text/javascript\">\n",
      "\t\t\twindow._wpemojiSettings = {\"baseUrl\":\"https:\\/\\/s.w.org\\/images\\/core\\/emoji\\/2.3\\/72x72\\/\",\"ext\":\".png\",\"svgUrl\":\"https:\\/\\/s.w.org\\/images\\/core\\/emoji\\/2.3\\/svg\\/\",\"svgExt\":\".svg\",\"source\":{\"concatemoji\":\"http:\\/\\/www.snrazavi.ir\\/wp-includes\\/js\\/wp-emoji-release.min.js?ver=4.9.1\"}};\n",
      "\t\t\t!function(a,b,c){function d(a,b){var c=String.fromCharCode;l.clearRect(0,0,k.width,k.height),l.fillText(c.apply(this,a),0,0);var d=k.toDataURL();l.clearRect(0,0,k.width,k.height),l.fillText(c.apply(this,b),0,0);var e=k.toDataURL();return d===e}function e(a){var b;if(!l||!l.fillText)return!1;switch(l.textBaseline=\"top\",l.font=\"600 32px Arial\",a){case\"flag\":return!(b=d([55356,56826,55356,56819],[55356,56826,8203,55356,56819]))&&(b=d([55356,57332,56128,56423,56128,56418,56128,56421,56128,56430,56128,56423,56128,56447],[55356,57332,8203,56128,56423,8203,56128,56418,8203,56128,56421,8203,56128,56430,8203,56128,56423,8203,56128,56447]),!b);case\"emoji\":return b=d([55358,56794,8205,9794,65039],[55358,56794,8203,9794,65039]),!b}return!1}function f(a){var c=b.createElement(\"script\");c.src=a,c.defer=c.type=\"text/javascript\",b.getElementsByTagName(\"head\")[0].appendChild(c)}var g,h,i,j,k=b.createElement(\"canvas\"),l=k.getContext&&k.getContext(\"2d\");for(j=Array(\"flag\",\"emoji\"),c.supports={everything:!0,everythingExceptFlag:!0},i=0;i<j.length;i++)c.supports[j[i]]=e(j[i]),c.supports.everything=c.supports.everything&&c.supports[j[i]],\"flag\"!==j[i]&&(c.supports.everythingExceptFlag=c.supports.everythingExceptFlag&&c.supports[j[i]]);c.supports.everythingExceptFlag=c.supports.everythingExceptFlag&&!c.supports.flag,c.DOMReady=!1,c.readyCallback=function(){c.DOMReady=!0},c.supports.everything||(h=function(){c.readyCallback()},b.addEventListener?(b.addEventListener(\"DOMContentLoaded\",h,!1),a.addEventListener(\"load\",h,!1)):(a.attachEvent(\"onload\",h),b.attachEvent(\"onreadystatechange\",function(){\"complete\"===b.readyState&&c.readyCallback()})),g=c.source||{},g.concatemoji?f(g.concatemoji):g.wpemoji&&g.twemoji&&(f(g.twemoji),f(g.wpemoji)))}(window,document,window._wpemojiSettings);\n",
      "\t\t</script>\n",
      "\t\t<style type=\"text/css\">\n",
      "img.wp-smiley,\n",
      "img.emoji {\n",
      "\tdisplay: inline !important;\n",
      "\tborder: none !important;\n",
      "\tbox-shadow: none !important;\n",
      "\theight: 1em !important;\n",
      "\twidth: 1em !important;\n",
      "\tmargin: 0 .07em !important;\n",
      "\tvertical-align: -0.1em !important;\n",
      "\tbackground: none !important;\n",
      "\tpadding: 0 !important;\n",
      "}\n",
      "</style>\n",
      "<link rel='stylesheet' id='rs-plugin-settings-css'  href='http://www.snrazavi.ir/wp-content/plugins/revslider5.3/public/assets/css/settings.css?ver=5.2.6' type='text/css' media='all' />\n",
      "<style id='rs-plugin-settings-inline-css' type='text/css'>\n",
      "#rs-demo-id {}\n",
      "</style>\n",
      "<link rel='stylesheet' id='wordpress-popular-posts-css-css'  href='http://www.snrazavi.ir/wp-content/plugins/wordpress-popular-posts/public/css/wpp.css?ver=4.0.13' type='text/css' media='all' />\n",
      "<link rel='stylesheet' id='rainforest-style-css'  href='http://www.snrazavi.ir/wp-content/themes/rainforest/style.css?ver=4.9.1' type='text/css' media='all' />\n",
      "<link rel='stylesheet' id='rainforest-googlefonts-css'  href='https://fonts.googleapis.com/css?family=Open+Sans%3A400%2C300&#038;ver=4.9.1' type='text/css' media='all' />\n",
      "<link rel='stylesheet' id='addtoany-css'  href='http://www.snrazavi.ir/wp-content/plugins/add-to-any/addtoany.min.css?ver=1.14' type='text/css' media='all' />\n",
      "<script type='text/javascript' src='http://www.snrazavi.ir/wp-includes/js/jquery/jquery.js?ver=1.12.4'></script>\n",
      "<script type='text/javascript' src='http://www.snrazavi.ir/wp-includes/js/jquery/jquery-migrate.min.js?ver=1.4.1'></script>\n",
      "<script type='text/javascript' src='http://www.snrazavi.ir/wp-content/plugins/add-to-any/addtoany.min.js?ver=1.0'></script>\n",
      "<script type='text/javascript' src='http://www.snrazavi.ir/wp-content/plugins/revslider5.3/public/assets/js/jquery.themepunch.tools.min.js?ver=5.2.6'></script>\n",
      "<script type='text/javascript' src='http://www.snrazavi.ir/wp-content/plugins/revslider5.3/public/assets/js/jquery.themepunch.revolution.min.js?ver=5.2.6'></script>\n",
      "<link rel='https://api.w.org/' href='http://www.snrazavi.ir/wp-json/' />\n",
      "<link rel=\"EditURI\" type=\"application/rsd+xml\" title=\"RSD\" href=\"http://www.snrazavi.ir/xmlrpc.php?rsd\" />\n",
      "<link rel=\"wlwmanifest\" type=\"application/wlwmanifest+xml\" href=\"http://www.snrazavi.ir/wp-includes/wlwmanifest.xml\" /> \n",
      "<meta name=\"generator\" content=\"WordPress 4.9.1\" />\n",
      "\n",
      "<script type=\"text/javascript\">\n",
      "window.a2a_config=window.a2a_config||{};a2a_config.callbacks=[];a2a_config.overlays=[];a2a_config.templates={};a2a_localize = {\n",
      "\tShare: \"اشتراک گذاری\",\n",
      "\tSave: \"ذخیره\",\n",
      "\tSubscribe: \"عضویت\",\n",
      "\tEmail: \"Email\",\n",
      "\tBookmark: \"نشانه گذاری\",\n",
      "\tShowAll: \"نمایش همگی\",\n",
      "\tShowLess: \"نمایش حداقل\",\n",
      "\tFindServices: \"یافتن سرویس (ها)\",\n",
      "\tFindAnyServiceToAddTo: \"یافتن سریع دیگر سرویس ها برای اضافه کردن\",\n",
      "\tPoweredBy: \"قدرت یافته از\",\n",
      "\tShareViaEmail: \"Share via email\",\n",
      "\tSubscribeViaEmail: \"Subscribe via email\",\n",
      "\tBookmarkInYourBrowser: \"ثبت به عنوان علاقه مندی برای مرورگر شما\",\n",
      "\tBookmarkInstructions: \"Press Ctrl+D or \\u2318+D to bookmark this page\",\n",
      "\tAddToYourFavorites: \"اضافه کردن به علاقه مندی ها\",\n",
      "\tSendFromWebOrProgram: \"Send from any email address or email program\",\n",
      "\tEmailProgram: \"Email program\",\n",
      "\tMore: \"More&#8230;\"\n",
      "};\n",
      "\n",
      "</script>\n",
      "<script type=\"text/javascript\" src=\"https://static.addtoany.com/menu/page.js\" async=\"async\"></script>\n",
      "        <style type=\"text/css\">\n",
      "            \n",
      "            .site-branding { \n",
      "                background: 8dbdbd;\n",
      "                background: linear-gradient(385656, \n",
      "                8dbdbd); \n",
      "            }\n",
      "            .site-branding a { color: fff }\n",
      "            body { color: 5c5c5c }\n",
      "            hr { border-color: 71adad } \n",
      "            hr.toggle_line { border-color: 71adad } \n",
      "           \n",
      "            /*headings*/\n",
      "            h1, h2, h3, h4, h5, h6, .entry-title a:link, .entry-title a:visited { color: 5a8a8a }\n",
      "            .no-touch .entry-title a:hover, .entry-title a:active { color: #b7b7b7; }\n",
      "            .single-post .entry-title, body.page .entry-title { border-color: 5a8a8a }\n",
      "            .single-post h2.comments-title, .page h2.comments-title, .attachment h2.comments-title, .single-post h3.comment-reply-title, .page h3.comment-reply-title, .attachment h3.comment-reply-title {\n",
      "                color: 71adad            }\n",
      "            h2.comments-title { border-color: 71adad }\n",
      "            .tagline .site-description { color: 71adad }\n",
      "            .archive .archive-title {\n",
      "                color: ad7171;\n",
      "                border-color: ad7171;\n",
      "            }\n",
      "            .page-header-search { border-color: 5a8a8a; }\n",
      "            \n",
      "            /*pagination*/\n",
      "            .pagination .nav-links .current { color: 71adad; \n",
      "                border-color: 71adad            }\n",
      "            .pagination .nav-links .dots { color: 71adad }\n",
      "            .pagination a.page-numbers:link, .pagination a.page-numbers:visited { \n",
      "                color: 71adad \n",
      "            }\n",
      "            .no-touch .pagination a.page-numbers:hover, .pagination a.page-numbers:active { \n",
      "                color: #fff; \n",
      "                background-color: 5a8a8a;\n",
      "                border-color: 5a8a8a \n",
      "            }\n",
      "            \n",
      "            /*main navigation*/\n",
      "            .main-navigation a:hover { background-color: ad7171; }\n",
      "            .main-navigation .arrow-up { border-bottom-color: 5a8a8a }\n",
      "            .navbar > div > ul > li > a:hover { border-color: ad7171; }\n",
      "            \n",
      "            .main-navigation > div > ul > .current-menu-ancestor > a,\n",
      "            .main-navigation > div > ul > .current_page_ancestor > a,\n",
      "            .main-navigation > div > ul > .current-menu-item > a,\n",
      "            .main-navigation > div > ul > .current_page_item > a {\n",
      "                background-color: 71adad;\n",
      "            }\n",
      "            \n",
      "            .main-navigation > div > ul > li.current_page_item > a:link,\n",
      "            .main-navigation > div > ul > li.current_page_item > a:visited,\n",
      "            .main-navigation > div > ul > li.current_page_item > a:hover,\n",
      "            .main-navigation > div > ul > li.current-menu-item > a:link,\n",
      "            .main-navigation > div > ul > li.current-menu-item > a:visited,\n",
      "            .main-navigation > div > ul > li.current-menu-item > a:hover,\n",
      "            .main-navigation > div > ul > li.current_page_ancestor > a:link,\n",
      "            .main-navigation > div > ul > li.current_page_ancestor > a:visited,\n",
      "            .main-navigation > div > ul > li.current_page_ancestor > a:hover,\n",
      "            .main-navigation > div > ul > li.current-menu-ancestor > a:link,\n",
      "            .main-navigation > div > ul > li.current-menu-ancestor > a:visited,\n",
      "            .main-navigation > div > ul > li.current-menu-ancestor > a:hover {\n",
      "                border-color: 71adad;\n",
      "            }\n",
      "            \n",
      "            @media only screen and (min-width: 769px) {\n",
      "                .main-navigation > div > ul > li.current_page_item > a:link,\n",
      "                .main-navigation > div > ul > li.current_page_item > a:visited,\n",
      "                .main-navigation > div > ul > li.current_page_item > a:hover,\n",
      "                .main-navigation > div > ul > li.current-menu-item > a:link,\n",
      "                .main-navigation > div > ul > li.current-menu-item > a:visited,\n",
      "                .main-navigation > div > ul > li.current-menu-item > a:hover,\n",
      "                .main-navigation > div > ul > li.current_page_ancestor > a:link,\n",
      "                .main-navigation > div > ul > li.current_page_ancestor > a:visited,\n",
      "                .main-navigation > div > ul > li.current_page_ancestor > a:hover,\n",
      "                .main-navigation > div > ul > li.current-menu-ancestor > a:link,\n",
      "                .main-navigation > div > ul > li.current-menu-ancestor > a:visited,\n",
      "                .main-navigation > div > ul > li.current-menu-ancestor > a:hover {\n",
      "                    border: none;\n",
      "                }\n",
      "            }\n",
      "            \n",
      "            .main-navigation .sub-menu a:link, .main-navigation .sub-menu a:visited {\n",
      "                background-color: 5a8a8a;\n",
      "                border-color: 5a8a8a;\n",
      "            }\n",
      "            \n",
      "            .main-navigation .sub-menu a:hover {\n",
      "                background-color: ad7171 !important;\n",
      "            }\n",
      "            .menu-box { border-color: 71adad; }\n",
      "            .no-touch .menu-box:hover { background-color: 71adad; }\n",
      "            .menu-box .menu-title { color: 71adad; }\n",
      "            .menu-box .menu-icon:before { \n",
      "                background: 71adad;\n",
      "                box-shadow: \n",
      "                0 0.6em 0 0 71adad,\n",
      "                0 1.2em 0 0 71adad;\n",
      "            }\n",
      "            \n",
      "            /*forms*/            \n",
      "            button, input[type=\"button\"], input[type=\"reset\"], input[type=\"submit\"] {  background-color: 71adad; }\n",
      "            .no-touch button:hover, .no-touch input[type=\"button\"]:hover, .no-touch input[type=\"reset\"]:hover, .no-touch input[type=\"submit\"]:hover, button:active, input[type=\"button\"]:active, input[type=\"reset\"]:active, input[type=\"submit\"]:active, button:focus, input[type=\"button\"]:focus, input[type=\"reset\"]:focus, input[type=\"submit\"]:focus {\n",
      "                background-color: 5a8a8a!important; \n",
      "            } \n",
      "            \n",
      "            /*special links*/\n",
      "            a.more-link:link, a.read-more:link, a.more-link:visited, a.read-more:visited {\n",
      "                color: ad7171;\n",
      "            }\n",
      "            .comments a:link, .comments a:visited {\n",
      "                background-color: ad7171;\n",
      "            }            \n",
      "            .no-touch .comments a:hover, .comments a:active, .no-touch .comments a:focus, .comments a:focus {  \n",
      "                background-color: 5a8a8a !important;\n",
      "                color: #fff !important;\n",
      "            }\n",
      "            .post-links a:link, .image-navigation .nav-links a:link, .post-links a:visited, .image-navigation .nav-links a:visited, \n",
      "            .no-touch .post-links a:link, .no-touch .image-navigation .nav-links a:link, .no-touch .post-links a:visited, .no-touch .image-navigation .nav-links a:visited {\n",
      "                background-color: ad7171;\n",
      "                color: #fff;\n",
      "            } \n",
      "            \n",
      "            .no-touch .post-links a:hover, .no-touch.image-navigation .nav-links a:hover,\n",
      "            .no-touch .post-links a:active, .no-touch .image-navigation a:active {\n",
      "                background-color: #f8f8f8;\n",
      "                color: #6b6b6b;\n",
      "            } \n",
      "            .page-links { color: 71adad; }\n",
      "            .page-links div {\n",
      "                border-color: 71adad; \n",
      "            }\n",
      "            .page-links div > .page-link-number {\n",
      "                border-color: 71adad;\n",
      "            }\n",
      "            .page-links a:link, .page-links a:visited {\n",
      "                color: 71adad;\n",
      "            }\n",
      "            .no-touch .page-links a:hover, .page-links a:active {\n",
      "                background-color: 5a8a8a;\n",
      "                color: #fff;\n",
      "                border-color: 5a8a8a; \n",
      "            }\n",
      "            .no-touch .comment-navigation .nav-links a:hover, .comment-navigation .nav-links a:active {\n",
      "                background-color: ad7171;\n",
      "                border-color: ad7171;\n",
      "            }\n",
      "            .no-touch .posts-navigation .nav-links a:hover, .posts-navigation .nav-links a:active { \n",
      "                background-color: ad7171;\n",
      "                border-color: ad7171;\n",
      "            }\n",
      "            \n",
      "            /*comments*/\n",
      "            .comment-list .comment .comment-meta {\n",
      "                background-color: 71adad; \n",
      "            }\n",
      "            .comment-list .comment article.comment-body {\n",
      "                border-color: 71adad;\n",
      "            }\n",
      "            .no-touch a.comment-edit-link:hover, a.comment-edit-link:active { background-color: 5a8a8a; }\n",
      "            .no-touch .pinglist a.comment-edit-link:hover, .pinglist a.comment-edit-link:active { \n",
      "                background-color: 5a8a8a; \n",
      "                border-color: 5a8a8a; \n",
      "            }\n",
      "            .pinglist li {\n",
      "                border-bottom-color: 5a8a8a; \n",
      "            }\n",
      "            .reply a:link, .reply a:visited {\n",
      "                background-color: 71adad; \n",
      "            }\n",
      "            .no-touch .reply a.comment-reply-link:hover, .reply a.comment-reply-link:active { background-color: 5a8a8a !important; }\n",
      "            a#cancel-comment-reply-link:link, a#cancel-comment-reply-link:visited {\n",
      "                color: ad7171;\n",
      "            }\n",
      "            .no-comments { color: ad7171; }\n",
      "            \n",
      "            /*tables*/\n",
      "            #primary table .headRow { background-color: 71adad; }\n",
      "            #primary table, #primary tr, #primary td { border-color: 71adad; }\n",
      "            @media only screen and (max-width: 600px) {\n",
      "                #primary table .thVertical { background-color: 71adad; }\n",
      "            }\n",
      "            #primary .table-wrapper .tableWithoutHeader { border-color: 71adad; }\n",
      "            /*sidebar and widgets*/\n",
      "            aside#secondary .widget .widget-title { color: ad7171; }\n",
      "            aside#secondary .widget.widget_calendar #wp-calendar tbody tr:nth-child(odd) {\n",
      "                background-color: 5a8a8a;\n",
      "            }\n",
      "            aside#secondary .widget.widget_calendar #wp-calendar tfoot a:link, aside#secondary .widget.widget_calendar #wp-calendar tfoot a:visited {\n",
      "                color: 5a8a8a;\n",
      "            }   \n",
      "            aside#secondary .widget.widget_recent_comments li, aside#secondary .widget.widget_recent_entries li, \n",
      "            aside#secondary .widget.widget_recent_comments li a:link, aside#secondary .widget.widget_recent_entries li a:link, aside#secondary .widget.widget_recent_comments li a:visited, aside#secondary .widget.widget_recent_entries li a:visited,\n",
      "            aside#secondary .widget.widget_meta a:link, aside#secondary .widget.widget_meta a:visited, aside#secondary .widget.widget_meta a:hover {\n",
      "                color: 5a8a8a;\n",
      "            }    \n",
      "            .no-touch aside#secondary .widget.widget_recent_comments li a:hover, .no-touch aside#secondary .widget.widget_recent_entries li a:hover,\n",
      "            aside#secondary .widget.widget_recent_comments li a:active, aside#secondary .widget.widget_recent_entries li a:active {\n",
      "                color: #b7b7b7;\n",
      "            }\n",
      "            aside#secondary .widget.widget_text .textwidget, aside#secondary .widget.widget_categories li a {\n",
      "                color: 5a8a8a;\n",
      "            }\n",
      "           \n",
      "            aside#secondary .widget.widget_archive li, aside#secondary .widget.widget_archive li a {\n",
      "                color: 5a8a8a;\n",
      "            }\n",
      "            aside#secondary .widget.widget_pages ul li .arrow-down, aside#secondary .widget.widget_nav_menu ul li .arrow-down {\n",
      "                border-top-color: 5a8a8a;\n",
      "            }  \n",
      "            aside#secondary .widget.widget_pages ul li a, aside#secondary .widget.widget_nav_menu ul li a {\n",
      "                color: 5a8a8a;\n",
      "            }\n",
      "            aside#secondary .widget.widget_pages ul li, aside#secondary .widget.widget_nav_menu ul li {\n",
      "                 color: 5a8a8a;\n",
      "            }\n",
      "            aside#secondary .widget.widget_tag_cloud a, aside#secondary .widget.widget_text a {\n",
      "                color: 5a8a8a;\n",
      "            }\n",
      "            \n",
      "            /*sticky*/\n",
      "            .sticky.hentry { background-color: f3f7f7;\n",
      "                color: 4c4949 \n",
      "            }\n",
      "            main .sticky .entry-content a:link, main .sticky .entry-content a:visited { color: b7b7b7;}\n",
      "            .sticky .tags-links, .sticky .entry-meta, .sticky .cat-links,\n",
      "            .sticky .tags-links a:link, .sticky .cat-links a:link, .sticky .tags-links a:visited, \n",
      "            .sticky .cat-links a:visited, .sticky .entry-meta a:link, \n",
      "            .sticky .entry-meta a:visited { color: 4c4949}\n",
      "            .sticky .entry-title a { color: 4f7979 } \n",
      "            aside#secondary { background-color: f3f7f7 }       \n",
      "        </style>\n",
      "    <meta name=\"generator\" content=\"Powered by Slider Revolution 5.2.6 - responsive, Mobile-Friendly Slider Plugin for WordPress with comfortable drag and drop interface.\" />\n",
      "\r\n",
      "</head>\r\n",
      "\r\n",
      "<body class=\"rtl home blog group-blog hfeed\" id=\"top\">\r\n",
      "    <div id=\"page\" class=\"site\"> <!-- .container-->\r\n",
      "        <a class=\"skip-link screen-reader-text\" href=\"#main\">Skip to content</a>\r\n",
      "\r\n",
      "        <header id=\"masthead\" class=\"site-header\">     \r\n",
      "\t\t\t\r\n",
      "\t\t\t\r\n",
      "            <div class=\"site-branding\" style=\"\"><!-- .header-->  \r\n",
      "\t\t\t\t<div style=\"display:block; text-align:center; width: 100%; height:100px; margin-top: 5px\">\r\n",
      "\t\t\t\t\t<h2 style=\"margin: 0;\">\r\n",
      "\t\t\t\t\t\t<a style=\" padding: 0\" href=\"http://www.snrazavi.ir/\" rel=\"home\">وب سایت شخصی دکتر سید ناصر رضوی</a>\r\n",
      "\t\t\t\t\t\t\r\n",
      "\t\t\t\t\t</h2>\r\n",
      "\t\t\t\t\t\t\t\t\t\t\t\t<a style=\"font-size: 0.9em;  padding-bottom: 2em; margin: 0; color: #ffffff\" class=\"site-description\">آزمایشگاه هوش محاسباتی و یادگیری ماشین (همیاد)</a>\r\n",
      "\t\t\t\t\t\t \r\n",
      "\t\t\t\t</div>\t\t\t\t\r\n",
      "            </div><!-- .site-branding -->\r\n",
      "\t\t\t<hr class=\"toggle_line\" />\r\n",
      "            \r\n",
      "\r\n",
      "\t\t\t<div class=\"menu-box\" aria-controls=\"primary-menu\" aria-expanded=\"false\" role=\"button\">\r\n",
      "                <div class=\"menu-icon\"></div>\r\n",
      "                <div class=\"menu-title\">MENU</div>\r\n",
      "            </div>            \r\n",
      "                            <nav id=\"site-navigation\" class=\"navbar main-navigation\"><!-- .main-nav = .top -->\r\n",
      "                    <div class=\"menu-%d9%85%d9%86%d9%88%db%8c-%d8%a7%d8%b5%d9%84%db%8c-container\"><ul id=\"primary-menu\" class=\"menu\"><li id=\"menu-item-50\" class=\"menu-item menu-item-type-custom menu-item-object-custom current-menu-item current_page_item menu-item-home menu-item-50\"><a href=\"http://www.snrazavi.ir/\">صفحه اصلی</a></li>\n",
      "<li id=\"menu-item-51\" class=\"menu-item menu-item-type-taxonomy menu-item-object-category menu-item-51\"><a href=\"http://www.snrazavi.ir/category/workshops/\">دوره‌های آموزشی</a></li>\n",
      "<li id=\"menu-item-79\" class=\"menu-item menu-item-type-post_type menu-item-object-page menu-item-79\"><a href=\"http://www.snrazavi.ir/about-us/\">آشنایی با فعالیت‌های ما</a></li>\n",
      "</ul></div>                </nav><!-- #site-navigation -->\r\n",
      "            \r\n",
      "                    <hr class=\"toggle_line\" />\r\n",
      "        </header><!-- #masthead -->\r\n",
      "\r\n",
      "\r\n",
      "        <div class=\"clear\"></div>\r\n",
      "\r\n",
      "        <div id=\"content\" class=\"site-content\"><!-- .main -->\r\n",
      "\r\n",
      "<div id=\"primary\" class=\"content-area\"><!-- .content -->\r\n",
      "    <main id=\"main\" class=\"site-main\">\r\n",
      "\t\r\n",
      "<article id=\"post-423\" class=\"post-423 post type-post status-publish format-standard has-post-thumbnail hentry category-hamyad tag-57 tag-deep-learning tag-dl tag-machine-learning\">\r\n",
      "    <header class=\"entry-header\">\r\n",
      "        <h1 class=\"entry-title\"><a href=\"http://www.snrazavi.ir/how-to-learn-deep-learning/\" rel=\"bookmark\">چگونه یادگیری عمیق را عمیق یاد بگیرم؟</a></h1>            <div class=\"entry-meta\">\r\n",
      "                <span class=\"posted-on\"><time class=\"entry-date published\" datetime=\"۱۳۹۶-۹-۱۶ ۱۸:۱۶:۰۳ +۰۰:۰۰\">آذر ۱۶, ۱۳۹۶</time><time class=\"updated\" datetime=\"۱۳۹۶-۹-۲۰ ۱۶:۳۲:۴۸ +۰۰:۰۰\">آذر ۲۰, ۱۳۹۶</time></span>\r\n",
      "            </div><!-- .entry-meta -->\r\n",
      "                \r\n",
      "    </header><!-- .entry-header -->\r\n",
      "    \r\n",
      "    \t\r\n",
      "        <div class=\"entry-content\">\r\n",
      "            \r\n",
      "                            <a href=\"http://www.snrazavi.ir/how-to-learn-deep-learning/\" title=\"چگونه یادگیری عمیق را عمیق یاد بگیرم؟\" class=\"img-link\"><img width=\"150\" height=\"150\" src=\"http://www.snrazavi.ir/wp-content/uploads/2017/10/Neuron-150x150.png\" class=\"attachment-rainforest_thumb size-rainforest_thumb wp-post-image\" alt=\"یادگیری ژرف\" /></a>\r\n",
      "            <p>در چند سال گذشته، یادگیری ژرف یا یادگیری عمیق به یکی از جذاب‌ترین زمینه‌های پژوهشی تبدیل گشته و دستاوردهای بسیاری نیز در حوزه‌های گوناگون به دنبال داشته است. در این نوشته نکاتی چند به منظور راهنمایی افراد علاقمند به پژوهش در این حوزه بسیار جذاب ارائه می‌گردد.</p>\n",
      "<div class=\"addtoany_share_save_container addtoany_content_bottom\"><div class=\"a2a_kit a2a_kit_size_32 addtoany_list\" data-a2a-url=\"http://www.snrazavi.ir/how-to-learn-deep-learning/\" data-a2a-title=\"چگونه یادگیری عمیق را عمیق یاد بگیرم؟\"><a class=\"a2a_button_facebook\" href=\"https://www.addtoany.com/add_to/facebook?linkurl=http%3A%2F%2Fwww.snrazavi.ir%2Fhow-to-learn-deep-learning%2F&amp;linkname=%DA%86%DA%AF%D9%88%D9%86%D9%87%20%DB%8C%D8%A7%D8%AF%DA%AF%DB%8C%D8%B1%DB%8C%20%D8%B9%D9%85%DB%8C%D9%82%20%D8%B1%D8%A7%20%D8%B9%D9%85%DB%8C%D9%82%20%DB%8C%D8%A7%D8%AF%20%D8%A8%DA%AF%DB%8C%D8%B1%D9%85%D8%9F\" title=\"Facebook\" rel=\"nofollow noopener\" target=\"_blank\"></a><a class=\"a2a_button_twitter\" href=\"https://www.addtoany.com/add_to/twitter?linkurl=http%3A%2F%2Fwww.snrazavi.ir%2Fhow-to-learn-deep-learning%2F&amp;linkname=%DA%86%DA%AF%D9%88%D9%86%D9%87%20%DB%8C%D8%A7%D8%AF%DA%AF%DB%8C%D8%B1%DB%8C%20%D8%B9%D9%85%DB%8C%D9%82%20%D8%B1%D8%A7%20%D8%B9%D9%85%DB%8C%D9%82%20%DB%8C%D8%A7%D8%AF%20%D8%A8%DA%AF%DB%8C%D8%B1%D9%85%D8%9F\" title=\"Twitter\" rel=\"nofollow noopener\" target=\"_blank\"></a><a class=\"a2a_button_google_plus\" href=\"https://www.addtoany.com/add_to/google_plus?linkurl=http%3A%2F%2Fwww.snrazavi.ir%2Fhow-to-learn-deep-learning%2F&amp;linkname=%DA%86%DA%AF%D9%88%D9%86%D9%87%20%DB%8C%D8%A7%D8%AF%DA%AF%DB%8C%D8%B1%DB%8C%20%D8%B9%D9%85%DB%8C%D9%82%20%D8%B1%D8%A7%20%D8%B9%D9%85%DB%8C%D9%82%20%DB%8C%D8%A7%D8%AF%20%D8%A8%DA%AF%DB%8C%D8%B1%D9%85%D8%9F\" title=\"Google+\" rel=\"nofollow noopener\" target=\"_blank\"></a><a class=\"a2a_dd addtoany_share_save\" href=\"https://www.addtoany.com/share\"></a></div></div>        </div><!-- .entry-content -->\r\n",
      "    \r\n",
      "    <footer class=\"entry-footer\">\r\n",
      "\t<span class=\"cat-links\"><span class=\"posted-in\">دسته بندی: </span><span class=\"cat-list\"><a href=\"http://www.snrazavi.ir/category/hamyad/\" rel=\"category tag\">آزمایشگاه هوش محاسباتی و یادگیری ماشین</a></span></span><span class=\"tags-links\"><span class=\"tagged\"></span><span class=\"tags-list\"> <span></span><a href=\"http://www.snrazavi.ir/tag/%d8%b4%d8%a8%da%a9%d9%87-%d8%b9%d8%b5%d8%a8%db%8c/\" rel=\"tag\">شبکه عصبی</a><a href=\"http://www.snrazavi.ir/tag/deep-learning/\" rel=\"tag\">یادگیری ژرف</a><a href=\"http://www.snrazavi.ir/tag/dl/\" rel=\"tag\">یادگیری عمیق</a><a href=\"http://www.snrazavi.ir/tag/machine-learning/\" rel=\"tag\">یادگیری ماشین</a> </span></span><div class=\"clear\"></div><div class=\"comments\"><span class=\"comments-link\"><a href=\"http://www.snrazavi.ir/how-to-learn-deep-learning/#comments\">۴ دیدگاه <span class=\"screen-reader-text\">برای چگونه یادگیری عمیق را عمیق یاد بگیرم؟</span></a></span></div>        <div class=\"clear\"></div>\r\n",
      "    </footer><!-- .entry-footer -->\r\n",
      "        \r\n",
      "</article>\r\n",
      "\r\n",
      "   \r\n",
      "    <hr /> <!--separator betwenn articles-->\r\n",
      "<!-- #post-## -->\r\n",
      "\r\n",
      "<article id=\"post-674\" class=\"post-674 post type-post status-publish format-standard has-post-thumbnail hentry category-hamyad category-workshops tag-104 tag-62 tag-57 tag-artificial-intelligence tag-deep-learning tag-dl tag-machine-learning\">\r\n",
      "    <header class=\"entry-header\">\r\n",
      "        <h1 class=\"entry-title\"><a href=\"http://www.snrazavi.ir/deep-learning-intro/\" rel=\"bookmark\">یادگیری عمیق: فرصت‌ها و چالش‌ها</a></h1>            <div class=\"entry-meta\">\r\n",
      "                <span class=\"posted-on\"><time class=\"entry-date published\" datetime=\"۱۳۹۶-۹-۱۱ ۲۳:۳۳:۲۰ +۰۰:۰۰\">آذر ۱۱, ۱۳۹۶</time><time class=\"updated\" datetime=\"۱۳۹۶-۹-۲۱ ۰۲:۲۶:۱۰ +۰۰:۰۰\">آذر ۲۱, ۱۳۹۶</time></span>\r\n",
      "            </div><!-- .entry-meta -->\r\n",
      "                \r\n",
      "    </header><!-- .entry-header -->\r\n",
      "    \r\n",
      "    \t\r\n",
      "        <div class=\"entry-content\">\r\n",
      "            \r\n",
      "                            <a href=\"http://www.snrazavi.ir/deep-learning-intro/\" title=\"یادگیری عمیق: فرصت‌ها و چالش‌ها\" class=\"img-link\"><img width=\"150\" height=\"150\" src=\"http://www.snrazavi.ir/wp-content/uploads/2017/12/photo_2017-12-03_00-00-00-150x150.jpg\" class=\"attachment-rainforest_thumb size-rainforest_thumb wp-post-image\" alt=\"یادگیری عمیق\" /></a>\r\n",
      "            <p>سخنرانی درباره یادگیری ژرف (یادگیری عمیق) به مناسبت هفته پژوهش در دانشگاه تبریز</p>\n",
      "<div class=\"addtoany_share_save_container addtoany_content_bottom\"><div class=\"a2a_kit a2a_kit_size_32 addtoany_list\" data-a2a-url=\"http://www.snrazavi.ir/deep-learning-intro/\" data-a2a-title=\"یادگیری عمیق: فرصت‌ها و چالش‌ها\"><a class=\"a2a_button_facebook\" href=\"https://www.addtoany.com/add_to/facebook?linkurl=http%3A%2F%2Fwww.snrazavi.ir%2Fdeep-learning-intro%2F&amp;linkname=%DB%8C%D8%A7%D8%AF%DA%AF%DB%8C%D8%B1%DB%8C%20%D8%B9%D9%85%DB%8C%D9%82%3A%20%D9%81%D8%B1%D8%B5%D8%AA%E2%80%8C%D9%87%D8%A7%20%D9%88%20%DA%86%D8%A7%D9%84%D8%B4%E2%80%8C%D9%87%D8%A7\" title=\"Facebook\" rel=\"nofollow noopener\" target=\"_blank\"></a><a class=\"a2a_button_twitter\" href=\"https://www.addtoany.com/add_to/twitter?linkurl=http%3A%2F%2Fwww.snrazavi.ir%2Fdeep-learning-intro%2F&amp;linkname=%DB%8C%D8%A7%D8%AF%DA%AF%DB%8C%D8%B1%DB%8C%20%D8%B9%D9%85%DB%8C%D9%82%3A%20%D9%81%D8%B1%D8%B5%D8%AA%E2%80%8C%D9%87%D8%A7%20%D9%88%20%DA%86%D8%A7%D9%84%D8%B4%E2%80%8C%D9%87%D8%A7\" title=\"Twitter\" rel=\"nofollow noopener\" target=\"_blank\"></a><a class=\"a2a_button_google_plus\" href=\"https://www.addtoany.com/add_to/google_plus?linkurl=http%3A%2F%2Fwww.snrazavi.ir%2Fdeep-learning-intro%2F&amp;linkname=%DB%8C%D8%A7%D8%AF%DA%AF%DB%8C%D8%B1%DB%8C%20%D8%B9%D9%85%DB%8C%D9%82%3A%20%D9%81%D8%B1%D8%B5%D8%AA%E2%80%8C%D9%87%D8%A7%20%D9%88%20%DA%86%D8%A7%D9%84%D8%B4%E2%80%8C%D9%87%D8%A7\" title=\"Google+\" rel=\"nofollow noopener\" target=\"_blank\"></a><a class=\"a2a_dd addtoany_share_save\" href=\"https://www.addtoany.com/share\"></a></div></div>        </div><!-- .entry-content -->\r\n",
      "    \r\n",
      "    <footer class=\"entry-footer\">\r\n",
      "\t<span class=\"cat-links\"><span class=\"posted-in\">دسته بندی: </span><span class=\"cat-list\"><a href=\"http://www.snrazavi.ir/category/hamyad/\" rel=\"category tag\">آزمایشگاه هوش محاسباتی و یادگیری ماشین</a><span></span><a href=\"http://www.snrazavi.ir/category/workshops/\" rel=\"category tag\">دوره‌های آموزشی</a></span></span><span class=\"tags-links\"><span class=\"tagged\"></span><span class=\"tags-list\"> <span></span><a href=\"http://www.snrazavi.ir/tag/%d8%af%d8%a7%d9%86%d8%b4%da%af%d8%a7%d9%87-%d8%aa%d8%a8%d8%b1%db%8c%d8%b2/\" rel=\"tag\">دانشگاه تبریز</a><a href=\"http://www.snrazavi.ir/tag/%d8%b1%d8%b6%d9%88%db%8c/\" rel=\"tag\">رضوی</a><a href=\"http://www.snrazavi.ir/tag/%d8%b4%d8%a8%da%a9%d9%87-%d8%b9%d8%b5%d8%a8%db%8c/\" rel=\"tag\">شبکه عصبی</a><a href=\"http://www.snrazavi.ir/tag/artificial-intelligence/\" rel=\"tag\">هوش مصنوعی</a><a href=\"http://www.snrazavi.ir/tag/deep-learning/\" rel=\"tag\">یادگیری ژرف</a><a href=\"http://www.snrazavi.ir/tag/dl/\" rel=\"tag\">یادگیری عمیق</a><a href=\"http://www.snrazavi.ir/tag/machine-learning/\" rel=\"tag\">یادگیری ماشین</a> </span></span><div class=\"clear\"></div><div class=\"comments\"><span class=\"comments-link\"><a href=\"http://www.snrazavi.ir/deep-learning-intro/#respond\">ارسال دیدگاه<span class=\"screen-reader-text\"> on یادگیری عمیق: فرصت‌ها و چالش‌ها</span></a></span></div>        <div class=\"clear\"></div>\r\n",
      "    </footer><!-- .entry-footer -->\r\n",
      "        \r\n",
      "</article>\r\n",
      "\r\n",
      "   \r\n",
      "    <hr /> <!--separator betwenn articles-->\r\n",
      "<!-- #post-## -->\r\n",
      "\r\n",
      "<article id=\"post-322\" class=\"post-322 post type-post status-publish format-standard has-post-thumbnail hentry category-java category-courses tag-slide tag-programming tag-98 tag-90 tag-50 tag-48 tag-91 tag-51 tag-49 tag-62 tag-57 tag-89 tag-deep-learning tag-dl tag-machine-learning\">\r\n",
      "    <header class=\"entry-header\">\r\n",
      "        <h1 class=\"entry-title\"><a href=\"http://www.snrazavi.ir/java-programming-slides/\" rel=\"bookmark\">اسلایدهای برنامه‌نویسی کاربردی با جاوا</a></h1>            <div class=\"entry-meta\">\r\n",
      "                <span class=\"posted-on\"><time class=\"entry-date published\" datetime=\"۱۳۹۶-۷-۲۸ ۰۸:۲۴:۰۱ +۰۰:۰۰\">مهر ۲۸, ۱۳۹۶</time><time class=\"updated\" datetime=\"۱۳۹۶-۹-۲۱ ۰۱:۴۹:۳۳ +۰۰:۰۰\">آذر ۲۱, ۱۳۹۶</time></span>\r\n",
      "            </div><!-- .entry-meta -->\r\n",
      "                \r\n",
      "    </header><!-- .entry-header -->\r\n",
      "    \r\n",
      "    \t\r\n",
      "        <div class=\"entry-content\">\r\n",
      "            \r\n",
      "                            <a href=\"http://www.snrazavi.ir/java-programming-slides/\" title=\"اسلایدهای برنامه‌نویسی کاربردی با جاوا\" class=\"img-link\"><img width=\"150\" height=\"150\" src=\"http://www.snrazavi.ir/wp-content/uploads/2017/10/java_book_sedgewick_2nd_2017-150x150.jpg\" class=\"attachment-rainforest_thumb size-rainforest_thumb wp-post-image\" alt=\"برنامه نویسی جاوا کتاب\" /></a>\r\n",
      "            <p>در این درس با زبان برنامه‌نویسی جاوا که یکی از پرطرفدارترین و پرکاربردترین زبان‌های برنامه‌نویسی روز دنیا است آشنا می‌شوید. در مطالب ارائه شده در این درس تلاش گردیده است به شیوه‌ای کاربردی و از طریق حل مسائل گوناگون در حوزه‌های مختلف علمی (مانند بازیابی اطلاعات، مسئله تراوش در فیزیک، مسئله شبیه‌سازی چندجسمی)، مفاهیم مهم برنامه‌نویسی و برنامه‌نویسی شی‌گرایی با استفاده از زبان جاوا معرفی گردند.<br />\n",
      "دانشگاه تبریز، دانشکده مهندسی برق و کامپیوتر، گروه مهندسی کامپیوتر</p>\n",
      "<div class=\"addtoany_share_save_container addtoany_content_bottom\"><div class=\"a2a_kit a2a_kit_size_32 addtoany_list\" data-a2a-url=\"http://www.snrazavi.ir/java-programming-slides/\" data-a2a-title=\"اسلایدهای برنامه‌نویسی کاربردی با جاوا\"><a class=\"a2a_button_facebook\" href=\"https://www.addtoany.com/add_to/facebook?linkurl=http%3A%2F%2Fwww.snrazavi.ir%2Fjava-programming-slides%2F&amp;linkname=%D8%A7%D8%B3%D9%84%D8%A7%DB%8C%D8%AF%D9%87%D8%A7%DB%8C%20%D8%A8%D8%B1%D9%86%D8%A7%D9%85%D9%87%E2%80%8C%D9%86%D9%88%DB%8C%D8%B3%DB%8C%20%DA%A9%D8%A7%D8%B1%D8%A8%D8%B1%D8%AF%DB%8C%20%D8%A8%D8%A7%20%D8%AC%D8%A7%D9%88%D8%A7\" title=\"Facebook\" rel=\"nofollow noopener\" target=\"_blank\"></a><a class=\"a2a_button_twitter\" href=\"https://www.addtoany.com/add_to/twitter?linkurl=http%3A%2F%2Fwww.snrazavi.ir%2Fjava-programming-slides%2F&amp;linkname=%D8%A7%D8%B3%D9%84%D8%A7%DB%8C%D8%AF%D9%87%D8%A7%DB%8C%20%D8%A8%D8%B1%D9%86%D8%A7%D9%85%D9%87%E2%80%8C%D9%86%D9%88%DB%8C%D8%B3%DB%8C%20%DA%A9%D8%A7%D8%B1%D8%A8%D8%B1%D8%AF%DB%8C%20%D8%A8%D8%A7%20%D8%AC%D8%A7%D9%88%D8%A7\" title=\"Twitter\" rel=\"nofollow noopener\" target=\"_blank\"></a><a class=\"a2a_button_google_plus\" href=\"https://www.addtoany.com/add_to/google_plus?linkurl=http%3A%2F%2Fwww.snrazavi.ir%2Fjava-programming-slides%2F&amp;linkname=%D8%A7%D8%B3%D9%84%D8%A7%DB%8C%D8%AF%D9%87%D8%A7%DB%8C%20%D8%A8%D8%B1%D9%86%D8%A7%D9%85%D9%87%E2%80%8C%D9%86%D9%88%DB%8C%D8%B3%DB%8C%20%DA%A9%D8%A7%D8%B1%D8%A8%D8%B1%D8%AF%DB%8C%20%D8%A8%D8%A7%20%D8%AC%D8%A7%D9%88%D8%A7\" title=\"Google+\" rel=\"nofollow noopener\" target=\"_blank\"></a><a class=\"a2a_dd addtoany_share_save\" href=\"https://www.addtoany.com/share\"></a></div></div>        </div><!-- .entry-content -->\r\n",
      "    \r\n",
      "    <footer class=\"entry-footer\">\r\n",
      "\t<span class=\"cat-links\"><span class=\"posted-in\">دسته بندی: </span><span class=\"cat-list\"><a href=\"http://www.snrazavi.ir/category/courses/java/\" rel=\"category tag\">برنامه‌نویسی در جاوا</a><span></span><a href=\"http://www.snrazavi.ir/category/courses/\" rel=\"category tag\">دروس</a></span></span><span class=\"tags-links\"><span class=\"tagged\"></span><span class=\"tags-list\"> <span></span><a href=\"http://www.snrazavi.ir/tag/slide/\" rel=\"tag\">اسلاید</a><a href=\"http://www.snrazavi.ir/tag/programming/\" rel=\"tag\">برنامه‌نویسی</a><a href=\"http://www.snrazavi.ir/tag/%d8%a8%d8%b1%d9%86%d8%a7%d9%85%d9%87%e2%80%8c%d9%86%d9%88%db%8c%d8%b3%db%8c-%d9%be%db%8c%d8%b4%d8%b1%d9%81%d8%aa%d9%87/\" rel=\"tag\">برنامه‌نویسی پیشرفته</a><a href=\"http://www.snrazavi.ir/tag/%d8%a8%d8%b1%d9%86%d8%a7%d9%85%d9%87%e2%80%8c%d9%86%d9%88%db%8c%d8%b3%db%8c-%d8%b4%db%8c%e2%80%8c%da%af%d8%b1%d8%a7/\" rel=\"tag\">برنامه‌نویسی شی‌گرا</a><a href=\"http://www.snrazavi.ir/tag/%d8%aa%d8%b1%d8%a7%d9%88%d8%b4/\" rel=\"tag\">تراوش</a><a href=\"http://www.snrazavi.ir/tag/%d8%ac%d8%a7%d9%88%d8%a7/\" rel=\"tag\">جاوا</a><a href=\"http://www.snrazavi.ir/tag/%d8%ac%d8%b2%d9%88%d9%87/\" rel=\"tag\">جزوه</a><a href=\"http://www.snrazavi.ir/tag/%da%86%d9%86%d8%af-%d8%ac%d8%b3%d9%85%db%8c/\" rel=\"tag\">چند جسمی</a><a href=\"http://www.snrazavi.ir/tag/%d8%b1%d8%aa%d8%a8%d9%87%e2%80%8c%d8%a8%d9%86%d8%af%db%8c-%d8%b5%d9%81%d8%ad%d8%a7%d8%aa/\" rel=\"tag\">رتبه‌بندی صفحات</a><a href=\"http://www.snrazavi.ir/tag/%d8%b1%d8%b6%d9%88%db%8c/\" rel=\"tag\">رضوی</a><a href=\"http://www.snrazavi.ir/tag/%d8%b4%d8%a8%da%a9%d9%87-%d8%b9%d8%b5%d8%a8%db%8c/\" rel=\"tag\">شبکه عصبی</a><a href=\"http://www.snrazavi.ir/tag/%d8%b4%db%8c%e2%80%8c%da%af%d8%b1%d8%a7/\" rel=\"tag\">شی‌گرا</a><a href=\"http://www.snrazavi.ir/tag/deep-learning/\" rel=\"tag\">یادگیری ژرف</a><a href=\"http://www.snrazavi.ir/tag/dl/\" rel=\"tag\">یادگیری عمیق</a><a href=\"http://www.snrazavi.ir/tag/machine-learning/\" rel=\"tag\">یادگیری ماشین</a> </span></span><div class=\"clear\"></div><div class=\"comments\"><span class=\"comments-link\"><a href=\"http://www.snrazavi.ir/java-programming-slides/#respond\">ارسال دیدگاه<span class=\"screen-reader-text\"> on اسلایدهای برنامه‌نویسی کاربردی با جاوا</span></a></span></div>        <div class=\"clear\"></div>\r\n",
      "    </footer><!-- .entry-footer -->\r\n",
      "        \r\n",
      "</article>\r\n",
      "\r\n",
      "   \r\n",
      "    <hr /> <!--separator betwenn articles-->\r\n",
      "<!-- #post-## -->\r\n",
      "\r\n",
      "<article id=\"post-300\" class=\"post-300 post type-post status-publish format-standard has-post-thumbnail hentry category-courses category-data-structures tag-38 tag-39 tag-41 tag-33 tag-91 tag-37 tag-42 tag-46 tag-64 tag-65 tag-62 tag-66 tag-36 tag-63 tag-57 tag-40 tag-47 tag-43 tag-45 tag-44 tag-deep-learning tag-dl tag-machine-learning\">\r\n",
      "    <header class=\"entry-header\">\r\n",
      "        <h1 class=\"entry-title\"><a href=\"http://www.snrazavi.ir/data-structures-slides/\" rel=\"bookmark\">اسلایدهای درس ساختمان داده‌ها و الگوریتم‌ها</a></h1>            <div class=\"entry-meta\">\r\n",
      "                <span class=\"posted-on\"><time class=\"entry-date published\" datetime=\"۱۳۹۶-۷-۲۸ ۰۷:۳۱:۴۷ +۰۰:۰۰\">مهر ۲۸, ۱۳۹۶</time><time class=\"updated\" datetime=\"۱۳۹۶-۹-۲۱ ۰۲:۲۱:۴۷ +۰۰:۰۰\">آذر ۲۱, ۱۳۹۶</time></span>\r\n",
      "            </div><!-- .entry-meta -->\r\n",
      "                \r\n",
      "    </header><!-- .entry-header -->\r\n",
      "    \r\n",
      "    \t\r\n",
      "        <div class=\"entry-content\">\r\n",
      "            \r\n",
      "                            <a href=\"http://www.snrazavi.ir/data-structures-slides/\" title=\"اسلایدهای درس ساختمان داده‌ها و الگوریتم‌ها\" class=\"img-link\"><img width=\"150\" height=\"150\" src=\"http://www.snrazavi.ir/wp-content/uploads/2017/10/alg-sedgewick-150x150.png\" class=\"attachment-rainforest_thumb size-rainforest_thumb wp-post-image\" alt=\"کتاب الگوریتم‌ها (رابرت سژویک)\" /></a>\r\n",
      "            <p>ساختمان داده‌ها یا داده ساختار‌ها، از بنیادی‌ترین مباحث مورد نیاز جهت یادگیری و درک بسیاری از مفاهیم عمده در علوم رایانه و یکی از مهم‌ترین دروس دوره کارشناسی برای دانشجویان رشته کامپیوتر است. هدف از مطالعه این درس یادگیری روش‌های پرکاربرد به منظور سازمان دادن داده‌ها در حافظه رایانه به یک روش ویژه و بر پایه یک مدل منطقی یا ریاضی است؛ به گونه‌ای که بتوان از داده‌های موجود به صورت بهینه استفاده نمود. داده ساختار‌ها انواع گوناگونی دارند که هر کدام مناسب برنامه‌های مختلفی هستند. در این درس با پرکاربردترین آنها مانند لیست، صف و پشته، درخت و گراف آشنا می‌شوید.<br />\n",
      "دانشگاه تبریز، دانشکده مهندسی برق و کامپیوتر، گروه مهندسی کامپیوتر</p>\n",
      "<div class=\"addtoany_share_save_container addtoany_content_bottom\"><div class=\"a2a_kit a2a_kit_size_32 addtoany_list\" data-a2a-url=\"http://www.snrazavi.ir/data-structures-slides/\" data-a2a-title=\"اسلایدهای درس ساختمان داده‌ها و الگوریتم‌ها\"><a class=\"a2a_button_facebook\" href=\"https://www.addtoany.com/add_to/facebook?linkurl=http%3A%2F%2Fwww.snrazavi.ir%2Fdata-structures-slides%2F&amp;linkname=%D8%A7%D8%B3%D9%84%D8%A7%DB%8C%D8%AF%D9%87%D8%A7%DB%8C%20%D8%AF%D8%B1%D8%B3%20%D8%B3%D8%A7%D8%AE%D8%AA%D9%85%D8%A7%D9%86%20%D8%AF%D8%A7%D8%AF%D9%87%E2%80%8C%D9%87%D8%A7%20%D9%88%20%D8%A7%D9%84%DA%AF%D9%88%D8%B1%DB%8C%D8%AA%D9%85%E2%80%8C%D9%87%D8%A7\" title=\"Facebook\" rel=\"nofollow noopener\" target=\"_blank\"></a><a class=\"a2a_button_twitter\" href=\"https://www.addtoany.com/add_to/twitter?linkurl=http%3A%2F%2Fwww.snrazavi.ir%2Fdata-structures-slides%2F&amp;linkname=%D8%A7%D8%B3%D9%84%D8%A7%DB%8C%D8%AF%D9%87%D8%A7%DB%8C%20%D8%AF%D8%B1%D8%B3%20%D8%B3%D8%A7%D8%AE%D8%AA%D9%85%D8%A7%D9%86%20%D8%AF%D8%A7%D8%AF%D9%87%E2%80%8C%D9%87%D8%A7%20%D9%88%20%D8%A7%D9%84%DA%AF%D9%88%D8%B1%DB%8C%D8%AA%D9%85%E2%80%8C%D9%87%D8%A7\" title=\"Twitter\" rel=\"nofollow noopener\" target=\"_blank\"></a><a class=\"a2a_button_google_plus\" href=\"https://www.addtoany.com/add_to/google_plus?linkurl=http%3A%2F%2Fwww.snrazavi.ir%2Fdata-structures-slides%2F&amp;linkname=%D8%A7%D8%B3%D9%84%D8%A7%DB%8C%D8%AF%D9%87%D8%A7%DB%8C%20%D8%AF%D8%B1%D8%B3%20%D8%B3%D8%A7%D8%AE%D8%AA%D9%85%D8%A7%D9%86%20%D8%AF%D8%A7%D8%AF%D9%87%E2%80%8C%D9%87%D8%A7%20%D9%88%20%D8%A7%D9%84%DA%AF%D9%88%D8%B1%DB%8C%D8%AA%D9%85%E2%80%8C%D9%87%D8%A7\" title=\"Google+\" rel=\"nofollow noopener\" target=\"_blank\"></a><a class=\"a2a_dd addtoany_share_save\" href=\"https://www.addtoany.com/share\"></a></div></div>        </div><!-- .entry-content -->\r\n",
      "    \r\n",
      "    <footer class=\"entry-footer\">\r\n",
      "\t<span class=\"cat-links\"><span class=\"posted-in\">دسته بندی: </span><span class=\"cat-list\"><a href=\"http://www.snrazavi.ir/category/courses/\" rel=\"category tag\">دروس</a><span></span><a href=\"http://www.snrazavi.ir/category/courses/data-structures/\" rel=\"category tag\">ساختمان داده‌ها و الگوریتم‌ها</a></span></span><span class=\"tags-links\"><span class=\"tagged\"></span><span class=\"tags-list\"> <span></span><a href=\"http://www.snrazavi.ir/tag/%d8%a7%d9%84%da%af%d9%88%d8%b1%db%8c%d8%aa%d9%85/\" rel=\"tag\">الگوریتم</a><a href=\"http://www.snrazavi.ir/tag/%d8%a7%d9%84%da%af%d9%88%d8%b1%db%8c%d8%aa%d9%85%e2%80%8c%d9%87%d8%a7%db%8c-%d8%a8%d8%a7%d8%b2%da%af%d8%b4%d8%aa%db%8c/\" rel=\"tag\">الگوریتم‌های بازگشتی</a><a href=\"http://www.snrazavi.ir/tag/%d9%be%d8%b4%d8%aa%d9%87/\" rel=\"tag\">پشته</a><a href=\"http://www.snrazavi.ir/tag/%d8%aa%d8%ad%d9%84%db%8c%d9%84-%d8%a7%d9%84%da%af%d9%88%d8%b1%db%8c%d8%aa%d9%85%e2%80%8c%d9%87%d8%a7/\" rel=\"tag\">تحلیل الگوریتم‌ها</a><a href=\"http://www.snrazavi.ir/tag/%d8%ac%d8%b2%d9%88%d9%87/\" rel=\"tag\">جزوه</a><a href=\"http://www.snrazavi.ir/tag/%d8%af%d8%a7%d8%af%d9%87%e2%80%8c%d8%b3%d8%a7%d8%ae%d8%aa%d8%a7%d8%b1%d9%87%d8%a7/\" rel=\"tag\">داده‌ساختارها</a><a href=\"http://www.snrazavi.ir/tag/%d8%af%d8%b1%d8%ae%d8%aa/\" rel=\"tag\">درخت</a><a href=\"http://www.snrazavi.ir/tag/%d8%af%d8%b1%d8%ae%d8%aa-%d9%be%d9%88%d8%b4%d8%a7%db%8c-%da%a9%d9%85%db%8c%d9%86%d9%87/\" rel=\"tag\">درخت پوشای کمینه</a><a href=\"http://www.snrazavi.ir/tag/%d8%af%da%a9%d8%aa%d8%b1-%d8%b1%d8%b6%d9%88%db%8c/\" rel=\"tag\">دکتر رضوی</a><a href=\"http://www.snrazavi.ir/tag/%d8%af%da%a9%d8%aa%d8%b1-%d8%b3%db%8c%d8%af-%d9%86%d8%a7%d8%b5%d8%b1-%d8%b1%d8%b6%d9%88%db%8c/\" rel=\"tag\">دکتر سید ناصر رضوی</a><a href=\"http://www.snrazavi.ir/tag/%d8%b1%d8%b6%d9%88%db%8c/\" rel=\"tag\">رضوی</a><a href=\"http://www.snrazavi.ir/tag/%d8%b3%d8%a7%d8%ae%d8%aa%d9%85%d8%a7%d9%86-%d8%af%d8%a7%d8%af%d9%87/\" rel=\"tag\">ساختمان داده</a><a href=\"http://www.snrazavi.ir/tag/%d8%b3%d8%a7%d8%ae%d8%aa%d9%85%d8%a7%d9%86-%d8%af%d8%a7%d8%af%d9%87%e2%80%8c%d9%87%d8%a7/\" rel=\"tag\">ساختمان داده‌ها</a><a href=\"http://www.snrazavi.ir/tag/%d8%b3%db%8c%d8%af-%d9%86%d8%a7%d8%b5%d8%b1-%d8%b1%d8%b6%d9%88%db%8c/\" rel=\"tag\">سید ناصر رضوی</a><a href=\"http://www.snrazavi.ir/tag/%d8%b4%d8%a8%da%a9%d9%87-%d8%b9%d8%b5%d8%a8%db%8c/\" rel=\"tag\">شبکه عصبی</a><a href=\"http://www.snrazavi.ir/tag/%d8%b5%d9%81/\" rel=\"tag\">صف</a><a href=\"http://www.snrazavi.ir/tag/%da%a9%d9%88%d8%aa%d8%a7%d9%87%e2%80%8c%d8%aa%d8%b1%db%8c%d9%86-%d9%85%d8%b3%db%8c%d8%b1/\" rel=\"tag\">کوتاه‌ترین مسیر</a><a href=\"http://www.snrazavi.ir/tag/%da%af%d8%b1%d8%a7%d9%81/\" rel=\"tag\">گراف</a><a href=\"http://www.snrazavi.ir/tag/%da%af%d8%b1%d8%a7%d9%81-%d8%a8%d8%af%d9%88%d9%86-%d8%ac%d9%87%d8%aa/\" rel=\"tag\">گراف بدون جهت</a><a href=\"http://www.snrazavi.ir/tag/%da%af%d8%b1%d8%a7%d9%81-%d8%ac%d9%87%d8%aa%e2%80%8c%d8%af%d8%a7%d8%b1/\" rel=\"tag\">گراف جهت‌دار</a><a href=\"http://www.snrazavi.ir/tag/deep-learning/\" rel=\"tag\">یادگیری ژرف</a><a href=\"http://www.snrazavi.ir/tag/dl/\" rel=\"tag\">یادگیری عمیق</a><a href=\"http://www.snrazavi.ir/tag/machine-learning/\" rel=\"tag\">یادگیری ماشین</a> </span></span><div class=\"clear\"></div><div class=\"comments\"><span class=\"comments-link\"><a href=\"http://www.snrazavi.ir/data-structures-slides/#respond\">ارسال دیدگاه<span class=\"screen-reader-text\"> on اسلایدهای درس ساختمان داده‌ها و الگوریتم‌ها</span></a></span></div>        <div class=\"clear\"></div>\r\n",
      "    </footer><!-- .entry-footer -->\r\n",
      "        \r\n",
      "</article>\r\n",
      "\r\n",
      "   \r\n",
      "    <hr /> <!--separator betwenn articles-->\r\n",
      "<!-- #post-## -->\r\n",
      "\r\n",
      "<article id=\"post-272\" class=\"post-272 post type-post status-publish format-standard has-post-thumbnail hentry category-courses category-algorithm-design tag-slide tag-33 tag-91 tag-64 tag-65 tag-62 tag-63 tag-57 tag-61 tag-34 tag-deep-learning tag-dl tag-machine-learning\">\r\n",
      "    <header class=\"entry-header\">\r\n",
      "        <h1 class=\"entry-title\"><a href=\"http://www.snrazavi.ir/algorithms-slides/\" rel=\"bookmark\">اسلایدهای درس تحلیل و طراحی الگوریتم‌ها</a></h1>            <div class=\"entry-meta\">\r\n",
      "                <span class=\"posted-on\"><time class=\"entry-date published\" datetime=\"۱۳۹۶-۷-۲۶ ۰۳:۱۷:۲۱ +۰۰:۰۰\">مهر ۲۶, ۱۳۹۶</time><time class=\"updated\" datetime=\"۱۳۹۶-۹-۲۰ ۱۲:۵۲:۲۰ +۰۰:۰۰\">آذر ۲۰, ۱۳۹۶</time></span>\r\n",
      "            </div><!-- .entry-meta -->\r\n",
      "                \r\n",
      "    </header><!-- .entry-header -->\r\n",
      "    \r\n",
      "    \t\r\n",
      "        <div class=\"entry-content\">\r\n",
      "            \r\n",
      "                            <a href=\"http://www.snrazavi.ir/algorithms-slides/\" title=\"اسلایدهای درس تحلیل و طراحی الگوریتم‌ها\" class=\"img-link\"><img width=\"150\" height=\"150\" src=\"http://www.snrazavi.ir/wp-content/uploads/2017/10/Alg-book-150x150.jpg\" class=\"attachment-rainforest_thumb size-rainforest_thumb wp-post-image\" alt=\"یادگیری ماشین\" /></a>\r\n",
      "            <p>اسلایدهای درس تحلیل و طراحی الگوریتم‌ها بر اساس کتاب «مبانی طراحی الگوریتم‌ها» (ریچارد نیپولیتان و کیومرث نعیمی‌پور). در این درس با روش‌های تحلیل الگوریتم‌ها و همچنین برخی از مهم‌ترین روش‌های طراحی الگوریتم‌ها مانند تقسیم و حل، برنامه‌ریزی پویا و حریصانه آشنا می‌شوید.<br />\n",
      "دانشگاه تبریز، دانشکده مهندسی برق و کامپیوتر، گروه مهندسی کامپیوتر</p>\n",
      "<div class=\"addtoany_share_save_container addtoany_content_bottom\"><div class=\"a2a_kit a2a_kit_size_32 addtoany_list\" data-a2a-url=\"http://www.snrazavi.ir/algorithms-slides/\" data-a2a-title=\"اسلایدهای درس تحلیل و طراحی الگوریتم‌ها\"><a class=\"a2a_button_facebook\" href=\"https://www.addtoany.com/add_to/facebook?linkurl=http%3A%2F%2Fwww.snrazavi.ir%2Falgorithms-slides%2F&amp;linkname=%D8%A7%D8%B3%D9%84%D8%A7%DB%8C%D8%AF%D9%87%D8%A7%DB%8C%20%D8%AF%D8%B1%D8%B3%20%D8%AA%D8%AD%D9%84%DB%8C%D9%84%20%D9%88%20%D8%B7%D8%B1%D8%A7%D8%AD%DB%8C%20%D8%A7%D9%84%DA%AF%D9%88%D8%B1%DB%8C%D8%AA%D9%85%E2%80%8C%D9%87%D8%A7\" title=\"Facebook\" rel=\"nofollow noopener\" target=\"_blank\"></a><a class=\"a2a_button_twitter\" href=\"https://www.addtoany.com/add_to/twitter?linkurl=http%3A%2F%2Fwww.snrazavi.ir%2Falgorithms-slides%2F&amp;linkname=%D8%A7%D8%B3%D9%84%D8%A7%DB%8C%D8%AF%D9%87%D8%A7%DB%8C%20%D8%AF%D8%B1%D8%B3%20%D8%AA%D8%AD%D9%84%DB%8C%D9%84%20%D9%88%20%D8%B7%D8%B1%D8%A7%D8%AD%DB%8C%20%D8%A7%D9%84%DA%AF%D9%88%D8%B1%DB%8C%D8%AA%D9%85%E2%80%8C%D9%87%D8%A7\" title=\"Twitter\" rel=\"nofollow noopener\" target=\"_blank\"></a><a class=\"a2a_button_google_plus\" href=\"https://www.addtoany.com/add_to/google_plus?linkurl=http%3A%2F%2Fwww.snrazavi.ir%2Falgorithms-slides%2F&amp;linkname=%D8%A7%D8%B3%D9%84%D8%A7%DB%8C%D8%AF%D9%87%D8%A7%DB%8C%20%D8%AF%D8%B1%D8%B3%20%D8%AA%D8%AD%D9%84%DB%8C%D9%84%20%D9%88%20%D8%B7%D8%B1%D8%A7%D8%AD%DB%8C%20%D8%A7%D9%84%DA%AF%D9%88%D8%B1%DB%8C%D8%AA%D9%85%E2%80%8C%D9%87%D8%A7\" title=\"Google+\" rel=\"nofollow noopener\" target=\"_blank\"></a><a class=\"a2a_dd addtoany_share_save\" href=\"https://www.addtoany.com/share\"></a></div></div>        </div><!-- .entry-content -->\r\n",
      "    \r\n",
      "    <footer class=\"entry-footer\">\r\n",
      "\t<span class=\"cat-links\"><span class=\"posted-in\">دسته بندی: </span><span class=\"cat-list\"><a href=\"http://www.snrazavi.ir/category/courses/\" rel=\"category tag\">دروس</a><span></span><a href=\"http://www.snrazavi.ir/category/courses/algorithm-design/\" rel=\"category tag\">طراحی الگوریتم</a></span></span><span class=\"tags-links\"><span class=\"tagged\"></span><span class=\"tags-list\"> <span></span><a href=\"http://www.snrazavi.ir/tag/slide/\" rel=\"tag\">اسلاید</a><a href=\"http://www.snrazavi.ir/tag/%d8%aa%d8%ad%d9%84%db%8c%d9%84-%d8%a7%d9%84%da%af%d9%88%d8%b1%db%8c%d8%aa%d9%85%e2%80%8c%d9%87%d8%a7/\" rel=\"tag\">تحلیل الگوریتم‌ها</a><a href=\"http://www.snrazavi.ir/tag/%d8%ac%d8%b2%d9%88%d9%87/\" rel=\"tag\">جزوه</a><a href=\"http://www.snrazavi.ir/tag/%d8%af%da%a9%d8%aa%d8%b1-%d8%b1%d8%b6%d9%88%db%8c/\" rel=\"tag\">دکتر رضوی</a><a href=\"http://www.snrazavi.ir/tag/%d8%af%da%a9%d8%aa%d8%b1-%d8%b3%db%8c%d8%af-%d9%86%d8%a7%d8%b5%d8%b1-%d8%b1%d8%b6%d9%88%db%8c/\" rel=\"tag\">دکتر سید ناصر رضوی</a><a href=\"http://www.snrazavi.ir/tag/%d8%b1%d8%b6%d9%88%db%8c/\" rel=\"tag\">رضوی</a><a href=\"http://www.snrazavi.ir/tag/%d8%b3%db%8c%d8%af-%d9%86%d8%a7%d8%b5%d8%b1-%d8%b1%d8%b6%d9%88%db%8c/\" rel=\"tag\">سید ناصر رضوی</a><a href=\"http://www.snrazavi.ir/tag/%d8%b4%d8%a8%da%a9%d9%87-%d8%b9%d8%b5%d8%a8%db%8c/\" rel=\"tag\">شبکه عصبی</a><a href=\"http://www.snrazavi.ir/tag/%d8%b7%d8%b1%d8%a7%d8%ad%db%8c-%d8%a7%d9%84%da%af%d9%88%d8%b1%db%8c%d8%aa%d9%85/\" rel=\"tag\">طراحی الگوریتم</a><a href=\"http://www.snrazavi.ir/tag/%d8%b7%d8%b1%d8%a7%d8%ad%db%8c-%d8%a7%d9%84%da%af%d9%88%d8%b1%db%8c%d8%aa%d9%85%e2%80%8c%d9%87%d8%a7/\" rel=\"tag\">طراحی الگوریتم‌ها</a><a href=\"http://www.snrazavi.ir/tag/deep-learning/\" rel=\"tag\">یادگیری ژرف</a><a href=\"http://www.snrazavi.ir/tag/dl/\" rel=\"tag\">یادگیری عمیق</a><a href=\"http://www.snrazavi.ir/tag/machine-learning/\" rel=\"tag\">یادگیری ماشین</a> </span></span><div class=\"clear\"></div><div class=\"comments\"><span class=\"comments-link\"><a href=\"http://www.snrazavi.ir/algorithms-slides/#respond\">ارسال دیدگاه<span class=\"screen-reader-text\"> on اسلایدهای درس تحلیل و طراحی الگوریتم‌ها</span></a></span></div>        <div class=\"clear\"></div>\r\n",
      "    </footer><!-- .entry-footer -->\r\n",
      "        \r\n",
      "</article>\r\n",
      "\r\n",
      "   \r\n",
      "    <hr /> <!--separator betwenn articles-->\r\n",
      "<!-- #post-## -->\r\n",
      "\r\n",
      "<article id=\"post-244\" class=\"post-244 post type-post status-publish format-standard has-post-thumbnail hentry category-hamyad tag-57 tag-31 tag-32 tag-deep-learning tag-dl tag-machine-learning\">\r\n",
      "    <header class=\"entry-header\">\r\n",
      "        <h1 class=\"entry-title\"><a href=\"http://www.snrazavi.ir/farsi-challenge/\" rel=\"bookmark\">چالش فارسی‌نویسی</a></h1>            <div class=\"entry-meta\">\r\n",
      "                <span class=\"posted-on\"><time class=\"entry-date published\" datetime=\"۱۳۹۶-۷-۲۴ ۱۷:۳۷:۵۱ +۰۰:۰۰\">مهر ۲۴, ۱۳۹۶</time><time class=\"updated\" datetime=\"۱۳۹۶-۹-۱۹ ۱۲:۱۲:۱۷ +۰۰:۰۰\">آذر ۱۹, ۱۳۹۶</time></span>\r\n",
      "            </div><!-- .entry-meta -->\r\n",
      "                \r\n",
      "    </header><!-- .entry-header -->\r\n",
      "    \r\n",
      "    \t\r\n",
      "        <div class=\"entry-content\">\r\n",
      "            \r\n",
      "                            <a href=\"http://www.snrazavi.ir/farsi-challenge/\" title=\"چالش فارسی‌نویسی\" class=\"img-link\"><img width=\"150\" height=\"150\" src=\"http://www.snrazavi.ir/wp-content/uploads/2017/10/farsi-150x150.jpg\" class=\"attachment-rainforest_thumb size-rainforest_thumb wp-post-image\" alt=\"فارسی بنویسیم\" /></a>\r\n",
      "            <h3>بیایید فارسی بنویسیم</h3>\n",
      "<p>در سال‌هایی که گذشت، هر روز با یک فراخوان برای انجام یک چالش جدید روبه‌رو شدیم (از چاش آب یخ تا چالش مانکن و &#8230;). من هم امروز می‌خواهم همه ایرانی‌ها و به ویژه اساتید، دانشجویان، دانش‌آموختگان و پژوهشگران گرامی را به انجام یک چالش جدید فرا بخوانم: «چالش فارسی بنویسیم».</p>\n",
      "<p>گزاف نیست اگر بگویم شمار بسیاری از پژوهشگران، دانشجویان و دانش‌آموختگان و اساتید، کمتر به فارسی‌نویسی می‌اندیشند و بدتر آن که می‌بینیم شماری بر استفاده از واژه‌های زبان‌های بیگانه (به ویژه انگلیسی و فرانسه و حتی عربی) پافشاری می‌کنند و به نوعی به کار بردن این گونه واژگان را در گفتار و نوشتار خویش نشانی بر باسوادی و روشن‌فکری و فرهنگ بالاتر می‌دانند. در نشست‌های گوناگون بسیاری بوده‌ام (همانند نشست‌هایی در پیوند با دفاعیه از پایان‌نامه‌های کارشناسی ارشد و رساله‌های دکترا) که سخنران تنها در برخی موارد، برخی از افعال را به زبان فارسی می‌گفت و دیگر واژه‌هایش همگی انگلیسی بوده‌اند (آن هم با گویش نادرست). حتی در مواردی که به استفاده از واژگان فارسی گوشزد نموده‌ام، شماری بودند که می‌گفتند واژگان تخصصی را نباید ترجمه کرد و باید به همان زبان اصلی بیان نمود.</p>\n",
      "<p>من از این پس در زمینه کاری خودم هرجا با واژه‌ای غیر از فارسی روبه‌رو شوم که برابر فارسی داشته باشد و یا بتوانم جایگزین فارسی مناسبی پیشنهاد دهم، در همین نوشته به آن اشاره خواهم نمود. از همه آنهایی که با من هم‌عقیده هستند نیز می‌خواهم اگر دوست داشتند به این چالش بپیوندند و واژه بیگانه و افزون بر آن واژه جایگزین پیشنهادی خود را در اینجا بیاورند.</p>\n",
      "<p><strong>یک پیشنهاد.</strong> در بیشتر موارد با یک جستجوی ساده در تارنمای ویکی‌پدیا، می‌توان جایگزین‌های مناسبی برای واژه‌های تخصصی بیگانه پیدا نمود.</p>\n",
      "<p>&nbsp;</p>\n",
      "<div class=\"addtoany_share_save_container addtoany_content_bottom\"><div class=\"a2a_kit a2a_kit_size_32 addtoany_list\" data-a2a-url=\"http://www.snrazavi.ir/farsi-challenge/\" data-a2a-title=\"چالش فارسی‌نویسی\"><a class=\"a2a_button_facebook\" href=\"https://www.addtoany.com/add_to/facebook?linkurl=http%3A%2F%2Fwww.snrazavi.ir%2Ffarsi-challenge%2F&amp;linkname=%DA%86%D8%A7%D9%84%D8%B4%20%D9%81%D8%A7%D8%B1%D8%B3%DB%8C%E2%80%8C%D9%86%D9%88%DB%8C%D8%B3%DB%8C\" title=\"Facebook\" rel=\"nofollow noopener\" target=\"_blank\"></a><a class=\"a2a_button_twitter\" href=\"https://www.addtoany.com/add_to/twitter?linkurl=http%3A%2F%2Fwww.snrazavi.ir%2Ffarsi-challenge%2F&amp;linkname=%DA%86%D8%A7%D9%84%D8%B4%20%D9%81%D8%A7%D8%B1%D8%B3%DB%8C%E2%80%8C%D9%86%D9%88%DB%8C%D8%B3%DB%8C\" title=\"Twitter\" rel=\"nofollow noopener\" target=\"_blank\"></a><a class=\"a2a_button_google_plus\" href=\"https://www.addtoany.com/add_to/google_plus?linkurl=http%3A%2F%2Fwww.snrazavi.ir%2Ffarsi-challenge%2F&amp;linkname=%DA%86%D8%A7%D9%84%D8%B4%20%D9%81%D8%A7%D8%B1%D8%B3%DB%8C%E2%80%8C%D9%86%D9%88%DB%8C%D8%B3%DB%8C\" title=\"Google+\" rel=\"nofollow noopener\" target=\"_blank\"></a><a class=\"a2a_dd addtoany_share_save\" href=\"https://www.addtoany.com/share\"></a></div></div>        </div><!-- .entry-content -->\r\n",
      "    \r\n",
      "    <footer class=\"entry-footer\">\r\n",
      "\t<span class=\"cat-links\"><span class=\"posted-in\">دسته بندی: </span><span class=\"cat-list\"><a href=\"http://www.snrazavi.ir/category/hamyad/\" rel=\"category tag\">آزمایشگاه هوش محاسباتی و یادگیری ماشین</a></span></span><span class=\"tags-links\"><span class=\"tagged\"></span><span class=\"tags-list\"> <span></span><a href=\"http://www.snrazavi.ir/tag/%d8%b4%d8%a8%da%a9%d9%87-%d8%b9%d8%b5%d8%a8%db%8c/\" rel=\"tag\">شبکه عصبی</a><a href=\"http://www.snrazavi.ir/tag/%d9%81%d8%a7%d8%b1%d8%b3%db%8c/\" rel=\"tag\">فارسی</a><a href=\"http://www.snrazavi.ir/tag/%d9%81%d8%a7%d8%b1%d8%b3%db%8c%e2%80%8c%d9%86%d9%88%db%8c%d8%b3%db%8c/\" rel=\"tag\">فارسی‌نویسی</a><a href=\"http://www.snrazavi.ir/tag/deep-learning/\" rel=\"tag\">یادگیری ژرف</a><a href=\"http://www.snrazavi.ir/tag/dl/\" rel=\"tag\">یادگیری عمیق</a><a href=\"http://www.snrazavi.ir/tag/machine-learning/\" rel=\"tag\">یادگیری ماشین</a> </span></span><div class=\"clear\"></div><div class=\"comments\"><span class=\"comments-link\"><a href=\"http://www.snrazavi.ir/farsi-challenge/#respond\">ارسال دیدگاه<span class=\"screen-reader-text\"> on چالش فارسی‌نویسی</span></a></span></div>        <div class=\"clear\"></div>\r\n",
      "    </footer><!-- .entry-footer -->\r\n",
      "        \r\n",
      "</article>\r\n",
      "\r\n",
      "   \r\n",
      "    <hr /> <!--separator betwenn articles-->\r\n",
      "<!-- #post-## -->\r\n",
      "\r\n",
      "<article id=\"post-170\" class=\"post-170 post type-post status-publish format-standard has-post-thumbnail hentry category-hamyad tag-proposal tag-57 tag-propsal tag-deep-learning tag-dl tag-machine-learning\">\r\n",
      "    <header class=\"entry-header\">\r\n",
      "        <h1 class=\"entry-title\"><a href=\"http://www.snrazavi.ir/how-to-write-proposal/\" rel=\"bookmark\">چگونه پروپوزال (طرح‌نامه) بنویسیم؟</a></h1>            <div class=\"entry-meta\">\r\n",
      "                <span class=\"posted-on\"><time class=\"entry-date published\" datetime=\"۱۳۹۶-۷-۲۳ ۲۱:۳۹:۱۱ +۰۰:۰۰\">مهر ۲۳, ۱۳۹۶</time><time class=\"updated\" datetime=\"۱۳۹۶-۹-۱۹ ۱۲:۱۲:۲۷ +۰۰:۰۰\">آذر ۱۹, ۱۳۹۶</time></span>\r\n",
      "            </div><!-- .entry-meta -->\r\n",
      "                \r\n",
      "    </header><!-- .entry-header -->\r\n",
      "    \r\n",
      "    \t\r\n",
      "        <div class=\"entry-content\">\r\n",
      "            \r\n",
      "                            <a href=\"http://www.snrazavi.ir/how-to-write-proposal/\" title=\"چگونه پروپوزال (طرح‌نامه) بنویسیم؟\" class=\"img-link\"><img width=\"150\" height=\"150\" src=\"http://www.snrazavi.ir/wp-content/uploads/2017/10/proposal-150x150.jpg\" class=\"attachment-rainforest_thumb size-rainforest_thumb wp-post-image\" alt=\"هوش مصنوعی\" srcset=\"http://www.snrazavi.ir/wp-content/uploads/2017/10/proposal-150x150.jpg 150w, http://www.snrazavi.ir/wp-content/uploads/2017/10/proposal.jpg 225w\" sizes=\"(max-width: 150px) 100vw, 150px\" /></a>\r\n",
      "            <h3>چگونه یک پروپوزال خوب بنویسیم؟</h3>\n",
      "<p>نوشتن یک پروپوزال خوب همواره یکی از دغدغه‌های اصلی دانشجویان دوره کارشناسی ارشد و دکترا و همچنین اساتید (!) بوده و هست. (البته اگر راستش را بخواهید، خودم نسبت به درستی این گفته بسیار تردید دارم؛ ولی به هر روی به نگارش در این باره ادامه می‌دهم، به امید آن که دست‌کم برای شمار اندکی از دوستان که چنین دغدغه‌هایی دارند کمک کننده باشد). برای نوشتن یک پروپوزال خوب، در کنار برگزیدن یک موضوع خوب، باید در نگارش درست پروپوزال نیز تلاش نمود. در این نوشته می‌خواهم به نکات مهم و اشکالاتی که در نگارش نخستین نسخه پروپوزال در میان بیشتر دانشجوها به چشم می‌خورد بپردازم. در این راستا، یک نمونه پروپوزال با نگارش نامناسب (پروپوزال ۱) را با یک نمونه پروپوزال با نگارش درست و مناسب (پروپوزال ۲) مقایسه خواهیم نمود.</p>\n",
      "<p><strong>یادآوری ۱.</strong> گفتنی است پروپوزال‌هایی که در ادامه این نوشته به آنها اشاره شده است، مربوط به دانشجویان دوره‌های قبلی اینجانب است و موضوع آنها پیشتر ثبت گردیده است. بنابراین خواهش می‌کنم به جای نسخه‌برداری از روی آنها، به نکات اشاره شده دقت بفرمایید.</p>\n",
      "<p><strong>یادآوری ۲.</strong> بسیار دوست داشتم و می‌پسندیدم در این نوشته به جای واژه «پروپوزال»، واژه «طرح‌نامه» را به کار ببرم؛ اما از آنجا که شاید این واژه برای شمار زیادی ناآشنا باشد، همان واژه پروپوزال را به کار خواهم برد (پس بر من خرده نگیرید).</p>\n",
      "<p><strong>در آغاز به پروپوزال (۱) بپردازیم که از نگارش خوبی برخوردار نیست</strong> (دانلود).</p>\n",
      "<p>۱ &#8211; خواهش می‌کنم فایل پی‌دی‌اف پروپوزال بالا را دانلود کرده و آن را مطالعه کنید.</p>\n",
      "<p>۲ &#8211; به واژه‌ها و جملات برجسته شده (به گویش فرنگی‌ها، های‌لایت شده) و توضیحاتی که در کنار آنها نوشته‌ام، دقت فرمایید.</p>\n",
      "<p>۳ &#8211; اشکالات مطرح شده را برای خودتان دسته‌بندی کنید و سپس بر اساس نظر خودتان، آنها را اولویت‌بندی نمایید (اگر دوست داشتید، نتیجه را با ما در میان بگذارید).</p>\n",
      "<p><strong>اکنون به پروپوزال (۲) بپردازیم که شیوه نگارش آن (به نسبت!) پذیرفتنی است</strong> (دانلود).</p>\n",
      "<p>۱ &#8211; خواهش می‌کنم فایل پی‌دی‌اف مربوط به پروپوزال (۲) را دانلود نموده و به دقت مطالعه کنید (بدون توجه به موضوع و با تأکید بر ساختار)</p>\n",
      "<p>۲ &#8211; سعی کنید نمونه ایرادات مطرح شده در پروپوزال (۱) را در این پروپوزال پیدا کنید.</p>\n",
      "<p>۳ &#8211; نکاتی را که به منظور بهبود این پروپوزال به نظرتان می‌آید، یادداشت کنید (و اگر دوست داشتید، با ما نیز در میان بگذارید).</p>\n",
      "<div class=\"addtoany_share_save_container addtoany_content_bottom\"><div class=\"a2a_kit a2a_kit_size_32 addtoany_list\" data-a2a-url=\"http://www.snrazavi.ir/how-to-write-proposal/\" data-a2a-title=\"چگونه پروپوزال (طرح‌نامه) بنویسیم؟\"><a class=\"a2a_button_facebook\" href=\"https://www.addtoany.com/add_to/facebook?linkurl=http%3A%2F%2Fwww.snrazavi.ir%2Fhow-to-write-proposal%2F&amp;linkname=%DA%86%DA%AF%D9%88%D9%86%D9%87%20%D9%BE%D8%B1%D9%88%D9%BE%D9%88%D8%B2%D8%A7%D9%84%20%28%D8%B7%D8%B1%D8%AD%E2%80%8C%D9%86%D8%A7%D9%85%D9%87%29%20%D8%A8%D9%86%D9%88%DB%8C%D8%B3%DB%8C%D9%85%D8%9F\" title=\"Facebook\" rel=\"nofollow noopener\" target=\"_blank\"></a><a class=\"a2a_button_twitter\" href=\"https://www.addtoany.com/add_to/twitter?linkurl=http%3A%2F%2Fwww.snrazavi.ir%2Fhow-to-write-proposal%2F&amp;linkname=%DA%86%DA%AF%D9%88%D9%86%D9%87%20%D9%BE%D8%B1%D9%88%D9%BE%D9%88%D8%B2%D8%A7%D9%84%20%28%D8%B7%D8%B1%D8%AD%E2%80%8C%D9%86%D8%A7%D9%85%D9%87%29%20%D8%A8%D9%86%D9%88%DB%8C%D8%B3%DB%8C%D9%85%D8%9F\" title=\"Twitter\" rel=\"nofollow noopener\" target=\"_blank\"></a><a class=\"a2a_button_google_plus\" href=\"https://www.addtoany.com/add_to/google_plus?linkurl=http%3A%2F%2Fwww.snrazavi.ir%2Fhow-to-write-proposal%2F&amp;linkname=%DA%86%DA%AF%D9%88%D9%86%D9%87%20%D9%BE%D8%B1%D9%88%D9%BE%D9%88%D8%B2%D8%A7%D9%84%20%28%D8%B7%D8%B1%D8%AD%E2%80%8C%D9%86%D8%A7%D9%85%D9%87%29%20%D8%A8%D9%86%D9%88%DB%8C%D8%B3%DB%8C%D9%85%D8%9F\" title=\"Google+\" rel=\"nofollow noopener\" target=\"_blank\"></a><a class=\"a2a_dd addtoany_share_save\" href=\"https://www.addtoany.com/share\"></a></div></div>        </div><!-- .entry-content -->\r\n",
      "    \r\n",
      "    <footer class=\"entry-footer\">\r\n",
      "\t<span class=\"cat-links\"><span class=\"posted-in\">دسته بندی: </span><span class=\"cat-list\"><a href=\"http://www.snrazavi.ir/category/hamyad/\" rel=\"category tag\">آزمایشگاه هوش محاسباتی و یادگیری ماشین</a></span></span><span class=\"tags-links\"><span class=\"tagged\"></span><span class=\"tags-list\"> <span></span><a href=\"http://www.snrazavi.ir/tag/proposal/\" rel=\"tag\">پروپوزال</a><a href=\"http://www.snrazavi.ir/tag/%d8%b4%d8%a8%da%a9%d9%87-%d8%b9%d8%b5%d8%a8%db%8c/\" rel=\"tag\">شبکه عصبی</a><a href=\"http://www.snrazavi.ir/tag/propsal/\" rel=\"tag\">طرح‌نامه</a><a href=\"http://www.snrazavi.ir/tag/deep-learning/\" rel=\"tag\">یادگیری ژرف</a><a href=\"http://www.snrazavi.ir/tag/dl/\" rel=\"tag\">یادگیری عمیق</a><a href=\"http://www.snrazavi.ir/tag/machine-learning/\" rel=\"tag\">یادگیری ماشین</a> </span></span><div class=\"clear\"></div><div class=\"comments\"><span class=\"comments-link\"><a href=\"http://www.snrazavi.ir/how-to-write-proposal/#comments\">۲ دیدگاه <span class=\"screen-reader-text\">برای چگونه پروپوزال (طرح‌نامه) بنویسیم؟</span></a></span></div>        <div class=\"clear\"></div>\r\n",
      "    </footer><!-- .entry-footer -->\r\n",
      "        \r\n",
      "</article>\r\n",
      "\r\n",
      "   \r\n",
      "    <hr /> <!--separator betwenn articles-->\r\n",
      "<!-- #post-## -->\r\n",
      "\r\n",
      "<article id=\"post-145\" class=\"post-145 post type-post status-publish format-standard has-post-thumbnail hentry category-courses category-artificial-intelligence tag-slide tag-91 tag-67 tag-64 tag-65 tag-62 tag-63 tag-57 tag-70 tag-69 tag-artificial-intelligence tag-68 tag-deep-learning tag-dl tag-machine-learning\">\r\n",
      "    <header class=\"entry-header\">\r\n",
      "        <h1 class=\"entry-title\"><a href=\"http://www.snrazavi.ir/ai-slides/\" rel=\"bookmark\">اسلایدهای درس هوش مصنوعی</a></h1>            <div class=\"entry-meta\">\r\n",
      "                <span class=\"posted-on\"><time class=\"entry-date published\" datetime=\"۱۳۹۶-۷-۲۳ ۱۹:۱۶:۳۸ +۰۰:۰۰\">مهر ۲۳, ۱۳۹۶</time><time class=\"updated\" datetime=\"۱۳۹۶-۹-۲۰ ۱۴:۴۲:۲۲ +۰۰:۰۰\">آذر ۲۰, ۱۳۹۶</time></span>\r\n",
      "            </div><!-- .entry-meta -->\r\n",
      "                \r\n",
      "    </header><!-- .entry-header -->\r\n",
      "    \r\n",
      "    \t\r\n",
      "        <div class=\"entry-content\">\r\n",
      "            \r\n",
      "                            <a href=\"http://www.snrazavi.ir/ai-slides/\" title=\"اسلایدهای درس هوش مصنوعی\" class=\"img-link\"><img width=\"150\" height=\"150\" src=\"http://www.snrazavi.ir/wp-content/uploads/2017/10/AIMA-150x150.jpg\" class=\"attachment-rainforest_thumb size-rainforest_thumb wp-post-image\" alt=\"هوش مصنوعی رویکرد نوین\" /></a>\r\n",
      "            <p>تا کنون تعاریف متفاوتی برای هوش مصنوعی ارائه شده و رویکردهای گوناگونی نیز برای رسیدن به اهداف هوش مصنوعی دنبال شده است. در این درس که مطالب آن بر اساس ویراست سوم پرطرفدارترین کتاب هوش مصنوعی یعنی «هوش مصنوعی: رویکردی نوین» تهیه و تنظیم شده است، هوش مصنوعی به صورت «دانش مطالعه و ساخت عامل‌های هوشمند» تعریف شده است و در بخش‌های آن مختلف سعی شده است عامل‌هایی برای حل مسائل گوناگون (از ساده‌ترین مسائل مانند مسیریابی روی نقشه تا پیچیده‌ترین مسائل در دنیای واقعی مانند طراحی یک خودروی هوشمند و بدون راننده) طراحی و پیاده‌سازی گردد.</p>\n",
      "<div class=\"addtoany_share_save_container addtoany_content_bottom\"><div class=\"a2a_kit a2a_kit_size_32 addtoany_list\" data-a2a-url=\"http://www.snrazavi.ir/ai-slides/\" data-a2a-title=\"اسلایدهای درس هوش مصنوعی\"><a class=\"a2a_button_facebook\" href=\"https://www.addtoany.com/add_to/facebook?linkurl=http%3A%2F%2Fwww.snrazavi.ir%2Fai-slides%2F&amp;linkname=%D8%A7%D8%B3%D9%84%D8%A7%DB%8C%D8%AF%D9%87%D8%A7%DB%8C%20%D8%AF%D8%B1%D8%B3%20%D9%87%D9%88%D8%B4%20%D9%85%D8%B5%D9%86%D9%88%D8%B9%DB%8C\" title=\"Facebook\" rel=\"nofollow noopener\" target=\"_blank\"></a><a class=\"a2a_button_twitter\" href=\"https://www.addtoany.com/add_to/twitter?linkurl=http%3A%2F%2Fwww.snrazavi.ir%2Fai-slides%2F&amp;linkname=%D8%A7%D8%B3%D9%84%D8%A7%DB%8C%D8%AF%D9%87%D8%A7%DB%8C%20%D8%AF%D8%B1%D8%B3%20%D9%87%D9%88%D8%B4%20%D9%85%D8%B5%D9%86%D9%88%D8%B9%DB%8C\" title=\"Twitter\" rel=\"nofollow noopener\" target=\"_blank\"></a><a class=\"a2a_button_google_plus\" href=\"https://www.addtoany.com/add_to/google_plus?linkurl=http%3A%2F%2Fwww.snrazavi.ir%2Fai-slides%2F&amp;linkname=%D8%A7%D8%B3%D9%84%D8%A7%DB%8C%D8%AF%D9%87%D8%A7%DB%8C%20%D8%AF%D8%B1%D8%B3%20%D9%87%D9%88%D8%B4%20%D9%85%D8%B5%D9%86%D9%88%D8%B9%DB%8C\" title=\"Google+\" rel=\"nofollow noopener\" target=\"_blank\"></a><a class=\"a2a_dd addtoany_share_save\" href=\"https://www.addtoany.com/share\"></a></div></div>        </div><!-- .entry-content -->\r\n",
      "    \r\n",
      "    <footer class=\"entry-footer\">\r\n",
      "\t<span class=\"cat-links\"><span class=\"posted-in\">دسته بندی: </span><span class=\"cat-list\"><a href=\"http://www.snrazavi.ir/category/courses/\" rel=\"category tag\">دروس</a><span></span><a href=\"http://www.snrazavi.ir/category/courses/artificial-intelligence/\" rel=\"category tag\">هوش مصنوعی</a></span></span><span class=\"tags-links\"><span class=\"tagged\"></span><span class=\"tags-list\"> <span></span><a href=\"http://www.snrazavi.ir/tag/slide/\" rel=\"tag\">اسلاید</a><a href=\"http://www.snrazavi.ir/tag/%d8%ac%d8%b2%d9%88%d9%87/\" rel=\"tag\">جزوه</a><a href=\"http://www.snrazavi.ir/tag/%d8%ac%d8%b3%d8%aa%d8%ac%d9%88/\" rel=\"tag\">جستجو</a><a href=\"http://www.snrazavi.ir/tag/%d8%af%da%a9%d8%aa%d8%b1-%d8%b1%d8%b6%d9%88%db%8c/\" rel=\"tag\">دکتر رضوی</a><a href=\"http://www.snrazavi.ir/tag/%d8%af%da%a9%d8%aa%d8%b1-%d8%b3%db%8c%d8%af-%d9%86%d8%a7%d8%b5%d8%b1-%d8%b1%d8%b6%d9%88%db%8c/\" rel=\"tag\">دکتر سید ناصر رضوی</a><a href=\"http://www.snrazavi.ir/tag/%d8%b1%d8%b6%d9%88%db%8c/\" rel=\"tag\">رضوی</a><a href=\"http://www.snrazavi.ir/tag/%d8%b3%db%8c%d8%af-%d9%86%d8%a7%d8%b5%d8%b1-%d8%b1%d8%b6%d9%88%db%8c/\" rel=\"tag\">سید ناصر رضوی</a><a href=\"http://www.snrazavi.ir/tag/%d8%b4%d8%a8%da%a9%d9%87-%d8%b9%d8%b5%d8%a8%db%8c/\" rel=\"tag\">شبکه عصبی</a><a href=\"http://www.snrazavi.ir/tag/%d8%b4%d8%a8%da%a9%d9%87%e2%80%8c%d9%87%d8%a7%db%8c-%d8%b9%d8%b5%d8%a8%db%8c/\" rel=\"tag\">شبکه‌های عصبی</a><a href=\"http://www.snrazavi.ir/tag/%d9%85%d8%af%d9%84%e2%80%8c%d9%87%d8%a7%db%8c-%da%af%d8%b1%d8%a7%d9%81%db%8c/\" rel=\"tag\">مدل‌های گرافی</a><a href=\"http://www.snrazavi.ir/tag/artificial-intelligence/\" rel=\"tag\">هوش مصنوعی</a><a href=\"http://www.snrazavi.ir/tag/%db%8c%d8%a7%d8%af%da%af%db%8c%d8%b1%db%8c-%d8%aa%d9%82%d9%88%db%8c%d8%aa%db%8c/\" rel=\"tag\">یادگیری تقویتی</a><a href=\"http://www.snrazavi.ir/tag/deep-learning/\" rel=\"tag\">یادگیری ژرف</a><a href=\"http://www.snrazavi.ir/tag/dl/\" rel=\"tag\">یادگیری عمیق</a><a href=\"http://www.snrazavi.ir/tag/machine-learning/\" rel=\"tag\">یادگیری ماشین</a> </span></span><div class=\"clear\"></div><div class=\"comments\"><span class=\"comments-link\"><a href=\"http://www.snrazavi.ir/ai-slides/#respond\">ارسال دیدگاه<span class=\"screen-reader-text\"> on اسلایدهای درس هوش مصنوعی</span></a></span></div>        <div class=\"clear\"></div>\r\n",
      "    </footer><!-- .entry-footer -->\r\n",
      "        \r\n",
      "</article>\r\n",
      "\r\n",
      "   \r\n",
      "    <hr /> <!--separator betwenn articles-->\r\n",
      "<!-- #post-## -->\r\n",
      "\r\n",
      "<article id=\"post-112\" class=\"post-112 post type-post status-publish format-standard has-post-thumbnail hentry category-courses category-machine-learning tag-81 tag-slide tag-80 tag-82 tag-87 tag-85 tag-75 tag-62 tag-71 tag-73 tag-72 tag-77 tag-74 tag-78 tag-88 tag-57 tag-70 tag-86 tag-76 tag-83 tag-79 tag-84 tag-deep-learning tag-dl tag-machine-learning\">\r\n",
      "    <header class=\"entry-header\">\r\n",
      "        <h1 class=\"entry-title\"><a href=\"http://www.snrazavi.ir/ml-slides/\" rel=\"bookmark\">اسلایدها و ویدیوهای درس یادگیری ماشین</a></h1>            <div class=\"entry-meta\">\r\n",
      "                <span class=\"posted-on\"><time class=\"entry-date published\" datetime=\"۱۳۹۶-۷-۲۲ ۲۱:۴۸:۳۶ +۰۰:۰۰\">مهر ۲۲, ۱۳۹۶</time><time class=\"updated\" datetime=\"۱۳۹۶-۹-۲۰ ۱۹:۰۵:۲۹ +۰۰:۰۰\">آذر ۲۰, ۱۳۹۶</time></span>\r\n",
      "            </div><!-- .entry-meta -->\r\n",
      "                \r\n",
      "    </header><!-- .entry-header -->\r\n",
      "    \r\n",
      "    \t\r\n",
      "        <div class=\"entry-content\">\r\n",
      "            \r\n",
      "                            <a href=\"http://www.snrazavi.ir/ml-slides/\" title=\"اسلایدها و ویدیوهای درس یادگیری ماشین\" class=\"img-link\"><img width=\"150\" height=\"150\" src=\"http://www.snrazavi.ir/wp-content/uploads/2017/10/ML_KevinMurphy-150x150.jpg\" class=\"attachment-rainforest_thumb size-rainforest_thumb wp-post-image\" alt=\"کتاب کوین مورفی\" /></a>\r\n",
      "            <p>یادگیری ماشین یکی از مهم‌ترین دروس رشته هوش مصنوعی در دوره کارشناسی ارشد و پایه بسیاری از دروس دیگر مانند بازشناسی الگو، پردازش تصویر، بینایی ماشین، پردازش زبان طبیعی و پردازش گفتار است. در این درس با مفاهیم پایه و برخی از مهم‌ترین روش‌ها و الگوریتم‌های یادگیری ماشین مانند رگرسیون، رگرسیون لجستیک، شبکه‌های عصبی، ماشین‌های بردار پشتیبان، خوشه‌بندی، کاهش ابعاد و تحلیل مؤلفه‌های اصلی، سامانه‌های توصیه‌گر و تشخیص آنومالی آشنا می‌شوید.<br />\n",
      "دانشگاه تبریز، دانشکده مهندسی برق و کامپیوتر، گروه مهندسی کامپیوتر</p>\n",
      "<div class=\"addtoany_share_save_container addtoany_content_bottom\"><div class=\"a2a_kit a2a_kit_size_32 addtoany_list\" data-a2a-url=\"http://www.snrazavi.ir/ml-slides/\" data-a2a-title=\"اسلایدها و ویدیوهای درس یادگیری ماشین\"><a class=\"a2a_button_facebook\" href=\"https://www.addtoany.com/add_to/facebook?linkurl=http%3A%2F%2Fwww.snrazavi.ir%2Fml-slides%2F&amp;linkname=%D8%A7%D8%B3%D9%84%D8%A7%DB%8C%D8%AF%D9%87%D8%A7%20%D9%88%20%D9%88%DB%8C%D8%AF%DB%8C%D9%88%D9%87%D8%A7%DB%8C%20%D8%AF%D8%B1%D8%B3%20%DB%8C%D8%A7%D8%AF%DA%AF%DB%8C%D8%B1%DB%8C%20%D9%85%D8%A7%D8%B4%DB%8C%D9%86\" title=\"Facebook\" rel=\"nofollow noopener\" target=\"_blank\"></a><a class=\"a2a_button_twitter\" href=\"https://www.addtoany.com/add_to/twitter?linkurl=http%3A%2F%2Fwww.snrazavi.ir%2Fml-slides%2F&amp;linkname=%D8%A7%D8%B3%D9%84%D8%A7%DB%8C%D8%AF%D9%87%D8%A7%20%D9%88%20%D9%88%DB%8C%D8%AF%DB%8C%D9%88%D9%87%D8%A7%DB%8C%20%D8%AF%D8%B1%D8%B3%20%DB%8C%D8%A7%D8%AF%DA%AF%DB%8C%D8%B1%DB%8C%20%D9%85%D8%A7%D8%B4%DB%8C%D9%86\" title=\"Twitter\" rel=\"nofollow noopener\" target=\"_blank\"></a><a class=\"a2a_button_google_plus\" href=\"https://www.addtoany.com/add_to/google_plus?linkurl=http%3A%2F%2Fwww.snrazavi.ir%2Fml-slides%2F&amp;linkname=%D8%A7%D8%B3%D9%84%D8%A7%DB%8C%D8%AF%D9%87%D8%A7%20%D9%88%20%D9%88%DB%8C%D8%AF%DB%8C%D9%88%D9%87%D8%A7%DB%8C%20%D8%AF%D8%B1%D8%B3%20%DB%8C%D8%A7%D8%AF%DA%AF%DB%8C%D8%B1%DB%8C%20%D9%85%D8%A7%D8%B4%DB%8C%D9%86\" title=\"Google+\" rel=\"nofollow noopener\" target=\"_blank\"></a><a class=\"a2a_dd addtoany_share_save\" href=\"https://www.addtoany.com/share\"></a></div></div>        </div><!-- .entry-content -->\r\n",
      "    \r\n",
      "    <footer class=\"entry-footer\">\r\n",
      "\t<span class=\"cat-links\"><span class=\"posted-in\">دسته بندی: </span><span class=\"cat-list\"><a href=\"http://www.snrazavi.ir/category/courses/\" rel=\"category tag\">دروس</a><span></span><a href=\"http://www.snrazavi.ir/category/courses/machine-learning/\" rel=\"category tag\">یادگیری ماشین</a></span></span><span class=\"tags-links\"><span class=\"tagged\"></span><span class=\"tags-list\"> <span></span><a href=\"http://www.snrazavi.ir/tag/%d8%a2%d9%85%d9%88%d8%b2%d8%b4-%d8%b4%d8%a8%da%a9%d9%87%e2%80%8c%d9%87%d8%a7%db%8c-%d8%b9%d8%b5%d8%a8%db%8c/\" rel=\"tag\">آموزش شبکه‌های عصبی</a><a href=\"http://www.snrazavi.ir/tag/slide/\" rel=\"tag\">اسلاید</a><a href=\"http://www.snrazavi.ir/tag/%d8%a7%da%a9%d8%aa%d8%a7%d9%88/\" rel=\"tag\">اکتاو</a><a href=\"http://www.snrazavi.ir/tag/%d9%be%d8%b3%e2%80%8c%d8%a7%d9%86%d8%aa%d8%b4%d8%a7%d8%b1-%d8%ae%d8%b7%d8%a7/\" rel=\"tag\">پس‌انتشار خطا</a><a href=\"http://www.snrazavi.ir/tag/%d8%aa%d8%b4%d8%ae%db%8c%d8%b5-%d8%a2%d9%86%d9%88%d9%85%d8%a7%d9%84%db%8c/\" rel=\"tag\">تشخیص آنومالی</a><a href=\"http://www.snrazavi.ir/tag/%d8%ae%d9%88%d8%b4%d9%87%e2%80%8c%d8%a8%d9%86%d8%af%db%8c/\" rel=\"tag\">خوشه‌بندی</a><a href=\"http://www.snrazavi.ir/tag/%d8%af%d8%b3%d8%aa%d9%87%e2%80%8c%d8%a8%d9%86%d8%af%db%8c/\" rel=\"tag\">دسته‌بندی</a><a href=\"http://www.snrazavi.ir/tag/%d8%b1%d8%b6%d9%88%db%8c/\" rel=\"tag\">رضوی</a><a href=\"http://www.snrazavi.ir/tag/%d8%b1%da%af%d8%b1%d8%b3%db%8c%d9%88%d9%86/\" rel=\"tag\">رگرسیون</a><a href=\"http://www.snrazavi.ir/tag/%d8%b1%da%af%d8%b1%d8%b3%db%8c%d9%88%d9%86-%da%86%d9%86%d8%af%d8%ac%d9%85%d9%84%d9%87-%d8%a7%db%8c/\" rel=\"tag\">رگرسیون چندجمله ای</a><a href=\"http://www.snrazavi.ir/tag/%d8%b1%da%af%d8%b1%d8%b3%db%8c%d9%88%d9%86-%d8%ae%d8%b7%db%8c/\" rel=\"tag\">رگرسیون خطی</a><a href=\"http://www.snrazavi.ir/tag/%d8%b1%da%af%d8%b1%d8%b3%db%8c%d9%88%d9%86-%d9%84%d8%ac%d8%b3%d8%aa%db%8c%da%a9/\" rel=\"tag\">رگرسیون لجستیک</a><a href=\"http://www.snrazavi.ir/tag/%d8%b1%da%af%d8%b1%d8%b3%db%8c%d9%88%d9%86-%d9%85%d8%ad%d9%84%db%8c/\" rel=\"tag\">رگرسیون محلی</a><a href=\"http://www.snrazavi.ir/tag/%d8%b1%da%af%d9%88%d9%84%d8%a7%d8%b1%db%8c%d8%b2%d8%a7%d8%b3%db%8c%d9%88%d9%86/\" rel=\"tag\">رگولاریزاسیون</a><a href=\"http://www.snrazavi.ir/tag/%d8%b3%db%8c%d8%b3%d8%aa%d9%85-%d8%aa%d9%88%d8%b5%db%8c%d9%87%e2%80%8c%da%af%d8%b1/\" rel=\"tag\">سیستم توصیه‌گر</a><a href=\"http://www.snrazavi.ir/tag/%d8%b4%d8%a8%da%a9%d9%87-%d8%b9%d8%b5%d8%a8%db%8c/\" rel=\"tag\">شبکه عصبی</a><a href=\"http://www.snrazavi.ir/tag/%d8%b4%d8%a8%da%a9%d9%87%e2%80%8c%d9%87%d8%a7%db%8c-%d8%b9%d8%b5%d8%a8%db%8c/\" rel=\"tag\">شبکه‌های عصبی</a><a href=\"http://www.snrazavi.ir/tag/%da%a9%d8%a7%d9%87%d8%b4-%d8%a7%d8%a8%d8%b9%d8%a7%d8%af/\" rel=\"tag\">کاهش ابعاد</a><a href=\"http://www.snrazavi.ir/tag/%da%a9%d9%84%d8%a7%d8%b3%e2%80%8c%d8%a8%d9%86%d8%af%db%8c/\" rel=\"tag\">کلاس‌بندی</a><a href=\"http://www.snrazavi.ir/tag/%d9%85%d8%a7%d8%b4%db%8c%d9%86-%d8%a8%d8%b1%d8%af%d8%a7%d8%b1-%d9%be%d8%b4%d8%aa%db%8c%d8%a8%d8%a7%d9%86/\" rel=\"tag\">ماشین بردار پشتیبان</a><a href=\"http://www.snrazavi.ir/tag/%d9%85%d8%aa%d9%84%d8%a8/\" rel=\"tag\">متلب</a><a href=\"http://www.snrazavi.ir/tag/%db%8c%d8%a7%d8%af%da%af%db%8c%d8%b1%db%8c-%d8%a8%d8%af%d9%88%d9%86-%d9%86%d8%b8%d8%a7%d8%b1%d8%aa/\" rel=\"tag\">یادگیری بدون نظارت</a><a href=\"http://www.snrazavi.ir/tag/deep-learning/\" rel=\"tag\">یادگیری ژرف</a><a href=\"http://www.snrazavi.ir/tag/dl/\" rel=\"tag\">یادگیری عمیق</a><a href=\"http://www.snrazavi.ir/tag/machine-learning/\" rel=\"tag\">یادگیری ماشین</a> </span></span><div class=\"clear\"></div><div class=\"comments\"><span class=\"comments-link\"><a href=\"http://www.snrazavi.ir/ml-slides/#comments\">۲۲ دیدگاه <span class=\"screen-reader-text\">برای اسلایدها و ویدیوهای درس یادگیری ماشین</span></a></span></div>        <div class=\"clear\"></div>\r\n",
      "    </footer><!-- .entry-footer -->\r\n",
      "        \r\n",
      "</article>\r\n",
      "\r\n",
      "   \r\n",
      "    <hr /> <!--separator betwenn articles-->\r\n",
      "<!-- #post-## -->\r\n",
      "\r\n",
      "<article id=\"post-89\" class=\"post-89 post type-post status-publish format-standard has-post-thumbnail hentry category-workshops tag-programming tag-python tag-54 tag-92 tag-57 tag-53 tag-video tag-deep-learning tag-dl tag-machine-learning\">\r\n",
      "    <header class=\"entry-header\">\r\n",
      "        <h1 class=\"entry-title\"><a href=\"http://www.snrazavi.ir/python-videos/\" rel=\"bookmark\">دوره آموزش پایتون و پیاده‌سازی جویشگر متنی</a></h1>            <div class=\"entry-meta\">\r\n",
      "                <span class=\"posted-on\"><time class=\"entry-date published\" datetime=\"۱۳۹۶-۷-۲۲ ۲۰:۵۸:۴۵ +۰۰:۰۰\">مهر ۲۲, ۱۳۹۶</time><time class=\"updated\" datetime=\"۱۳۹۶-۹-۲۱ ۰۸:۵۱:۱۱ +۰۰:۰۰\">آذر ۲۱, ۱۳۹۶</time></span>\r\n",
      "            </div><!-- .entry-meta -->\r\n",
      "                \r\n",
      "    </header><!-- .entry-header -->\r\n",
      "    \r\n",
      "    \t\r\n",
      "        <div class=\"entry-content\">\r\n",
      "            \r\n",
      "                            <a href=\"http://www.snrazavi.ir/python-videos/\" title=\"دوره آموزش پایتون و پیاده‌سازی جویشگر متنی\" class=\"img-link\"><img width=\"150\" height=\"150\" src=\"http://www.snrazavi.ir/wp-content/uploads/2017/10/Python-150x150.jpg\" class=\"attachment-rainforest_thumb size-rainforest_thumb wp-post-image\" alt=\"پوستر پایتون\" /></a>\r\n",
      "            <p>هدف این دوره آشنایی با زبان برنامه‌نویسی پایتون از طریق پیاده‌سازی بخش‌های اصلی یک جویشگر متنی شامل خزشگر، نمایه‌ساز و رتبه‌بند صفحات است. دانشجویان در هر جلسه در کنار پیاده‌سازی هر یک از بخش‌های اصلی جویشگر، با مفاهیم مهم برنامه‌نویسی و پیاده‌سازی این مفاهیم با استفاده از زبان برنامه‌نویسی پرطرفدار پایتون آشنا می‌شوند.<br />\n",
      "دانشکده مهندسی برق و کامپیوتر دانشگاه تبریز</p>\n",
      "<div class=\"addtoany_share_save_container addtoany_content_bottom\"><div class=\"a2a_kit a2a_kit_size_32 addtoany_list\" data-a2a-url=\"http://www.snrazavi.ir/python-videos/\" data-a2a-title=\"دوره آموزش پایتون و پیاده‌سازی جویشگر متنی\"><a class=\"a2a_button_facebook\" href=\"https://www.addtoany.com/add_to/facebook?linkurl=http%3A%2F%2Fwww.snrazavi.ir%2Fpython-videos%2F&amp;linkname=%D8%AF%D9%88%D8%B1%D9%87%20%D8%A2%D9%85%D9%88%D8%B2%D8%B4%20%D9%BE%D8%A7%DB%8C%D8%AA%D9%88%D9%86%20%D9%88%20%D9%BE%DB%8C%D8%A7%D8%AF%D9%87%E2%80%8C%D8%B3%D8%A7%D8%B2%DB%8C%20%D8%AC%D9%88%DB%8C%D8%B4%DA%AF%D8%B1%20%D9%85%D8%AA%D9%86%DB%8C\" title=\"Facebook\" rel=\"nofollow noopener\" target=\"_blank\"></a><a class=\"a2a_button_twitter\" href=\"https://www.addtoany.com/add_to/twitter?linkurl=http%3A%2F%2Fwww.snrazavi.ir%2Fpython-videos%2F&amp;linkname=%D8%AF%D9%88%D8%B1%D9%87%20%D8%A2%D9%85%D9%88%D8%B2%D8%B4%20%D9%BE%D8%A7%DB%8C%D8%AA%D9%88%D9%86%20%D9%88%20%D9%BE%DB%8C%D8%A7%D8%AF%D9%87%E2%80%8C%D8%B3%D8%A7%D8%B2%DB%8C%20%D8%AC%D9%88%DB%8C%D8%B4%DA%AF%D8%B1%20%D9%85%D8%AA%D9%86%DB%8C\" title=\"Twitter\" rel=\"nofollow noopener\" target=\"_blank\"></a><a class=\"a2a_button_google_plus\" href=\"https://www.addtoany.com/add_to/google_plus?linkurl=http%3A%2F%2Fwww.snrazavi.ir%2Fpython-videos%2F&amp;linkname=%D8%AF%D9%88%D8%B1%D9%87%20%D8%A2%D9%85%D9%88%D8%B2%D8%B4%20%D9%BE%D8%A7%DB%8C%D8%AA%D9%88%D9%86%20%D9%88%20%D9%BE%DB%8C%D8%A7%D8%AF%D9%87%E2%80%8C%D8%B3%D8%A7%D8%B2%DB%8C%20%D8%AC%D9%88%DB%8C%D8%B4%DA%AF%D8%B1%20%D9%85%D8%AA%D9%86%DB%8C\" title=\"Google+\" rel=\"nofollow noopener\" target=\"_blank\"></a><a class=\"a2a_dd addtoany_share_save\" href=\"https://www.addtoany.com/share\"></a></div></div>        </div><!-- .entry-content -->\r\n",
      "    \r\n",
      "    <footer class=\"entry-footer\">\r\n",
      "\t<span class=\"cat-links\"><span class=\"posted-in\">دسته بندی: </span><span class=\"cat-list\"><a href=\"http://www.snrazavi.ir/category/workshops/\" rel=\"category tag\">دوره‌های آموزشی</a></span></span><span class=\"tags-links\"><span class=\"tagged\"></span><span class=\"tags-list\"> <span></span><a href=\"http://www.snrazavi.ir/tag/programming/\" rel=\"tag\">برنامه‌نویسی</a><a href=\"http://www.snrazavi.ir/tag/python/\" rel=\"tag\">پایتون</a><a href=\"http://www.snrazavi.ir/tag/%d8%ac%d9%88%db%8c%d8%b4%da%af%d8%b1/\" rel=\"tag\">جویشگر</a><a href=\"http://www.snrazavi.ir/tag/%d8%ac%d9%88%db%8c%d8%b4%da%af%d8%b1-%d9%85%d8%aa%d9%86%db%8c/\" rel=\"tag\">جویشگر متنی</a><a href=\"http://www.snrazavi.ir/tag/%d8%b4%d8%a8%da%a9%d9%87-%d8%b9%d8%b5%d8%a8%db%8c/\" rel=\"tag\">شبکه عصبی</a><a href=\"http://www.snrazavi.ir/tag/%d9%85%d9%88%d8%aa%d9%88%d8%b1-%d8%ac%d8%b3%d8%aa%d8%ac%d9%88/\" rel=\"tag\">موتور جستجو</a><a href=\"http://www.snrazavi.ir/tag/video/\" rel=\"tag\">ویدیو</a><a href=\"http://www.snrazavi.ir/tag/deep-learning/\" rel=\"tag\">یادگیری ژرف</a><a href=\"http://www.snrazavi.ir/tag/dl/\" rel=\"tag\">یادگیری عمیق</a><a href=\"http://www.snrazavi.ir/tag/machine-learning/\" rel=\"tag\">یادگیری ماشین</a> </span></span><div class=\"clear\"></div><div class=\"comments\"><span class=\"comments-link\"><a href=\"http://www.snrazavi.ir/python-videos/#comments\">۵ دیدگاه <span class=\"screen-reader-text\">برای دوره آموزش پایتون و پیاده‌سازی جویشگر متنی</span></a></span></div>        <div class=\"clear\"></div>\r\n",
      "    </footer><!-- .entry-footer -->\r\n",
      "        \r\n",
      "</article>\r\n",
      "\r\n",
      "   \r\n",
      "    <hr /> <!--separator betwenn articles-->\r\n",
      "<!-- #post-## -->\r\n",
      "\r\n",
      "<article id=\"post-69\" class=\"post-69 post type-post status-publish format-standard has-post-thumbnail hentry category-workshops tag-82 tag-99 tag-75 tag-57 tag-102 tag-100 tag-video tag-deep-learning tag-dl tag-machine-learning\">\r\n",
      "    <header class=\"entry-header\">\r\n",
      "        <h1 class=\"entry-title\"><a href=\"http://www.snrazavi.ir/dl-itrc/\" rel=\"bookmark\">دوره پاییزه یادگیری عمیق (یادگیری ژرف)</a></h1>            <div class=\"entry-meta\">\r\n",
      "                <span class=\"posted-on\"><time class=\"entry-date published\" datetime=\"۱۳۹۶-۷-۲۲ ۱۲:۳۵:۵۹ +۰۰:۰۰\">مهر ۲۲, ۱۳۹۶</time><time class=\"updated\" datetime=\"۱۳۹۶-۹-۲۱ ۰۸:۵۰:۱۵ +۰۰:۰۰\">آذر ۲۱, ۱۳۹۶</time></span>\r\n",
      "            </div><!-- .entry-meta -->\r\n",
      "                \r\n",
      "    </header><!-- .entry-header -->\r\n",
      "    \r\n",
      "    \t\r\n",
      "        <div class=\"entry-content\">\r\n",
      "            \r\n",
      "                            <a href=\"http://www.snrazavi.ir/dl-itrc/\" title=\"دوره پاییزه یادگیری عمیق (یادگیری ژرف)\" class=\"img-link\"><img width=\"150\" height=\"150\" src=\"http://www.snrazavi.ir/wp-content/uploads/2017/10/DL_Poster_ITRC-150x150.jpg\" class=\"attachment-rainforest_thumb size-rainforest_thumb wp-post-image\" alt=\"پوستر دوره پاییزه یادگیری عمیق\" /></a>\r\n",
      "            <p>اسلایدها و ویدیوهای «دوره پاییزه یادگیری عمیق»، برگزار شده در پژوهشگاه ارتباطات و فناوری اطلاعات، ۱۲ مهر ۱۳۹۶</p>\n",
      "<div class=\"addtoany_share_save_container addtoany_content_bottom\"><div class=\"a2a_kit a2a_kit_size_32 addtoany_list\" data-a2a-url=\"http://www.snrazavi.ir/dl-itrc/\" data-a2a-title=\"دوره پاییزه یادگیری عمیق (یادگیری ژرف)\"><a class=\"a2a_button_facebook\" href=\"https://www.addtoany.com/add_to/facebook?linkurl=http%3A%2F%2Fwww.snrazavi.ir%2Fdl-itrc%2F&amp;linkname=%D8%AF%D9%88%D8%B1%D9%87%20%D9%BE%D8%A7%DB%8C%DB%8C%D8%B2%D9%87%20%DB%8C%D8%A7%D8%AF%DA%AF%DB%8C%D8%B1%DB%8C%20%D8%B9%D9%85%DB%8C%D9%82%20%28%DB%8C%D8%A7%D8%AF%DA%AF%DB%8C%D8%B1%DB%8C%20%DA%98%D8%B1%D9%81%29\" title=\"Facebook\" rel=\"nofollow noopener\" target=\"_blank\"></a><a class=\"a2a_button_twitter\" href=\"https://www.addtoany.com/add_to/twitter?linkurl=http%3A%2F%2Fwww.snrazavi.ir%2Fdl-itrc%2F&amp;linkname=%D8%AF%D9%88%D8%B1%D9%87%20%D9%BE%D8%A7%DB%8C%DB%8C%D8%B2%D9%87%20%DB%8C%D8%A7%D8%AF%DA%AF%DB%8C%D8%B1%DB%8C%20%D8%B9%D9%85%DB%8C%D9%82%20%28%DB%8C%D8%A7%D8%AF%DA%AF%DB%8C%D8%B1%DB%8C%20%DA%98%D8%B1%D9%81%29\" title=\"Twitter\" rel=\"nofollow noopener\" target=\"_blank\"></a><a class=\"a2a_button_google_plus\" href=\"https://www.addtoany.com/add_to/google_plus?linkurl=http%3A%2F%2Fwww.snrazavi.ir%2Fdl-itrc%2F&amp;linkname=%D8%AF%D9%88%D8%B1%D9%87%20%D9%BE%D8%A7%DB%8C%DB%8C%D8%B2%D9%87%20%DB%8C%D8%A7%D8%AF%DA%AF%DB%8C%D8%B1%DB%8C%20%D8%B9%D9%85%DB%8C%D9%82%20%28%DB%8C%D8%A7%D8%AF%DA%AF%DB%8C%D8%B1%DB%8C%20%DA%98%D8%B1%D9%81%29\" title=\"Google+\" rel=\"nofollow noopener\" target=\"_blank\"></a><a class=\"a2a_dd addtoany_share_save\" href=\"https://www.addtoany.com/share\"></a></div></div>        </div><!-- .entry-content -->\r\n",
      "    \r\n",
      "    <footer class=\"entry-footer\">\r\n",
      "\t<span class=\"cat-links\"><span class=\"posted-in\">دسته بندی: </span><span class=\"cat-list\"><a href=\"http://www.snrazavi.ir/category/workshops/\" rel=\"category tag\">دوره‌های آموزشی</a></span></span><span class=\"tags-links\"><span class=\"tagged\"></span><span class=\"tags-list\"> <span></span><a href=\"http://www.snrazavi.ir/tag/%d9%be%d8%b3%e2%80%8c%d8%a7%d9%86%d8%aa%d8%b4%d8%a7%d8%b1-%d8%ae%d8%b7%d8%a7/\" rel=\"tag\">پس‌انتشار خطا</a><a href=\"http://www.snrazavi.ir/tag/%d8%aa%d8%a7%d8%a8%d8%b9-%d9%87%d8%b2%db%8c%d9%86%d9%87/\" rel=\"tag\">تابع هزینه</a><a href=\"http://www.snrazavi.ir/tag/%d8%af%d8%b3%d8%aa%d9%87%e2%80%8c%d8%a8%d9%86%d8%af%db%8c/\" rel=\"tag\">دسته‌بندی</a><a href=\"http://www.snrazavi.ir/tag/%d8%b4%d8%a8%da%a9%d9%87-%d8%b9%d8%b5%d8%a8%db%8c/\" rel=\"tag\">شبکه عصبی</a><a href=\"http://www.snrazavi.ir/tag/%d8%b4%d8%a8%da%a9%d9%87-%d8%b9%d8%b5%d8%a8%db%8c-%da%a9%d8%a7%d9%86%d9%88%d9%84%d9%88%d8%b4%d9%86/\" rel=\"tag\">شبکه عصبی کانولوشن</a><a href=\"http://www.snrazavi.ir/tag/%da%af%d8%b1%d8%a7%d8%af%db%8c%d8%a7%d9%86-%da%a9%d8%a7%d9%87%d8%b4%db%8c/\" rel=\"tag\">گرادیان کاهشی</a><a href=\"http://www.snrazavi.ir/tag/video/\" rel=\"tag\">ویدیو</a><a href=\"http://www.snrazavi.ir/tag/deep-learning/\" rel=\"tag\">یادگیری ژرف</a><a href=\"http://www.snrazavi.ir/tag/dl/\" rel=\"tag\">یادگیری عمیق</a><a href=\"http://www.snrazavi.ir/tag/machine-learning/\" rel=\"tag\">یادگیری ماشین</a> </span></span><div class=\"clear\"></div><div class=\"comments\"><span class=\"comments-link\"><a href=\"http://www.snrazavi.ir/dl-itrc/#comments\">۳ دیدگاه <span class=\"screen-reader-text\">برای دوره پاییزه یادگیری عمیق (یادگیری ژرف)</span></a></span></div>        <div class=\"clear\"></div>\r\n",
      "    </footer><!-- .entry-footer -->\r\n",
      "        \r\n",
      "</article>\r\n",
      "\r\n",
      "   \r\n",
      "    <hr /> <!--separator betwenn articles-->\r\n",
      "<!-- #post-## -->\r\n",
      "\r\n",
      "<article id=\"post-31\" class=\"post-31 post type-post status-publish format-standard has-post-thumbnail hentry category-workshops category-machine-learning tag-matplotlib tag-numpy tag-scikit-learn tag-python tag-97 tag-85 tag-75 tag-71 tag-77 tag-57 tag-86 tag-76 tag-video tag-84 tag-machine-learning tag-96\">\r\n",
      "    <header class=\"entry-header\">\r\n",
      "        <h1 class=\"entry-title\"><a href=\"http://www.snrazavi.ir/ml-with-python/\" rel=\"bookmark\">کارگاه یادگیری ماشین با پایتون</a></h1>            <div class=\"entry-meta\">\r\n",
      "                <span class=\"posted-on\"><time class=\"entry-date published\" datetime=\"۱۳۹۶-۷-۲۱ ۱۸:۵۷:۴۴ +۰۰:۰۰\">مهر ۲۱, ۱۳۹۶</time><time class=\"updated\" datetime=\"۱۳۹۶-۹-۲۲ ۱۹:۴۰:۱۰ +۰۰:۰۰\">آذر ۲۲, ۱۳۹۶</time></span>\r\n",
      "            </div><!-- .entry-meta -->\r\n",
      "                \r\n",
      "    </header><!-- .entry-header -->\r\n",
      "    \r\n",
      "    \t\r\n",
      "        <div class=\"entry-content\">\r\n",
      "            \r\n",
      "                            <a href=\"http://www.snrazavi.ir/ml-with-python/\" title=\"کارگاه یادگیری ماشین با پایتون\" class=\"img-link\"><img width=\"150\" height=\"111\" src=\"http://www.snrazavi.ir/wp-content/uploads/2017/10/photo_2017-10-13_13-09-01.jpg\" class=\"attachment-rainforest_thumb size-rainforest_thumb wp-post-image\" alt=\"دوره عملی یادگیری ماشین با پایتون\" srcset=\"http://www.snrazavi.ir/wp-content/uploads/2017/10/photo_2017-10-13_13-09-01.jpg 1280w, http://www.snrazavi.ir/wp-content/uploads/2017/10/photo_2017-10-13_13-09-01-300x223.jpg 300w, http://www.snrazavi.ir/wp-content/uploads/2017/10/photo_2017-10-13_13-09-01-768x570.jpg 768w, http://www.snrazavi.ir/wp-content/uploads/2017/10/photo_2017-10-13_13-09-01-1024x760.jpg 1024w\" sizes=\"(max-width: 150px) 100vw, 150px\" /></a>\r\n",
      "            <p>«کارگاه یادگیری ماشین با پایتون» در دانشکده مهندسی برق و کامپیوتر دانشگاه تبریز (پاییز ۱۳۹۶)<br />\n",
      "برای دیدن سرفصل مباحث ارائه شده و مشاهده ویدیوها به متن نوشته مراجعه نمایید.</p>\n",
      "<div class=\"addtoany_share_save_container addtoany_content_bottom\"><div class=\"a2a_kit a2a_kit_size_32 addtoany_list\" data-a2a-url=\"http://www.snrazavi.ir/ml-with-python/\" data-a2a-title=\"کارگاه یادگیری ماشین با پایتون\"><a class=\"a2a_button_facebook\" href=\"https://www.addtoany.com/add_to/facebook?linkurl=http%3A%2F%2Fwww.snrazavi.ir%2Fml-with-python%2F&amp;linkname=%DA%A9%D8%A7%D8%B1%DA%AF%D8%A7%D9%87%20%DB%8C%D8%A7%D8%AF%DA%AF%DB%8C%D8%B1%DB%8C%20%D9%85%D8%A7%D8%B4%DB%8C%D9%86%20%D8%A8%D8%A7%20%D9%BE%D8%A7%DB%8C%D8%AA%D9%88%D9%86\" title=\"Facebook\" rel=\"nofollow noopener\" target=\"_blank\"></a><a class=\"a2a_button_twitter\" href=\"https://www.addtoany.com/add_to/twitter?linkurl=http%3A%2F%2Fwww.snrazavi.ir%2Fml-with-python%2F&amp;linkname=%DA%A9%D8%A7%D8%B1%DA%AF%D8%A7%D9%87%20%DB%8C%D8%A7%D8%AF%DA%AF%DB%8C%D8%B1%DB%8C%20%D9%85%D8%A7%D8%B4%DB%8C%D9%86%20%D8%A8%D8%A7%20%D9%BE%D8%A7%DB%8C%D8%AA%D9%88%D9%86\" title=\"Twitter\" rel=\"nofollow noopener\" target=\"_blank\"></a><a class=\"a2a_button_google_plus\" href=\"https://www.addtoany.com/add_to/google_plus?linkurl=http%3A%2F%2Fwww.snrazavi.ir%2Fml-with-python%2F&amp;linkname=%DA%A9%D8%A7%D8%B1%DA%AF%D8%A7%D9%87%20%DB%8C%D8%A7%D8%AF%DA%AF%DB%8C%D8%B1%DB%8C%20%D9%85%D8%A7%D8%B4%DB%8C%D9%86%20%D8%A8%D8%A7%20%D9%BE%D8%A7%DB%8C%D8%AA%D9%88%D9%86\" title=\"Google+\" rel=\"nofollow noopener\" target=\"_blank\"></a><a class=\"a2a_dd addtoany_share_save\" href=\"https://www.addtoany.com/share\"></a></div></div>        </div><!-- .entry-content -->\r\n",
      "    \r\n",
      "    <footer class=\"entry-footer\">\r\n",
      "\t<span class=\"cat-links\"><span class=\"posted-in\">دسته بندی: </span><span class=\"cat-list\"><a href=\"http://www.snrazavi.ir/category/workshops/\" rel=\"category tag\">دوره‌های آموزشی</a><span></span><a href=\"http://www.snrazavi.ir/category/courses/machine-learning/\" rel=\"category tag\">یادگیری ماشین</a></span></span><span class=\"tags-links\"><span class=\"tagged\"></span><span class=\"tags-list\"> <span></span><a href=\"http://www.snrazavi.ir/tag/matplotlib/\" rel=\"tag\">matplotlib</a><a href=\"http://www.snrazavi.ir/tag/numpy/\" rel=\"tag\">numpy</a><a href=\"http://www.snrazavi.ir/tag/scikit-learn/\" rel=\"tag\">scikit learn</a><a href=\"http://www.snrazavi.ir/tag/python/\" rel=\"tag\">پایتون</a><a href=\"http://www.snrazavi.ir/tag/%d8%aa%d8%ad%d9%84%db%8c%d9%84-%d9%85%d8%a4%d9%84%d9%81%d9%87%e2%80%8c%d9%87%d8%a7%db%8c-%d8%a7%d8%b5%d9%84%db%8c/\" rel=\"tag\">تحلیل مؤلفه‌های اصلی</a><a href=\"http://www.snrazavi.ir/tag/%d8%ae%d9%88%d8%b4%d9%87%e2%80%8c%d8%a8%d9%86%d8%af%db%8c/\" rel=\"tag\">خوشه‌بندی</a><a href=\"http://www.snrazavi.ir/tag/%d8%af%d8%b3%d8%aa%d9%87%e2%80%8c%d8%a8%d9%86%d8%af%db%8c/\" rel=\"tag\">دسته‌بندی</a><a href=\"http://www.snrazavi.ir/tag/%d8%b1%da%af%d8%b1%d8%b3%db%8c%d9%88%d9%86/\" rel=\"tag\">رگرسیون</a><a href=\"http://www.snrazavi.ir/tag/%d8%b1%da%af%d8%b1%d8%b3%db%8c%d9%88%d9%86-%d9%84%d8%ac%d8%b3%d8%aa%db%8c%da%a9/\" rel=\"tag\">رگرسیون لجستیک</a><a href=\"http://www.snrazavi.ir/tag/%d8%b4%d8%a8%da%a9%d9%87-%d8%b9%d8%b5%d8%a8%db%8c/\" rel=\"tag\">شبکه عصبی</a><a href=\"http://www.snrazavi.ir/tag/%da%a9%d8%a7%d9%87%d8%b4-%d8%a7%d8%a8%d8%b9%d8%a7%d8%af/\" rel=\"tag\">کاهش ابعاد</a><a href=\"http://www.snrazavi.ir/tag/%da%a9%d9%84%d8%a7%d8%b3%e2%80%8c%d8%a8%d9%86%d8%af%db%8c/\" rel=\"tag\">کلاس‌بندی</a><a href=\"http://www.snrazavi.ir/tag/video/\" rel=\"tag\">ویدیو</a><a href=\"http://www.snrazavi.ir/tag/%db%8c%d8%a7%d8%af%da%af%db%8c%d8%b1%db%8c-%d8%a8%d8%af%d9%88%d9%86-%d9%86%d8%b8%d8%a7%d8%b1%d8%aa/\" rel=\"tag\">یادگیری بدون نظارت</a><a href=\"http://www.snrazavi.ir/tag/machine-learning/\" rel=\"tag\">یادگیری ماشین</a><a href=\"http://www.snrazavi.ir/tag/%db%8c%d8%a7%d8%af%da%af%db%8c%d8%b1%db%8c-%d9%86%d8%b8%d8%a7%d8%b1%d8%aa-%d8%b4%d8%af%d9%87/\" rel=\"tag\">یادگیری نظارت شده</a> </span></span><div class=\"clear\"></div><div class=\"comments\"><span class=\"comments-link\"><a href=\"http://www.snrazavi.ir/ml-with-python/#comments\">۶۴ دیدگاه <span class=\"screen-reader-text\">برای کارگاه یادگیری ماشین با پایتون</span></a></span></div>        <div class=\"clear\"></div>\r\n",
      "    </footer><!-- .entry-footer -->\r\n",
      "        \r\n",
      "</article>\r\n",
      "\r\n",
      "   \r\n",
      "    <hr /> <!--separator betwenn articles-->\r\n",
      "<!-- #post-## -->\r\n",
      "\r\n",
      "<article id=\"post-16\" class=\"post-16 post type-post status-publish format-standard hentry category-hamyad tag-thesis tag-project tag-phd-thesis tag-57 tag-deep-learning tag-dl tag-machine-learning\">\r\n",
      "    <header class=\"entry-header\">\r\n",
      "        <h1 class=\"entry-title\"><a href=\"http://www.snrazavi.ir/thesis-topics-hamyad/\" rel=\"bookmark\">عنوان پروژه‌های پیشنهادی برای دانشجویان ارشد و دکترا (۲۰۱۷)</a></h1>            <div class=\"entry-meta\">\r\n",
      "                <span class=\"posted-on\"><time class=\"entry-date published\" datetime=\"۱۳۹۶-۷-۲۱ ۱۸:۲۶:۲۶ +۰۰:۰۰\">مهر ۲۱, ۱۳۹۶</time><time class=\"updated\" datetime=\"۱۳۹۶-۹-۲۰ ۱۲:۱۶:۲۰ +۰۰:۰۰\">آذر ۲۰, ۱۳۹۶</time></span>\r\n",
      "            </div><!-- .entry-meta -->\r\n",
      "                \r\n",
      "    </header><!-- .entry-header -->\r\n",
      "    \r\n",
      "    \t\r\n",
      "        <div class=\"entry-content\">\r\n",
      "            \r\n",
      "            <a href=\"http://www.snrazavi.ir/thesis-topics-hamyad/\" class=\"more-link\"> [&hellip;]</a><p>عناوین پروژه‌های پیشنهادی در آزمایشگاه هوش محاسباتی و یادگیری ماشین پردازش تصویر و یادگیری عمیق طراحی و پیاده‌سازی جویشگر چهره یک سامانه بازیابی تصویر بر اساس ویژگی‌های عمیق تشخیص نوع فعالیت انسان به وسیله‌ی یادگیری عمیق جستجوی شخص در تصویر به وسیله‌ی یادگیری عمیق قطعه‌بندی تصویر برای کاربردهای مختلف (پزشکی و غیره) طبقه‌بندی عکس‌های سلفی با استفاده از یادگیری ماشین پردازش تصویر و خودروی هوشمند تشخیص حواس‌پرتی راننده با استفاده از یادگیری عمیق تشخیص عابر پیاده، دوچرخه، موتورسیکلت تشخیص تابلوهای رانندگی با یادگیری عمیق تشخیص چراغ راهنمایی رانندگی با شبکه‌های عصبی کانولوشن مترجم ماشینی توسعه مترجم ماشینی با چند زبان۸۸</p>\n",
      "<div class=\"addtoany_share_save_container addtoany_content_bottom\"><div class=\"a2a_kit a2a_kit_size_32 addtoany_list\" data-a2a-url=\"http://www.snrazavi.ir/thesis-topics-hamyad/\" data-a2a-title=\"عنوان پروژه‌های پیشنهادی برای دانشجویان ارشد و دکترا (۲۰۱۷)\"><a class=\"a2a_button_facebook\" href=\"https://www.addtoany.com/add_to/facebook?linkurl=http%3A%2F%2Fwww.snrazavi.ir%2Fthesis-topics-hamyad%2F&amp;linkname=%D8%B9%D9%86%D9%88%D8%A7%D9%86%20%D9%BE%D8%B1%D9%88%DA%98%D9%87%E2%80%8C%D9%87%D8%A7%DB%8C%20%D9%BE%DB%8C%D8%B4%D9%86%D9%87%D8%A7%D8%AF%DB%8C%20%D8%A8%D8%B1%D8%A7%DB%8C%20%D8%AF%D8%A7%D9%86%D8%B4%D8%AC%D9%88%DB%8C%D8%A7%D9%86%20%D8%A7%D8%B1%D8%B4%D8%AF%20%D9%88%20%D8%AF%DA%A9%D8%AA%D8%B1%D8%A7%20%28%DB%B2%DB%B0%DB%B1%DB%B7%29\" title=\"Facebook\" rel=\"nofollow noopener\" target=\"_blank\"></a><a class=\"a2a_button_twitter\" href=\"https://www.addtoany.com/add_to/twitter?linkurl=http%3A%2F%2Fwww.snrazavi.ir%2Fthesis-topics-hamyad%2F&amp;linkname=%D8%B9%D9%86%D9%88%D8%A7%D9%86%20%D9%BE%D8%B1%D9%88%DA%98%D9%87%E2%80%8C%D9%87%D8%A7%DB%8C%20%D9%BE%DB%8C%D8%B4%D9%86%D9%87%D8%A7%D8%AF%DB%8C%20%D8%A8%D8%B1%D8%A7%DB%8C%20%D8%AF%D8%A7%D9%86%D8%B4%D8%AC%D9%88%DB%8C%D8%A7%D9%86%20%D8%A7%D8%B1%D8%B4%D8%AF%20%D9%88%20%D8%AF%DA%A9%D8%AA%D8%B1%D8%A7%20%28%DB%B2%DB%B0%DB%B1%DB%B7%29\" title=\"Twitter\" rel=\"nofollow noopener\" target=\"_blank\"></a><a class=\"a2a_button_google_plus\" href=\"https://www.addtoany.com/add_to/google_plus?linkurl=http%3A%2F%2Fwww.snrazavi.ir%2Fthesis-topics-hamyad%2F&amp;linkname=%D8%B9%D9%86%D9%88%D8%A7%D9%86%20%D9%BE%D8%B1%D9%88%DA%98%D9%87%E2%80%8C%D9%87%D8%A7%DB%8C%20%D9%BE%DB%8C%D8%B4%D9%86%D9%87%D8%A7%D8%AF%DB%8C%20%D8%A8%D8%B1%D8%A7%DB%8C%20%D8%AF%D8%A7%D9%86%D8%B4%D8%AC%D9%88%DB%8C%D8%A7%D9%86%20%D8%A7%D8%B1%D8%B4%D8%AF%20%D9%88%20%D8%AF%DA%A9%D8%AA%D8%B1%D8%A7%20%28%DB%B2%DB%B0%DB%B1%DB%B7%29\" title=\"Google+\" rel=\"nofollow noopener\" target=\"_blank\"></a><a class=\"a2a_dd addtoany_share_save\" href=\"https://www.addtoany.com/share\"></a></div></div>        </div><!-- .entry-content -->\r\n",
      "    \r\n",
      "    <footer class=\"entry-footer\">\r\n",
      "\t<span class=\"cat-links\"><span class=\"posted-in\">دسته بندی: </span><span class=\"cat-list\"><a href=\"http://www.snrazavi.ir/category/hamyad/\" rel=\"category tag\">آزمایشگاه هوش محاسباتی و یادگیری ماشین</a></span></span><span class=\"tags-links\"><span class=\"tagged\"></span><span class=\"tags-list\"> <span></span><a href=\"http://www.snrazavi.ir/tag/thesis/\" rel=\"tag\">پایان‌نامه</a><a href=\"http://www.snrazavi.ir/tag/project/\" rel=\"tag\">پروژه</a><a href=\"http://www.snrazavi.ir/tag/phd-thesis/\" rel=\"tag\">رساله دکترا</a><a href=\"http://www.snrazavi.ir/tag/%d8%b4%d8%a8%da%a9%d9%87-%d8%b9%d8%b5%d8%a8%db%8c/\" rel=\"tag\">شبکه عصبی</a><a href=\"http://www.snrazavi.ir/tag/deep-learning/\" rel=\"tag\">یادگیری ژرف</a><a href=\"http://www.snrazavi.ir/tag/dl/\" rel=\"tag\">یادگیری عمیق</a><a href=\"http://www.snrazavi.ir/tag/machine-learning/\" rel=\"tag\">یادگیری ماشین</a> </span></span><div class=\"clear\"></div><div class=\"comments\"><span class=\"comments-link\"><a href=\"http://www.snrazavi.ir/thesis-topics-hamyad/#comments\">۲ دیدگاه <span class=\"screen-reader-text\">برای عنوان پروژه‌های پیشنهادی برای دانشجویان ارشد و دکترا (۲۰۱۷)</span></a></span></div>        <div class=\"clear\"></div>\r\n",
      "    </footer><!-- .entry-footer -->\r\n",
      "        \r\n",
      "</article>\r\n",
      "\r\n",
      "   \r\n",
      "    <hr /> <!--separator betwenn articles-->\r\n",
      "<!-- #post-## -->\r\n",
      "\r\n",
      "    </main><!-- #main -->\r\n",
      "</div><!-- #primary -->\r\n",
      "\r\n",
      "<aside id=\"secondary\" class=\"widget-area\">\n",
      "        <section id=\"search-2\" class=\"widget widget_search\">\r\n",
      "<form role=\"search\" method=\"get\" class=\"search-form\" autocomplete=\"off\" action=\"http://www.snrazavi.ir/\">\r\n",
      "    <label>\r\n",
      "\t<span class=\"screen-reader-text\">Search for:</span>\r\n",
      "\t<input type=\"search\" class=\"search-field\" placeholder=\" جستجو &hellip;\" value=\"\" name=\"s\" title=\"Search for:\" />\r\n",
      "    </label>\r\n",
      "    <input type=\"submit\" class=\"search-submit\" value=\"\"><span class=\"screen-reader-text\">Search</span>\r\n",
      "</form></section>\n",
      "<!-- WordPress Popular Posts Plugin [W] [monthly] [views] [regular] -->\n",
      "\n",
      "<section id=\"wpp-2\" class=\"widget popular-posts\">\n",
      "<h2 class=\"widget-title\">پربازدیدترین‌ها</h2>\n",
      "<ul class=\"wpp-list\">\n",
      "<li>\n",
      "<a href=\"http://www.snrazavi.ir/deep-learning-intro/\" title=\"یادگیری عمیق: فرصت‌ها و چالش‌ها\" class=\"wpp-post-title\" target=\"_self\">یادگیری عمیق: فرصت‌ها و چالش‌ها</a>\n",
      "</li>\n",
      "<li>\n",
      "<a href=\"http://www.snrazavi.ir/ml-slides/\" title=\"اسلایدها و ویدیوهای درس یادگیری ماشین\" class=\"wpp-post-title\" target=\"_self\">اسلایدها و ویدیوهای درس یادگیری ماشین</a>\n",
      "</li>\n",
      "<li>\n",
      "<a href=\"http://www.snrazavi.ir/dl-itrc/\" title=\"دوره پاییزه یادگیری عمیق (یادگیری ژرف)\" class=\"wpp-post-title\" target=\"_self\">دوره پاییزه یادگیری عمیق (یادگیری ژرف)</a>\n",
      "</li>\n",
      "<li>\n",
      "<a href=\"http://www.snrazavi.ir/ml-with-python/\" title=\"کارگاه یادگیری ماشین با پایتون\" class=\"wpp-post-title\" target=\"_self\">کارگاه یادگیری ماشین با پایتون</a>\n",
      "</li>\n",
      "<li>\n",
      "<a href=\"http://www.snrazavi.ir/how-to-learn-deep-learning/\" title=\"چگونه یادگیری عمیق را عمیق یاد بگیرم؟\" class=\"wpp-post-title\" target=\"_self\">چگونه یادگیری عمیق را عمیق یاد بگیرم؟</a>\n",
      "</li>\n",
      "<li>\n",
      "<a href=\"http://www.snrazavi.ir/python-videos/\" title=\"دوره آموزش پایتون و پیاده‌سازی جویشگر متنی\" class=\"wpp-post-title\" target=\"_self\">دوره آموزش پایتون و پیاده‌سازی جویشگر متنی</a>\n",
      "</li>\n",
      "<li>\n",
      "<a href=\"http://www.snrazavi.ir/ai-slides/\" title=\"اسلایدهای درس هوش مصنوعی\" class=\"wpp-post-title\" target=\"_self\">اسلایدهای درس هوش مصنوعی</a>\n",
      "</li>\n",
      "<li>\n",
      "<a href=\"http://www.snrazavi.ir/data-structures-slides/\" title=\"اسلایدهای درس ساختمان داده‌ها و الگوریتم‌ها\" class=\"wpp-post-title\" target=\"_self\">اسلایدهای درس ساختمان داده‌ها و الگوریتم‌ها</a>\n",
      "</li>\n",
      "<li>\n",
      "<a href=\"http://www.snrazavi.ir/algorithms-slides/\" title=\"اسلایدهای درس تحلیل و طراحی الگوریتم‌ها\" class=\"wpp-post-title\" target=\"_self\">اسلایدهای درس تحلیل و طراحی الگوریتم‌ها</a>\n",
      "</li>\n",
      "<li>\n",
      "<a href=\"http://www.snrazavi.ir/java-programming-slides/\" title=\"اسلایدهای برنامه‌نویسی کاربردی با جاوا\" class=\"wpp-post-title\" target=\"_self\">اسلایدهای برنامه‌نویسی کاربردی با جاوا</a>\n",
      "</li>\n",
      "</ul>\n",
      "\n",
      "</section>\n",
      "\t\t<section id=\"recent-posts-2\" class=\"widget widget_recent_entries\">\t\t<h2 class=\"widget-title\">نوشته‌های تازه</h2>\t\t<ul>\n",
      "\t\t\t\t\t\t\t\t\t\t\t<li>\n",
      "\t\t\t\t\t<a href=\"http://www.snrazavi.ir/how-to-learn-deep-learning/\">چگونه یادگیری عمیق را عمیق یاد بگیرم؟</a>\n",
      "\t\t\t\t\t\t\t\t\t</li>\n",
      "\t\t\t\t\t\t\t\t\t\t\t<li>\n",
      "\t\t\t\t\t<a href=\"http://www.snrazavi.ir/deep-learning-intro/\">یادگیری عمیق: فرصت‌ها و چالش‌ها</a>\n",
      "\t\t\t\t\t\t\t\t\t</li>\n",
      "\t\t\t\t\t\t\t\t\t\t\t<li>\n",
      "\t\t\t\t\t<a href=\"http://www.snrazavi.ir/java-programming-slides/\">اسلایدهای برنامه‌نویسی کاربردی با جاوا</a>\n",
      "\t\t\t\t\t\t\t\t\t</li>\n",
      "\t\t\t\t\t\t\t\t\t\t\t<li>\n",
      "\t\t\t\t\t<a href=\"http://www.snrazavi.ir/data-structures-slides/\">اسلایدهای درس ساختمان داده‌ها و الگوریتم‌ها</a>\n",
      "\t\t\t\t\t\t\t\t\t</li>\n",
      "\t\t\t\t\t\t\t\t\t\t\t<li>\n",
      "\t\t\t\t\t<a href=\"http://www.snrazavi.ir/algorithms-slides/\">اسلایدهای درس تحلیل و طراحی الگوریتم‌ها</a>\n",
      "\t\t\t\t\t\t\t\t\t</li>\n",
      "\t\t\t\t\t\t\t\t\t\t\t<li>\n",
      "\t\t\t\t\t<a href=\"http://www.snrazavi.ir/farsi-challenge/\">چالش فارسی‌نویسی</a>\n",
      "\t\t\t\t\t\t\t\t\t</li>\n",
      "\t\t\t\t\t\t\t\t\t\t\t<li>\n",
      "\t\t\t\t\t<a href=\"http://www.snrazavi.ir/how-to-write-proposal/\">چگونه پروپوزال (طرح‌نامه) بنویسیم؟</a>\n",
      "\t\t\t\t\t\t\t\t\t</li>\n",
      "\t\t\t\t\t\t\t\t\t\t\t<li>\n",
      "\t\t\t\t\t<a href=\"http://www.snrazavi.ir/ai-slides/\">اسلایدهای درس هوش مصنوعی</a>\n",
      "\t\t\t\t\t\t\t\t\t</li>\n",
      "\t\t\t\t\t\t\t\t\t\t\t<li>\n",
      "\t\t\t\t\t<a href=\"http://www.snrazavi.ir/ml-slides/\">اسلایدها و ویدیوهای درس یادگیری ماشین</a>\n",
      "\t\t\t\t\t\t\t\t\t</li>\n",
      "\t\t\t\t\t\t\t\t\t\t\t<li>\n",
      "\t\t\t\t\t<a href=\"http://www.snrazavi.ir/python-videos/\">دوره آموزش پایتون و پیاده‌سازی جویشگر متنی</a>\n",
      "\t\t\t\t\t\t\t\t\t</li>\n",
      "\t\t\t\t\t</ul>\n",
      "\t\t</section><section id=\"categories-2\" class=\"widget widget_categories\"><h2 class=\"widget-title\">دسته‌ها</h2>\t\t<ul>\n",
      "\t<li class=\"cat-item cat-item-14\"><a href=\"http://www.snrazavi.ir/category/hamyad/\" >آزمایشگاه هوش محاسباتی و یادگیری ماشین</a>\n",
      "</li>\n",
      "\t<li class=\"cat-item cat-item-52\"><a href=\"http://www.snrazavi.ir/category/courses/java/\" >برنامه‌نویسی در جاوا</a>\n",
      "</li>\n",
      "\t<li class=\"cat-item cat-item-6\"><a href=\"http://www.snrazavi.ir/category/courses/\" >دروس</a>\n",
      "</li>\n",
      "\t<li class=\"cat-item cat-item-8\"><a href=\"http://www.snrazavi.ir/category/workshops/\" >دوره‌های آموزشی</a>\n",
      "</li>\n",
      "\t<li class=\"cat-item cat-item-35\"><a href=\"http://www.snrazavi.ir/category/courses/data-structures/\" >ساختمان داده‌ها و الگوریتم‌ها</a>\n",
      "</li>\n",
      "\t<li class=\"cat-item cat-item-11\"><a href=\"http://www.snrazavi.ir/category/courses/algorithm-design/\" >طراحی الگوریتم</a>\n",
      "</li>\n",
      "\t<li class=\"cat-item cat-item-15\"><a href=\"http://www.snrazavi.ir/category/courses/artificial-intelligence/\" >هوش مصنوعی</a>\n",
      "</li>\n",
      "\t<li class=\"cat-item cat-item-12\"><a href=\"http://www.snrazavi.ir/category/courses/machine-learning/\" >یادگیری ماشین</a>\n",
      "</li>\n",
      "\t\t</ul>\n",
      "</section></aside><!-- #secondary -->\n",
      "\r\n",
      "        \r\n",
      "\r\n",
      "            </div><!-- #content -->\r\n",
      "\r\n",
      "            <footer id=\"colophon\" class=\"site-footer\">\r\n",
      "                \r\n",
      "                <div class=\"site-info\">\r\n",
      "                    <a href=\"https://wordpress.org/\">\r\n",
      "                                            </a>\r\n",
      "                    <!--<span class=\"sep\"> | </span>-->\r\n",
      "                                    </div><!-- .site-info -->\r\n",
      "            </footer><!-- #colophon -->\r\n",
      "    </div><!-- #page -->\r\n",
      "\r\n",
      "    <script type='text/javascript' src='http://www.snrazavi.ir/wp-content/themes/rainforest/js/navigation.js?ver=20151215'></script>\n",
      "<script type='text/javascript' src='http://www.snrazavi.ir/wp-content/themes/rainforest/js/skip-link-focus-fix.js?ver=20151215'></script>\n",
      "<script type='text/javascript' src='http://www.snrazavi.ir/wp-content/themes/rainforest/js/tables.js?ver=4.9.1'></script>\n",
      "<script type='text/javascript' src='http://www.snrazavi.ir/wp-content/themes/rainforest/js/hover.js?ver=4.9.1'></script>\n",
      "<script type='text/javascript' src='http://www.snrazavi.ir/wp-includes/js/wp-embed.min.js?ver=4.9.1'></script>\n",
      "\r\n",
      "    </body>\r\n",
      "</html>\r\n",
      "\n"
     ]
    }
   ],
   "source": [
    "import urllib\n",
    "url = \"http://www.snrazavi.ir/\"\n",
    "# url = \"http://tabrizu.ac.ir\"\n",
    "content = urllib.urlopen(url).read()\n",
    "print content"
   ]
  },
  {
   "cell_type": "code",
   "execution_count": 49,
   "metadata": {
    "nbpresent": {
     "id": "960ca8fe-97db-4103-8638-25a1411ebaef"
    }
   },
   "outputs": [
    {
     "name": "stdout",
     "output_type": "stream",
     "text": [
      "22810\n"
     ]
    }
   ],
   "source": [
    "print content.find('<a href=')"
   ]
  },
  {
   "cell_type": "code",
   "execution_count": 50,
   "metadata": {
    "nbpresent": {
     "id": "5ae500a3-8806-48c5-83d4-bae281c24569"
    }
   },
   "outputs": [
    {
     "name": "stdout",
     "output_type": "stream",
     "text": [
      "http://www.snrazavi.ir/\n"
     ]
    }
   ],
   "source": [
    "start_link = content.find(\"<a href=\")\n",
    "start_quote = content.find('\"', start_link)\n",
    "end_quote = content.find('\"', start_quote + 1)\n",
    "print content[start_quote + 1: end_quote]"
   ]
  },
  {
   "cell_type": "code",
   "execution_count": 51,
   "metadata": {
    "nbpresent": {
     "id": "4bf864f6-a45a-4da3-9d4d-6ae9ee966136"
    }
   },
   "outputs": [
    {
     "name": "stdout",
     "output_type": "stream",
     "text": [
      "http://www.snrazavi.ir/category/workshops/\n"
     ]
    }
   ],
   "source": [
    "content = content[end_quote:]\n",
    "\n",
    "start_link = content.find(\"<a href=\")\n",
    "start_quote = content.find('\"', start_link)\n",
    "end_quote = content.find('\"', start_quote + 1)\n",
    "print content[start_quote + 1: end_quote]"
   ]
  },
  {
   "cell_type": "code",
   "execution_count": 52,
   "metadata": {
    "nbpresent": {
     "id": "45e1d675-ae2c-4174-afa9-1ec0445f2955"
    }
   },
   "outputs": [
    {
     "name": "stdout",
     "output_type": "stream",
     "text": [
      "http://www.snrazavi.ir/about-us/\n"
     ]
    }
   ],
   "source": [
    "content = content[end_quote:]\n",
    "\n",
    "start_link = content.find(\"<a href=\")\n",
    "start_quote = content.find('\"', start_link)\n",
    "end_quote = content.find('\"', start_quote + 1)\n",
    "print content[start_quote + 1: end_quote]"
   ]
  },
  {
   "cell_type": "code",
   "execution_count": 53,
   "metadata": {
    "nbpresent": {
     "id": "af4b8e78-74c0-414c-ba61-9d1fda57d0b5"
    }
   },
   "outputs": [
    {
     "name": "stdout",
     "output_type": "stream",
     "text": [
      "http://www.snrazavi.ir/how-to-learn-deep-learning/\n"
     ]
    }
   ],
   "source": [
    "content = content[end_quote:]\n",
    "\n",
    "start_link = content.find(\"<a href=\")\n",
    "start_quote = content.find('\"', start_link)\n",
    "end_quote = content.find('\"', start_quote + 1)\n",
    "print content[start_quote + 1: end_quote]"
   ]
  },
  {
   "cell_type": "code",
   "execution_count": 54,
   "metadata": {
    "nbpresent": {
     "id": "9792301c-d00b-472d-a896-c0a85a4fea2e"
    }
   },
   "outputs": [
    {
     "name": "stdout",
     "output_type": "stream",
     "text": [
      "http://www.snrazavi.ir/how-to-learn-deep-learning/\n"
     ]
    }
   ],
   "source": [
    "content = content[end_quote:]\n",
    "\n",
    "start_link = content.find(\"<a href=\")\n",
    "start_quote = content.find('\"', start_link)\n",
    "end_quote = content.find('\"', start_quote + 1)\n",
    "print content[start_quote + 1: end_quote]"
   ]
  },
  {
   "cell_type": "code",
   "execution_count": 55,
   "metadata": {
    "nbpresent": {
     "id": "d78a14fc-dddb-4087-b260-1bdb5a33d2c8"
    }
   },
   "outputs": [
    {
     "name": "stdout",
     "output_type": "stream",
     "text": [
      "http://www.snrazavi.ir/category/hamyad/\n"
     ]
    }
   ],
   "source": [
    "content = content[end_quote:]\n",
    "\n",
    "start_link = content.find(\"<a href=\")\n",
    "start_quote = content.find('\"', start_link)\n",
    "end_quote = content.find('\"', start_quote + 1)\n",
    "print content[start_quote + 1: end_quote]"
   ]
  },
  {
   "cell_type": "markdown",
   "metadata": {
    "collapsed": true,
    "nbpresent": {
     "id": "533fbeac-f27a-4a7a-a6c5-d660f86b0cf7"
    }
   },
   "source": [
    "## How to get All links from a web page?\n",
    "\n",
    "## Next Time\n",
    "- Define and using functions\n",
    "- Using Control structure (if else, for, while)"
   ]
  }
 ],
 "metadata": {
  "kernelspec": {
   "display_name": "Python 2",
   "language": "python",
   "name": "python2"
  },
  "language_info": {
   "codemirror_mode": {
    "name": "ipython",
    "version": 2
   },
   "file_extension": ".py",
   "mimetype": "text/x-python",
   "name": "python",
   "nbconvert_exporter": "python",
   "pygments_lexer": "ipython2",
   "version": "2.7.12"
  },
  "nbpresent": {
   "slides": {
    "01841015-3069-4139-bfee-b98463df2fb1": {
     "id": "01841015-3069-4139-bfee-b98463df2fb1",
     "prev": "03bd5f64-d95a-4ad2-ad40-490b3f660e3d",
     "regions": {
      "f8da06c5-6662-4384-bba4-a0447eee34d2": {
       "attrs": {
        "height": 0.8,
        "width": 0.8,
        "x": 0.1,
        "y": 0.1
       },
       "content": {
        "cell": "de6a98ba-f676-4b7b-bf4c-cfafb055fc12",
        "part": "whole"
       },
       "id": "f8da06c5-6662-4384-bba4-a0447eee34d2"
      }
     }
    },
    "03b81b99-099f-4848-8969-3b5c428e6a04": {
     "id": "03b81b99-099f-4848-8969-3b5c428e6a04",
     "prev": "e600ec58-321f-4e93-9013-a1437d4fb5de",
     "regions": {
      "e08506b2-dee3-4f27-abdc-5d9f7c24b990": {
       "attrs": {
        "height": 0.8,
        "width": 0.8,
        "x": 0.1,
        "y": 0.1
       },
       "content": {
        "cell": "c49cbece-f142-43b5-8d8b-de9197a491e8",
        "part": "whole"
       },
       "id": "e08506b2-dee3-4f27-abdc-5d9f7c24b990"
      }
     }
    },
    "03bd5f64-d95a-4ad2-ad40-490b3f660e3d": {
     "id": "03bd5f64-d95a-4ad2-ad40-490b3f660e3d",
     "prev": "a7e95885-24e6-473f-91a0-a49ca129aaec",
     "regions": {
      "acaf64d4-73fa-42f3-be2b-4f5da6ecfef5": {
       "attrs": {
        "height": 0.8,
        "width": 0.8,
        "x": 0.1,
        "y": 0.1
       },
       "content": {
        "cell": "85d879f9-9667-41f4-9962-9049ad7b055e",
        "part": "whole"
       },
       "id": "acaf64d4-73fa-42f3-be2b-4f5da6ecfef5"
      }
     }
    },
    "17197bcc-77fe-4ba3-8696-e212ad938d11": {
     "id": "17197bcc-77fe-4ba3-8696-e212ad938d11",
     "prev": "39bba3e1-8914-4ade-84c5-8bc12ad04e21",
     "regions": {
      "1d59c622-caf7-4be6-9975-6af3a6fbd0e9": {
       "attrs": {
        "height": 0.8,
        "width": 0.8,
        "x": 0.1,
        "y": 0.1
       },
       "content": {
        "cell": "9e440165-c678-4e32-9ed5-cefb19c900fc",
        "part": "whole"
       },
       "id": "1d59c622-caf7-4be6-9975-6af3a6fbd0e9"
      }
     }
    },
    "1b45fdf3-3e49-4f85-9979-0251a5cd7b90": {
     "id": "1b45fdf3-3e49-4f85-9979-0251a5cd7b90",
     "prev": "17197bcc-77fe-4ba3-8696-e212ad938d11",
     "regions": {
      "32db41f4-c1b0-4fe7-a1fc-994ce82e2908": {
       "attrs": {
        "height": 0.8,
        "width": 0.8,
        "x": 0.1,
        "y": 0.1
       },
       "content": {
        "cell": "93bd2ee2-4857-4903-8ce0-959446a0fcf8",
        "part": "whole"
       },
       "id": "32db41f4-c1b0-4fe7-a1fc-994ce82e2908"
      }
     }
    },
    "1ea37f5b-ef82-4dbc-8d3f-6c96ba483da8": {
     "id": "1ea37f5b-ef82-4dbc-8d3f-6c96ba483da8",
     "prev": "d51c4f90-9a88-4eed-be9d-6c8e37da99c7",
     "regions": {
      "e9ad24e1-a630-49d2-9469-d32b562667a5": {
       "attrs": {
        "height": 0.8,
        "width": 0.8,
        "x": 0.1,
        "y": 0.1
       },
       "content": {
        "cell": "8396d068-62d1-4037-abc4-9314dc357f71",
        "part": "whole"
       },
       "id": "e9ad24e1-a630-49d2-9469-d32b562667a5"
      }
     }
    },
    "206ac769-4c05-47d6-8c79-b06748ddde2d": {
     "id": "206ac769-4c05-47d6-8c79-b06748ddde2d",
     "prev": "a53f11f5-9106-403b-840e-e2dc26ba368c",
     "regions": {
      "909a7c7a-8d6c-47be-8307-aa7d96a0e1e4": {
       "attrs": {
        "height": 0.8,
        "width": 0.8,
        "x": 0.1,
        "y": 0.1
       },
       "content": {
        "cell": "34e5e8c9-3a82-4355-ad33-9b2fade4175e",
        "part": "whole"
       },
       "id": "909a7c7a-8d6c-47be-8307-aa7d96a0e1e4"
      }
     }
    },
    "2815481e-a358-4e74-92b6-2e998eb1f395": {
     "id": "2815481e-a358-4e74-92b6-2e998eb1f395",
     "prev": null,
     "regions": {
      "3722a666-5af4-4f18-b71a-6957d175f231": {
       "attrs": {
        "height": 0.8,
        "width": 0.8,
        "x": 0.1,
        "y": 0.1
       },
       "content": {
        "cell": "661ffa30-f166-462a-a491-a9c184277c6f",
        "part": "whole"
       },
       "id": "3722a666-5af4-4f18-b71a-6957d175f231"
      }
     }
    },
    "2af2c1ed-7aad-41c4-b159-7e0cfa526b43": {
     "id": "2af2c1ed-7aad-41c4-b159-7e0cfa526b43",
     "prev": "3db573c3-e4de-4a4f-8455-2088748f615d",
     "regions": {
      "5b733fa9-cd8c-4183-815f-c79c3d3ae578": {
       "attrs": {
        "height": 0.8,
        "width": 0.8,
        "x": 0.1,
        "y": 0.1
       },
       "content": {
        "cell": "45e1d675-ae2c-4174-afa9-1ec0445f2955",
        "part": "whole"
       },
       "id": "5b733fa9-cd8c-4183-815f-c79c3d3ae578"
      }
     }
    },
    "2c940b4b-714d-4462-86f0-f621ddfe7444": {
     "id": "2c940b4b-714d-4462-86f0-f621ddfe7444",
     "prev": "fa6bb6da-333e-478a-aa7e-845c560672d4",
     "regions": {
      "7cb7d33d-0868-4ef6-94cb-603228a0a477": {
       "attrs": {
        "height": 0.8,
        "width": 0.8,
        "x": 0.1,
        "y": 0.1
       },
       "content": {
        "cell": "954f88b6-872c-4a74-8867-0a8692f66297",
        "part": "whole"
       },
       "id": "7cb7d33d-0868-4ef6-94cb-603228a0a477"
      }
     }
    },
    "2de70836-aa63-4d01-b69c-bfa60c22aace": {
     "id": "2de70836-aa63-4d01-b69c-bfa60c22aace",
     "prev": "788d8dcc-6574-4a57-89a6-f76a17235377",
     "regions": {
      "b69568ea-4920-4927-bf00-06443a6b9646": {
       "attrs": {
        "height": 0.8,
        "width": 0.8,
        "x": 0.1,
        "y": 0.1
       },
       "content": {
        "cell": "7882009b-8226-4032-92e3-0f36b5812c94",
        "part": "whole"
       },
       "id": "b69568ea-4920-4927-bf00-06443a6b9646"
      }
     }
    },
    "2e4b6f5d-c70f-47e1-8b02-e7bfdaa10029": {
     "id": "2e4b6f5d-c70f-47e1-8b02-e7bfdaa10029",
     "prev": "efab65c1-e30b-418b-8607-0246e1e35eb1",
     "regions": {
      "3ffd1a01-c74d-410b-9a92-48110fee6a0b": {
       "attrs": {
        "height": 0.8,
        "width": 0.8,
        "x": 0.1,
        "y": 0.1
       },
       "content": {
        "cell": "9a9a2566-abc3-4598-a3f5-48f857f8ee65",
        "part": "whole"
       },
       "id": "3ffd1a01-c74d-410b-9a92-48110fee6a0b"
      }
     }
    },
    "30c5d567-d5dc-4933-8564-d15df761c6d8": {
     "id": "30c5d567-d5dc-4933-8564-d15df761c6d8",
     "prev": "b4b5e69f-1310-48fa-a2c1-41c99efa0352",
     "regions": {
      "dc36010f-840e-42b9-8af6-39139118232b": {
       "attrs": {
        "height": 0.8,
        "width": 0.8,
        "x": 0.1,
        "y": 0.1
       },
       "content": {
        "cell": "33cb0602-ee83-4c9b-9f3f-1206968ea92f",
        "part": "whole"
       },
       "id": "dc36010f-840e-42b9-8af6-39139118232b"
      }
     }
    },
    "34f9d5a6-0c4f-45a2-a53b-b9653bbc096e": {
     "id": "34f9d5a6-0c4f-45a2-a53b-b9653bbc096e",
     "prev": "800a7d52-13fe-492f-882c-3fd04965f1fb",
     "regions": {
      "87bcac35-9f48-4851-936a-4a6a4c7ed0b0": {
       "attrs": {
        "height": 0.8,
        "width": 0.8,
        "x": 0.1,
        "y": 0.1
       },
       "content": {
        "cell": "a437cbed-6d6a-4aee-9409-6c6a8382b7aa",
        "part": "whole"
       },
       "id": "87bcac35-9f48-4851-936a-4a6a4c7ed0b0"
      }
     }
    },
    "39bba3e1-8914-4ade-84c5-8bc12ad04e21": {
     "id": "39bba3e1-8914-4ade-84c5-8bc12ad04e21",
     "prev": "9e21a432-fcaa-41b4-88e7-f87858a54c1b",
     "regions": {
      "5bdf0b41-2d39-429a-92ee-be94ff728d2d": {
       "attrs": {
        "height": 0.8,
        "width": 0.8,
        "x": 0.1,
        "y": 0.1
       },
       "content": {
        "cell": "7433520d-e1ca-4793-a909-86fbd7660bb9",
        "part": "whole"
       },
       "id": "5bdf0b41-2d39-429a-92ee-be94ff728d2d"
      }
     }
    },
    "3d74cd84-8e9e-495f-8bc4-ffd6a399c902": {
     "id": "3d74cd84-8e9e-495f-8bc4-ffd6a399c902",
     "prev": "1ea37f5b-ef82-4dbc-8d3f-6c96ba483da8",
     "regions": {
      "6f345f0e-7a00-4ad5-b064-96bc8b4e9221": {
       "attrs": {
        "height": 0.8,
        "width": 0.8,
        "x": 0.1,
        "y": 0.1
       },
       "content": {
        "cell": "da48095c-4b45-4781-b661-ff9500951aa2",
        "part": "whole"
       },
       "id": "6f345f0e-7a00-4ad5-b064-96bc8b4e9221"
      }
     }
    },
    "3db573c3-e4de-4a4f-8455-2088748f615d": {
     "id": "3db573c3-e4de-4a4f-8455-2088748f615d",
     "prev": "40b6dada-b267-48b2-b450-01f27e9b5cef",
     "regions": {
      "4941caa7-d51e-4b0a-bbcb-3ecc99d4415e": {
       "attrs": {
        "height": 0.8,
        "width": 0.8,
        "x": 0.1,
        "y": 0.1
       },
       "content": {
        "cell": "4bf864f6-a45a-4da3-9d4d-6ae9ee966136",
        "part": "whole"
       },
       "id": "4941caa7-d51e-4b0a-bbcb-3ecc99d4415e"
      }
     }
    },
    "3dffea02-3982-474a-8f96-28624537cdc3": {
     "id": "3dffea02-3982-474a-8f96-28624537cdc3",
     "prev": "e3255fda-aa69-4c74-b95f-ddf3d4b9ba00",
     "regions": {
      "01774f2b-bda8-4b23-aec6-c1490464ca10": {
       "attrs": {
        "height": 0.8,
        "width": 0.8,
        "x": 0.1,
        "y": 0.1
       },
       "content": {
        "cell": "be1b0660-0cde-4c11-81cd-57e64ea1fcc4",
        "part": "whole"
       },
       "id": "01774f2b-bda8-4b23-aec6-c1490464ca10"
      }
     }
    },
    "3e24f2dd-14ed-4175-be81-fcbe680ca4de": {
     "id": "3e24f2dd-14ed-4175-be81-fcbe680ca4de",
     "prev": "90cb0fb0-82a7-4fea-a3d0-e6a5da0bc86f",
     "regions": {
      "caa8ad56-3393-495c-a0c7-b3128dfe8a27": {
       "attrs": {
        "height": 0.8,
        "width": 0.8,
        "x": 0.1,
        "y": 0.1
       },
       "content": {
        "cell": "99e0c81b-5cc5-46cb-a356-01f1280f2cee",
        "part": "whole"
       },
       "id": "caa8ad56-3393-495c-a0c7-b3128dfe8a27"
      }
     }
    },
    "40b6dada-b267-48b2-b450-01f27e9b5cef": {
     "id": "40b6dada-b267-48b2-b450-01f27e9b5cef",
     "prev": "62b73086-d64f-4b87-9779-20b45c7e4f09",
     "regions": {
      "4be0597f-c677-4afb-911c-515b2abe2cf0": {
       "attrs": {
        "height": 0.8,
        "width": 0.8,
        "x": 0.1,
        "y": 0.1
       },
       "content": {
        "cell": "5ae500a3-8806-48c5-83d4-bae281c24569",
        "part": "whole"
       },
       "id": "4be0597f-c677-4afb-911c-515b2abe2cf0"
      }
     }
    },
    "46cb8beb-3338-4a1f-b960-9ff409bd2a8b": {
     "id": "46cb8beb-3338-4a1f-b960-9ff409bd2a8b",
     "prev": "2de70836-aa63-4d01-b69c-bfa60c22aace",
     "regions": {
      "484b0efc-6961-4eba-88e1-65f5eab4670f": {
       "attrs": {
        "height": 0.8,
        "width": 0.8,
        "x": 0.1,
        "y": 0.1
       },
       "content": {
        "cell": "6e0b640d-7fd1-4df9-afaf-7a2cedb94f8a",
        "part": "whole"
       },
       "id": "484b0efc-6961-4eba-88e1-65f5eab4670f"
      }
     }
    },
    "46d0e846-837f-47ab-acf8-36f4ebe0253e": {
     "id": "46d0e846-837f-47ab-acf8-36f4ebe0253e",
     "prev": "708ce9f7-fbfb-4c6e-98df-671818b905bd",
     "regions": {
      "0ce61dd4-509f-4b4a-a5b7-d4a8d2c5173a": {
       "attrs": {
        "height": 0.8,
        "width": 0.8,
        "x": 0.1,
        "y": 0.1
       },
       "content": {
        "cell": "80706a09-8b5b-4129-bc63-84c1d0130183",
        "part": "whole"
       },
       "id": "0ce61dd4-509f-4b4a-a5b7-d4a8d2c5173a"
      }
     }
    },
    "49111ff6-2c5c-4ffd-8374-6d58646f798a": {
     "id": "49111ff6-2c5c-4ffd-8374-6d58646f798a",
     "prev": "72c12de6-a0ab-4bb0-8cb2-c2d834265f02",
     "regions": {
      "9f3596b6-b42b-44ab-bbcc-0f478aa630ff": {
       "attrs": {
        "height": 0.8,
        "width": 0.8,
        "x": 0.1,
        "y": 0.1
       },
       "content": {
        "cell": "2ec8f011-f298-4c1e-9db1-3513ee8e622e",
        "part": "whole"
       },
       "id": "9f3596b6-b42b-44ab-bbcc-0f478aa630ff"
      }
     }
    },
    "49975dc7-b33c-40e5-b1e9-df02d35752d8": {
     "id": "49975dc7-b33c-40e5-b1e9-df02d35752d8",
     "prev": "da0b6422-b2f7-45fb-9103-6b0e7d9e2cd2",
     "regions": {
      "41d1a5c7-4704-497f-b9b8-9cf9e449bb34": {
       "attrs": {
        "height": 0.8,
        "width": 0.8,
        "x": 0.1,
        "y": 0.1
       },
       "content": {
        "cell": "9792301c-d00b-472d-a896-c0a85a4fea2e",
        "part": "whole"
       },
       "id": "41d1a5c7-4704-497f-b9b8-9cf9e449bb34"
      }
     }
    },
    "4b7f6c22-383c-44a1-b8a8-7aaff7225fa8": {
     "id": "4b7f6c22-383c-44a1-b8a8-7aaff7225fa8",
     "prev": "34f9d5a6-0c4f-45a2-a53b-b9653bbc096e",
     "regions": {
      "a731ead3-1a4e-479e-8930-2073d39abf8f": {
       "attrs": {
        "height": 0.8,
        "width": 0.8,
        "x": 0.1,
        "y": 0.1
       },
       "content": {
        "cell": "a7c691d8-718b-4b01-9bd2-cd0bff871717",
        "part": "whole"
       },
       "id": "a731ead3-1a4e-479e-8930-2073d39abf8f"
      }
     }
    },
    "52b2d726-f095-4555-970b-469a4561400c": {
     "id": "52b2d726-f095-4555-970b-469a4561400c",
     "prev": "69cde802-fb22-4ac8-aeea-7e5ded7b6cbd",
     "regions": {
      "f98d11a8-0152-4c07-8ca9-5a79b06747c8": {
       "attrs": {
        "height": 0.8,
        "width": 0.8,
        "x": 0.1,
        "y": 0.1
       },
       "content": {
        "cell": "c87c8fce-ca69-4b92-8f51-5ca5726dc588",
        "part": "whole"
       },
       "id": "f98d11a8-0152-4c07-8ca9-5a79b06747c8"
      }
     }
    },
    "52febaaf-0319-4743-9647-552fd9d3a1c1": {
     "id": "52febaaf-0319-4743-9647-552fd9d3a1c1",
     "prev": "52b2d726-f095-4555-970b-469a4561400c",
     "regions": {
      "230a8c84-c498-437d-8d71-6fa39bbbafc4": {
       "attrs": {
        "height": 0.8,
        "width": 0.8,
        "x": 0.1,
        "y": 0.1
       },
       "content": {
        "cell": "b3e4a732-15d4-4533-8484-fda6d4917c8e",
        "part": "whole"
       },
       "id": "230a8c84-c498-437d-8d71-6fa39bbbafc4"
      }
     }
    },
    "593bba80-cff1-4b12-bb7e-56691d9fce74": {
     "id": "593bba80-cff1-4b12-bb7e-56691d9fce74",
     "prev": "c76edb49-1ec4-4057-93c0-5fd2886da515",
     "regions": {
      "126597ed-8b2d-49ab-8888-9ac951fb0100": {
       "attrs": {
        "height": 0.8,
        "width": 0.8,
        "x": 0.1,
        "y": 0.1
       },
       "content": {
        "cell": "741b4c82-909c-4fa8-9aa8-305d44bc5aed",
        "part": "whole"
       },
       "id": "126597ed-8b2d-49ab-8888-9ac951fb0100"
      }
     }
    },
    "5c24f843-b9f0-44a7-8ab2-8efa762e70df": {
     "id": "5c24f843-b9f0-44a7-8ab2-8efa762e70df",
     "prev": "2815481e-a358-4e74-92b6-2e998eb1f395",
     "regions": {
      "99c00ee8-1a7d-4d58-9bc1-fd0a8d81d91b": {
       "attrs": {
        "height": 0.8,
        "width": 0.8,
        "x": 0.1,
        "y": 0.1
       },
       "content": {
        "cell": "af3a8905-c12c-47cf-81a3-a4f25f5b560a",
        "part": "whole"
       },
       "id": "99c00ee8-1a7d-4d58-9bc1-fd0a8d81d91b"
      }
     }
    },
    "62b73086-d64f-4b87-9779-20b45c7e4f09": {
     "id": "62b73086-d64f-4b87-9779-20b45c7e4f09",
     "prev": "d611a4a1-697f-458e-80e6-de1e22709673",
     "regions": {
      "ab02635f-c332-4d07-ba7a-ac89ffa18de3": {
       "attrs": {
        "height": 0.8,
        "width": 0.8,
        "x": 0.1,
        "y": 0.1
       },
       "content": {
        "cell": "960ca8fe-97db-4103-8638-25a1411ebaef",
        "part": "whole"
       },
       "id": "ab02635f-c332-4d07-ba7a-ac89ffa18de3"
      }
     }
    },
    "62ce99e7-8f9a-4093-85f9-e8b325dd8e2d": {
     "id": "62ce99e7-8f9a-4093-85f9-e8b325dd8e2d",
     "prev": "b62db43c-4313-403c-908d-bb8c58ca6ceb",
     "regions": {
      "ccd1437b-0290-4c28-a012-40b5fdc0b223": {
       "attrs": {
        "height": 0.8,
        "width": 0.8,
        "x": 0.1,
        "y": 0.1
       },
       "content": {
        "cell": "8213fc7c-ed51-4189-a63f-33914b22ca65",
        "part": "whole"
       },
       "id": "ccd1437b-0290-4c28-a012-40b5fdc0b223"
      }
     }
    },
    "69cde802-fb22-4ac8-aeea-7e5ded7b6cbd": {
     "id": "69cde802-fb22-4ac8-aeea-7e5ded7b6cbd",
     "prev": "62ce99e7-8f9a-4093-85f9-e8b325dd8e2d",
     "regions": {
      "95c9dd4d-1b0c-4d5e-b863-4641fe6940d2": {
       "attrs": {
        "height": 0.8,
        "width": 0.8,
        "x": 0.1,
        "y": 0.1
       },
       "content": {
        "cell": "e1d2d182-5e88-46d6-b4dd-56224572810f",
        "part": "whole"
       },
       "id": "95c9dd4d-1b0c-4d5e-b863-4641fe6940d2"
      }
     }
    },
    "6b64907a-279b-408a-953d-4e92012032ce": {
     "id": "6b64907a-279b-408a-953d-4e92012032ce",
     "prev": "7031dd0f-8721-48db-a8cc-a2c1c81c3ba1",
     "regions": {
      "975016ad-ddbb-4e0a-aca9-f139fdfcd4e4": {
       "attrs": {
        "height": 0.8,
        "width": 0.8,
        "x": 0.1,
        "y": 0.1
       },
       "content": {
        "cell": "10e719f2-8f96-4f43-beab-4c263bfd0965",
        "part": "whole"
       },
       "id": "975016ad-ddbb-4e0a-aca9-f139fdfcd4e4"
      }
     }
    },
    "6c4ef61e-8a83-43d7-996b-1328b9ab63ee": {
     "id": "6c4ef61e-8a83-43d7-996b-1328b9ab63ee",
     "prev": "eb39362c-1597-4aed-9c45-9fa345d48921",
     "regions": {
      "68ad720d-a809-4f95-bd64-a1af2dbc658e": {
       "attrs": {
        "height": 0.8,
        "width": 0.8,
        "x": 0.1,
        "y": 0.1
       },
       "content": {
        "cell": "3f0477b2-54ca-4a13-a3e8-7442096436b8",
        "part": "whole"
       },
       "id": "68ad720d-a809-4f95-bd64-a1af2dbc658e"
      }
     }
    },
    "7031dd0f-8721-48db-a8cc-a2c1c81c3ba1": {
     "id": "7031dd0f-8721-48db-a8cc-a2c1c81c3ba1",
     "prev": "3dffea02-3982-474a-8f96-28624537cdc3",
     "regions": {
      "2dc70fa4-7ed9-4eb7-8eda-eecc664ee7a8": {
       "attrs": {
        "height": 0.8,
        "width": 0.8,
        "x": 0.1,
        "y": 0.1
       },
       "content": {
        "cell": "c69c425a-72b2-4a73-9853-b62d7c1d9117",
        "part": "whole"
       },
       "id": "2dc70fa4-7ed9-4eb7-8eda-eecc664ee7a8"
      }
     }
    },
    "708ce9f7-fbfb-4c6e-98df-671818b905bd": {
     "id": "708ce9f7-fbfb-4c6e-98df-671818b905bd",
     "prev": "c129e99a-a5dd-4b87-a44a-c5caca26297d",
     "regions": {
      "70a2dd76-9783-4624-bded-54067b7b2c97": {
       "attrs": {
        "height": 0.8,
        "width": 0.8,
        "x": 0.1,
        "y": 0.1
       },
       "content": {
        "cell": "2b73c2b5-843c-4efe-8900-47ed30621743",
        "part": "whole"
       },
       "id": "70a2dd76-9783-4624-bded-54067b7b2c97"
      }
     }
    },
    "72c12de6-a0ab-4bb0-8cb2-c2d834265f02": {
     "id": "72c12de6-a0ab-4bb0-8cb2-c2d834265f02",
     "prev": "d3e1b2d2-e9af-4df1-a236-bd38cf2a0431",
     "regions": {
      "9629ce67-cd17-4e5c-a412-af91cf36a233": {
       "attrs": {
        "height": 0.8,
        "width": 0.8,
        "x": 0.1,
        "y": 0.1
       },
       "content": {
        "cell": "7b45342f-179f-48aa-8811-9f949df574b7",
        "part": "whole"
       },
       "id": "9629ce67-cd17-4e5c-a412-af91cf36a233"
      }
     }
    },
    "771e0b31-319c-4f1a-a094-f86be8dd0332": {
     "id": "771e0b31-319c-4f1a-a094-f86be8dd0332",
     "prev": "1b45fdf3-3e49-4f85-9979-0251a5cd7b90",
     "regions": {
      "5dc1c25a-95eb-49f4-8ab1-64961fc1897b": {
       "attrs": {
        "height": 0.8,
        "width": 0.8,
        "x": 0.1,
        "y": 0.1
       },
       "content": {
        "cell": "a6a4439d-61ec-494a-9d64-9f89439dc25f",
        "part": "whole"
       },
       "id": "5dc1c25a-95eb-49f4-8ab1-64961fc1897b"
      }
     }
    },
    "788d8dcc-6574-4a57-89a6-f76a17235377": {
     "id": "788d8dcc-6574-4a57-89a6-f76a17235377",
     "prev": "3e24f2dd-14ed-4175-be81-fcbe680ca4de",
     "regions": {
      "7034bbe7-c234-460c-9248-ac15291e0a1c": {
       "attrs": {
        "height": 0.8,
        "width": 0.8,
        "x": 0.1,
        "y": 0.1
       },
       "content": {
        "cell": "9cca194d-e406-44ae-af19-2b6ad5947b80",
        "part": "whole"
       },
       "id": "7034bbe7-c234-460c-9248-ac15291e0a1c"
      }
     }
    },
    "7974322e-f27c-45b5-ac7e-0e4ab9f63c76": {
     "id": "7974322e-f27c-45b5-ac7e-0e4ab9f63c76",
     "prev": "d9703323-09c1-4447-a70b-373559fdd08f",
     "regions": {
      "fafec10c-b413-460d-8fc2-52567eddacb7": {
       "attrs": {
        "height": 0.8,
        "width": 0.8,
        "x": 0.1,
        "y": 0.1
       },
       "content": {
        "cell": "2a963a78-0419-4f66-bfeb-13eaf9a006c8",
        "part": "whole"
       },
       "id": "fafec10c-b413-460d-8fc2-52567eddacb7"
      }
     }
    },
    "800a7d52-13fe-492f-882c-3fd04965f1fb": {
     "id": "800a7d52-13fe-492f-882c-3fd04965f1fb",
     "prev": "cba11091-37a8-448a-bc17-9261097c858f",
     "regions": {
      "654cee54-cc8d-4301-b8a9-70a588e739bb": {
       "attrs": {
        "height": 0.8,
        "width": 0.8,
        "x": 0.1,
        "y": 0.1
       },
       "content": {
        "cell": "019f3f69-0039-457c-bbcf-599b762897dc",
        "part": "whole"
       },
       "id": "654cee54-cc8d-4301-b8a9-70a588e739bb"
      }
     }
    },
    "90cb0fb0-82a7-4fea-a3d0-e6a5da0bc86f": {
     "id": "90cb0fb0-82a7-4fea-a3d0-e6a5da0bc86f",
     "prev": "771e0b31-319c-4f1a-a094-f86be8dd0332",
     "regions": {
      "ade9cd93-7801-4eb4-b763-86c436059c4f": {
       "attrs": {
        "height": 0.8,
        "width": 0.8,
        "x": 0.1,
        "y": 0.1
       },
       "content": {
        "cell": "7a431b66-251d-42a0-a9a7-6fb6847e09fa",
        "part": "whole"
       },
       "id": "ade9cd93-7801-4eb4-b763-86c436059c4f"
      }
     }
    },
    "9e21a432-fcaa-41b4-88e7-f87858a54c1b": {
     "id": "9e21a432-fcaa-41b4-88e7-f87858a54c1b",
     "prev": "fa68eb55-2b3b-457b-b57e-430908040ffd",
     "regions": {
      "9c13eb63-b4e7-40bc-b3f0-049879a6d582": {
       "attrs": {
        "height": 0.8,
        "width": 0.8,
        "x": 0.1,
        "y": 0.1
       },
       "content": {
        "cell": "e9196682-a4fc-464f-a341-cfe5f15114cf",
        "part": "whole"
       },
       "id": "9c13eb63-b4e7-40bc-b3f0-049879a6d582"
      }
     }
    },
    "a1ad934d-7e76-415e-8e2d-772ebe60069d": {
     "id": "a1ad934d-7e76-415e-8e2d-772ebe60069d",
     "prev": "e77b17f4-855f-49f5-b6c6-21b2fbf9ac9b",
     "regions": {
      "a617af0e-2738-4cb0-8c7e-689da3d395b9": {
       "attrs": {
        "height": 0.8,
        "width": 0.8,
        "x": 0.1,
        "y": 0.1
       },
       "content": {
        "cell": "533fbeac-f27a-4a7a-a6c5-d660f86b0cf7",
        "part": "whole"
       },
       "id": "a617af0e-2738-4cb0-8c7e-689da3d395b9"
      }
     }
    },
    "a53f11f5-9106-403b-840e-e2dc26ba368c": {
     "id": "a53f11f5-9106-403b-840e-e2dc26ba368c",
     "prev": "46d0e846-837f-47ab-acf8-36f4ebe0253e",
     "regions": {
      "1ab39cf6-e1f0-4fce-b733-a6df636b9c23": {
       "attrs": {
        "height": 0.8,
        "width": 0.8,
        "x": 0.1,
        "y": 0.1
       },
       "content": {
        "cell": "c3161d79-7623-48f1-8ae1-68e0f26ac5c6",
        "part": "whole"
       },
       "id": "1ab39cf6-e1f0-4fce-b733-a6df636b9c23"
      }
     }
    },
    "a7e95885-24e6-473f-91a0-a49ca129aaec": {
     "id": "a7e95885-24e6-473f-91a0-a49ca129aaec",
     "prev": "3d74cd84-8e9e-495f-8bc4-ffd6a399c902",
     "regions": {
      "a2470323-6c69-4392-8cd1-794ef9e5424e": {
       "attrs": {
        "height": 0.8,
        "width": 0.8,
        "x": 0.1,
        "y": 0.1
       },
       "content": {
        "cell": "ddf8fb4f-bd09-46ed-90e6-85f2cf3d044a",
        "part": "whole"
       },
       "id": "a2470323-6c69-4392-8cd1-794ef9e5424e"
      }
     }
    },
    "aaa7375b-4125-4b73-815f-113f0af317e9": {
     "id": "aaa7375b-4125-4b73-815f-113f0af317e9",
     "prev": "46cb8beb-3338-4a1f-b960-9ff409bd2a8b",
     "regions": {
      "d3872fef-fce3-4fab-95ad-f0f116516fa0": {
       "attrs": {
        "height": 0.8,
        "width": 0.8,
        "x": 0.1,
        "y": 0.1
       },
       "content": {
        "cell": "e0a07bbe-7ea1-4703-9588-d074bac0d126",
        "part": "whole"
       },
       "id": "d3872fef-fce3-4fab-95ad-f0f116516fa0"
      }
     }
    },
    "b4b5e69f-1310-48fa-a2c1-41c99efa0352": {
     "id": "b4b5e69f-1310-48fa-a2c1-41c99efa0352",
     "prev": "6c4ef61e-8a83-43d7-996b-1328b9ab63ee",
     "regions": {
      "168517db-042f-4ce9-8bdf-7627fa0419ba": {
       "attrs": {
        "height": 0.8,
        "width": 0.8,
        "x": 0.1,
        "y": 0.1
       },
       "content": {
        "cell": "cbbf7198-d887-4514-9a55-28462421fc27",
        "part": "whole"
       },
       "id": "168517db-042f-4ce9-8bdf-7627fa0419ba"
      }
     }
    },
    "b62db43c-4313-403c-908d-bb8c58ca6ceb": {
     "id": "b62db43c-4313-403c-908d-bb8c58ca6ceb",
     "layout": "manual",
     "prev": "5c24f843-b9f0-44a7-8ab2-8efa762e70df",
     "regions": {
      "9ca32506-6439-4083-a3c4-f67b070d15f5": {
       "attrs": {
        "height": 0.9999999851192746,
        "treemap:weight": 1,
        "width": 0.9999996041727043,
        "x": 0,
        "y": 0
       },
       "content": {
        "cell": "c65a9bb6-a01e-4af4-8931-16ff76a365c2",
        "part": "whole"
       },
       "id": "9ca32506-6439-4083-a3c4-f67b070d15f5"
      }
     }
    },
    "c129e99a-a5dd-4b87-a44a-c5caca26297d": {
     "id": "c129e99a-a5dd-4b87-a44a-c5caca26297d",
     "prev": "cd315d37-959a-4fad-9bee-5c7df2f88ddf",
     "regions": {
      "775bab68-5111-42b9-b57e-ffe2f19fbc9c": {
       "attrs": {
        "height": 0.8,
        "width": 0.8,
        "x": 0.1,
        "y": 0.1
       },
       "content": {
        "cell": "edca49c4-eafc-4ede-81e3-8008e9486c56",
        "part": "whole"
       },
       "id": "775bab68-5111-42b9-b57e-ffe2f19fbc9c"
      }
     }
    },
    "c76edb49-1ec4-4057-93c0-5fd2886da515": {
     "id": "c76edb49-1ec4-4057-93c0-5fd2886da515",
     "prev": "ff0de01f-566a-4382-89eb-cde9d744b4a0",
     "regions": {
      "84752e89-a52e-4f08-bbb8-8efae72c799f": {
       "attrs": {
        "height": 0.8,
        "width": 0.8,
        "x": 0.1,
        "y": 0.1
       },
       "content": {
        "cell": "2bd0edae-177a-422c-b923-ae9378f173d5",
        "part": "whole"
       },
       "id": "84752e89-a52e-4f08-bbb8-8efae72c799f"
      }
     }
    },
    "cba11091-37a8-448a-bc17-9261097c858f": {
     "id": "cba11091-37a8-448a-bc17-9261097c858f",
     "prev": "2c940b4b-714d-4462-86f0-f621ddfe7444",
     "regions": {
      "9bb4ae79-3701-48e6-8931-286b9cce2121": {
       "attrs": {
        "height": 0.8,
        "width": 0.8,
        "x": 0.1,
        "y": 0.1
       },
       "content": {
        "cell": "62b0bafd-38a4-4c62-832c-e1a5e5632c1b",
        "part": "whole"
       },
       "id": "9bb4ae79-3701-48e6-8931-286b9cce2121"
      }
     }
    },
    "cd315d37-959a-4fad-9bee-5c7df2f88ddf": {
     "id": "cd315d37-959a-4fad-9bee-5c7df2f88ddf",
     "prev": "de2ee4bd-7df9-46a8-918b-5e6e5a7aa9a6",
     "regions": {
      "1ce77873-5e3a-4281-8a5b-b8c572745b62": {
       "attrs": {
        "height": 0.8,
        "width": 0.8,
        "x": 0.1,
        "y": 0.1
       },
       "content": {
        "cell": "c19593d0-3e17-4a75-a441-2ecfba0056a1",
        "part": "whole"
       },
       "id": "1ce77873-5e3a-4281-8a5b-b8c572745b62"
      }
     }
    },
    "d3e1b2d2-e9af-4df1-a236-bd38cf2a0431": {
     "id": "d3e1b2d2-e9af-4df1-a236-bd38cf2a0431",
     "prev": "01841015-3069-4139-bfee-b98463df2fb1",
     "regions": {
      "0b6ced2a-ef8e-4135-97a3-78d8e0ee0c03": {
       "attrs": {
        "height": 0.8,
        "width": 0.8,
        "x": 0.1,
        "y": 0.1
       },
       "content": {
        "cell": "16d8171f-ec0e-4ffe-8401-cbc01ffc68ef",
        "part": "whole"
       },
       "id": "0b6ced2a-ef8e-4135-97a3-78d8e0ee0c03"
      }
     }
    },
    "d51c4f90-9a88-4eed-be9d-6c8e37da99c7": {
     "id": "d51c4f90-9a88-4eed-be9d-6c8e37da99c7",
     "prev": "4b7f6c22-383c-44a1-b8a8-7aaff7225fa8",
     "regions": {
      "c80bd416-7e72-481a-8c71-2a8cd1aa57b7": {
       "attrs": {
        "height": 0.8,
        "width": 0.8,
        "x": 0.1,
        "y": 0.1
       },
       "content": {
        "cell": "614d896e-a972-4898-a748-40b4b086fc3b",
        "part": "whole"
       },
       "id": "c80bd416-7e72-481a-8c71-2a8cd1aa57b7"
      }
     }
    },
    "d611a4a1-697f-458e-80e6-de1e22709673": {
     "id": "d611a4a1-697f-458e-80e6-de1e22709673",
     "prev": "aaa7375b-4125-4b73-815f-113f0af317e9",
     "regions": {
      "635b716a-a7f5-4a2d-9604-b7466c9d096e": {
       "attrs": {
        "height": 0.8,
        "width": 0.8,
        "x": 0.1,
        "y": 0.1
       },
       "content": {
        "cell": "38984b24-d19a-4e75-8ada-e405fc3ed8c2",
        "part": "whole"
       },
       "id": "635b716a-a7f5-4a2d-9604-b7466c9d096e"
      }
     }
    },
    "d9703323-09c1-4447-a70b-373559fdd08f": {
     "id": "d9703323-09c1-4447-a70b-373559fdd08f",
     "prev": "6b64907a-279b-408a-953d-4e92012032ce",
     "regions": {
      "2bbba5a1-b4c8-4a8e-b89f-e3db951737b4": {
       "attrs": {
        "height": 0.8,
        "width": 0.8,
        "x": 0.1,
        "y": 0.1
       },
       "content": {
        "cell": "1426daa0-0569-4328-9209-e477ca12e9d8",
        "part": "whole"
       },
       "id": "2bbba5a1-b4c8-4a8e-b89f-e3db951737b4"
      }
     }
    },
    "da0b6422-b2f7-45fb-9103-6b0e7d9e2cd2": {
     "id": "da0b6422-b2f7-45fb-9103-6b0e7d9e2cd2",
     "prev": "2af2c1ed-7aad-41c4-b159-7e0cfa526b43",
     "regions": {
      "4cbe9239-fada-4beb-893f-0919f6386c9c": {
       "attrs": {
        "height": 0.8,
        "width": 0.8,
        "x": 0.1,
        "y": 0.1
       },
       "content": {
        "cell": "af4b8e78-74c0-414c-ba61-9d1fda57d0b5",
        "part": "whole"
       },
       "id": "4cbe9239-fada-4beb-893f-0919f6386c9c"
      }
     }
    },
    "de2ee4bd-7df9-46a8-918b-5e6e5a7aa9a6": {
     "id": "de2ee4bd-7df9-46a8-918b-5e6e5a7aa9a6",
     "prev": "52febaaf-0319-4743-9647-552fd9d3a1c1",
     "regions": {
      "8938207d-e099-4aed-92b6-36582db70e35": {
       "attrs": {
        "height": 0.8,
        "width": 0.8,
        "x": 0.1,
        "y": 0.1
       },
       "content": {
        "cell": "92eaab02-79ed-4cbf-807a-eb6402d36ab7",
        "part": "whole"
       },
       "id": "8938207d-e099-4aed-92b6-36582db70e35"
      }
     }
    },
    "e3255fda-aa69-4c74-b95f-ddf3d4b9ba00": {
     "id": "e3255fda-aa69-4c74-b95f-ddf3d4b9ba00",
     "prev": "2e4b6f5d-c70f-47e1-8b02-e7bfdaa10029",
     "regions": {
      "9e43e045-d7f3-4786-b855-9d6e6f65515f": {
       "attrs": {
        "height": 0.8,
        "width": 0.8,
        "x": 0.1,
        "y": 0.1
       },
       "content": {
        "cell": "7175e031-6035-404d-a5cd-3918aa909f60",
        "part": "whole"
       },
       "id": "9e43e045-d7f3-4786-b855-9d6e6f65515f"
      }
     }
    },
    "e600ec58-321f-4e93-9013-a1437d4fb5de": {
     "id": "e600ec58-321f-4e93-9013-a1437d4fb5de",
     "prev": "593bba80-cff1-4b12-bb7e-56691d9fce74",
     "regions": {
      "5b55a62e-89bc-4f92-8ec8-77b486bd23a4": {
       "attrs": {
        "height": 0.8,
        "width": 0.8,
        "x": 0.1,
        "y": 0.1
       },
       "content": {
        "cell": "369ceb34-cbd0-4d05-8913-4320ca13eb4f",
        "part": "whole"
       },
       "id": "5b55a62e-89bc-4f92-8ec8-77b486bd23a4"
      }
     }
    },
    "e77b17f4-855f-49f5-b6c6-21b2fbf9ac9b": {
     "id": "e77b17f4-855f-49f5-b6c6-21b2fbf9ac9b",
     "prev": "49975dc7-b33c-40e5-b1e9-df02d35752d8",
     "regions": {
      "caee6663-8aed-400c-8c69-4d44c64b09c9": {
       "attrs": {
        "height": 0.8,
        "width": 0.8,
        "x": 0.1,
        "y": 0.1
       },
       "content": {
        "cell": "d78a14fc-dddb-4087-b260-1bdb5a33d2c8",
        "part": "whole"
       },
       "id": "caee6663-8aed-400c-8c69-4d44c64b09c9"
      }
     }
    },
    "eb39362c-1597-4aed-9c45-9fa345d48921": {
     "id": "eb39362c-1597-4aed-9c45-9fa345d48921",
     "prev": "03b81b99-099f-4848-8969-3b5c428e6a04",
     "regions": {
      "e3fbd798-9216-4fba-8a5c-41728572aaf9": {
       "attrs": {
        "height": 0.8,
        "width": 0.8,
        "x": 0.1,
        "y": 0.1
       },
       "content": {
        "cell": "54222e84-b7d7-42f2-b839-a244f096932b",
        "part": "whole"
       },
       "id": "e3fbd798-9216-4fba-8a5c-41728572aaf9"
      }
     }
    },
    "efab65c1-e30b-418b-8607-0246e1e35eb1": {
     "id": "efab65c1-e30b-418b-8607-0246e1e35eb1",
     "prev": "f4e2a243-2e38-4e62-b176-a7897d00d6fe",
     "regions": {
      "5a650f1e-6166-471e-96ea-0ae5d3d15b88": {
       "attrs": {
        "height": 0.8,
        "width": 0.8,
        "x": 0.1,
        "y": 0.1
       },
       "content": {
        "cell": "1240ad92-4c26-484d-b493-06c378838ff5",
        "part": "whole"
       },
       "id": "5a650f1e-6166-471e-96ea-0ae5d3d15b88"
      }
     }
    },
    "f4e2a243-2e38-4e62-b176-a7897d00d6fe": {
     "id": "f4e2a243-2e38-4e62-b176-a7897d00d6fe",
     "prev": "30c5d567-d5dc-4933-8564-d15df761c6d8",
     "regions": {
      "a36414fb-61f4-4b35-b27c-a7547d466278": {
       "attrs": {
        "height": 0.8,
        "width": 0.8,
        "x": 0.1,
        "y": 0.1
       },
       "content": {
        "cell": "28d16f97-650e-4d0f-ab15-7307c999d97e",
        "part": "whole"
       },
       "id": "a36414fb-61f4-4b35-b27c-a7547d466278"
      }
     }
    },
    "fa68eb55-2b3b-457b-b57e-430908040ffd": {
     "id": "fa68eb55-2b3b-457b-b57e-430908040ffd",
     "prev": "7974322e-f27c-45b5-ac7e-0e4ab9f63c76",
     "regions": {
      "b4217d7a-fe8c-4e28-a05a-86cb48f5fe95": {
       "attrs": {
        "height": 0.8,
        "width": 0.8,
        "x": 0.1,
        "y": 0.1
       },
       "content": {
        "cell": "029dd76f-0422-46d3-b645-548b1812680b",
        "part": "whole"
       },
       "id": "b4217d7a-fe8c-4e28-a05a-86cb48f5fe95"
      }
     }
    },
    "fa6bb6da-333e-478a-aa7e-845c560672d4": {
     "id": "fa6bb6da-333e-478a-aa7e-845c560672d4",
     "prev": "206ac769-4c05-47d6-8c79-b06748ddde2d",
     "regions": {
      "3d1b5a54-c58d-49b2-b39e-e25bb2a0b553": {
       "attrs": {
        "height": 0.8,
        "width": 0.8,
        "x": 0.1,
        "y": 0.1
       },
       "content": {
        "cell": "db7e627d-601b-4227-85e3-f52cd299cf42",
        "part": "whole"
       },
       "id": "3d1b5a54-c58d-49b2-b39e-e25bb2a0b553"
      }
     }
    },
    "ff0de01f-566a-4382-89eb-cde9d744b4a0": {
     "id": "ff0de01f-566a-4382-89eb-cde9d744b4a0",
     "prev": "49111ff6-2c5c-4ffd-8374-6d58646f798a",
     "regions": {
      "ed530d6c-1fca-4bd8-a59b-55adca36028e": {
       "attrs": {
        "height": 0.8,
        "width": 0.8,
        "x": 0.1,
        "y": 0.1
       },
       "content": {
        "cell": "d88160ef-368e-4cfc-aa3e-6f76ad77b5ad",
        "part": "whole"
       },
       "id": "ed530d6c-1fca-4bd8-a59b-55adca36028e"
      }
     }
    }
   },
   "themes": {}
  }
 },
 "nbformat": 4,
 "nbformat_minor": 2
}
